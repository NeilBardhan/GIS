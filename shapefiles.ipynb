{
 "cells": [
  {
   "cell_type": "markdown",
   "metadata": {},
   "source": [
    "# Handling Shapefiles in Python"
   ]
  },
  {
   "cell_type": "markdown",
   "metadata": {},
   "source": [
    "Shapefiles are one of the most popular file formats for storing **vector** geospatial data. The shapefile was created by **[Esri](https://www.esri.com/en-us/home)**, the makers of ArcGIS in the early 1990s. You can take a deep dive into the whitepaper **[here](https://www.esri.com/library/whitepapers/pdfs/shapefile.pdf)**.\n",
    "\n",
    "**[GADM](https://gadm.org/download_country_v3.html)** is a great source from where you can download shapefiles for the country of your choice. I will be using the shapefiles of **Switzerland** for this example.\n",
    "\n",
    "Shapefiles have a file extension of `.shp` After downloading the `.zip` file and extracting the contents, you should note two important things.\n",
    "1. The data are arranged into a hierarchy. The filenames end with $adm_{0}$, $adm_{1}$ or $adm_{n}$. They indicate the levels of **administrative regions** in that country. \n",
    "    *  $adm_{0}$ indicates that the shapefile contains geometric data pertaining to the National/Federal level. \n",
    "    *  $adm_{1}$ indicates that the shapefile contains geometric data for the states and provinical level.\n",
    "    * The levels get finer in granularity based on how many divisions of government there are in a single country. Switzerland only has administrative levels up to $adm_{1}$, the United States has administrative levels down to $adm_{2}$ (county/district). \n",
    "    *  Other geometric datasets might have finer levels of granularity. When looking for geospatial data, always ensure that you have the correct granularity of the data. If you are working on mapping public transport routes a shapefile containing town/city level granularity might better suit your needs than a shapefile with state/province granularity.\n",
    "2. Apart from the `.shp` file there are files bearing the same name and having different extensions. Let us look at what they signify. \n",
    "    * `.shp` - This is the main data file. It is a variable-record-length file in which each record describes a **shape with a list of its geometries**.\n",
    "    * `.shx` - This is the **Index file**. Each record contains the offset of the corresponding main file record from the beginning of the main file.\n",
    "    * `.dbf` - This is the dBASE Table file. **DBF contains feature attributes** with one record per feature. The one-to-one relationship between geometry and attributes is based on record number. Attribute records in the dBASE file must be in the same order as records in the main file.\n",
    "    * `.cpg` - An optional file that can be used to specify the codepage for **identifying the character set** to be used.\n",
    "    * `.prj` - Projections Definition file; **stores coordinate system information**.\n",
    "    \n",
    "The `.shp`, `.shx` and `.prj` files must always be in the same directory structure. Failing that would make a singular shapefile unreadable as we would lose the index data along with the record locators for geospatial **features**.\n",
    "\n",
    "A shapefile can only contain **features** of a single type. A shapefile of Points can only accommodate Point geometries. Similarly a shapefile of Lines can only have Line geometries and so on. If we want to analyze the prevalence of hospitals in a certain country, we would need 2 separate shapefiles, one containing the Polygons (by administrative region; district/county or state) and one containing the Points (hospital location data). We can then overlay the Points shapefile on top of the Polygon shapefile and conduct our analysis."
   ]
  },
  {
   "cell_type": "markdown",
   "metadata": {},
   "source": [
    "## Opening Shapefiles in QGIS"
   ]
  },
  {
   "cell_type": "markdown",
   "metadata": {},
   "source": [
    "There are plenty of ways to view the contents of a shapefile. The quickest and easiest way to do so is to use **[QGIS]( https://qgis.org/en/site/forusers/download.html)**, a powerful GIS mapping software. To load a shapefile into QGIS, simply follow these steps - \n",
    "  1. Assuming you have QGIS installed, open the program.\n",
    "  2. From the menu bar, **Layer** $->$ **Add Layer** $->$ **Add Vector Layer...**\n",
    "  3. Select your **Source Type** as `File`.\n",
    "  4. From the **Source** textbox, navigate to the directory containing your `.shp` file.\n",
    "  5. Select the `.shp` file, and click on the **add** button to **add** the shapefile as a layer to the QGIS project.\n",
    "  6. You can repeat this process to add more shapefiles into the project from the same dialog box. Once completed, hit **Close**."
   ]
  },
  {
   "cell_type": "markdown",
   "metadata": {},
   "source": [
    "## Handling Shapefiles using Python"
   ]
  },
  {
   "cell_type": "markdown",
   "metadata": {},
   "source": [
    "While QGIS is very convenient it is a manual process. To overcome that we need to be able to handle shapefiles programmatically. In Python this can be done using the excellent **[geopandas](https://geopandas.org/)** library."
   ]
  },
  {
   "cell_type": "markdown",
   "metadata": {},
   "source": [
    "### Importing Libraries"
   ]
  },
  {
   "cell_type": "code",
   "execution_count": 1,
   "metadata": {
    "ExecuteTime": {
     "end_time": "2020-07-09T02:14:58.540864Z",
     "start_time": "2020-07-09T02:14:57.059864Z"
    }
   },
   "outputs": [],
   "source": [
    "import os\n",
    "import geopandas as gpd\n",
    "import ipyleaflet\n",
    "import ipywidgets\n",
    "import numpy as np"
   ]
  },
  {
   "cell_type": "code",
   "execution_count": 2,
   "metadata": {
    "ExecuteTime": {
     "end_time": "2020-07-09T02:14:58.545871Z",
     "start_time": "2020-07-09T02:14:58.542865Z"
    }
   },
   "outputs": [],
   "source": [
    "# os.chdir('..')\n",
    "DATA_PATH = '//swiss-shapefiles//'\n",
    "file_name = 'CHE_adm0.shp'"
   ]
  },
  {
   "cell_type": "markdown",
   "metadata": {},
   "source": [
    "### Reading in the Shapefile"
   ]
  },
  {
   "cell_type": "code",
   "execution_count": 3,
   "metadata": {
    "ExecuteTime": {
     "end_time": "2020-07-09T02:14:58.737868Z",
     "start_time": "2020-07-09T02:14:58.548881Z"
    },
    "scrolled": true
   },
   "outputs": [
    {
     "data": {
      "text/html": [
       "<div>\n",
       "<style scoped>\n",
       "    .dataframe tbody tr th:only-of-type {\n",
       "        vertical-align: middle;\n",
       "    }\n",
       "\n",
       "    .dataframe tbody tr th {\n",
       "        vertical-align: top;\n",
       "    }\n",
       "\n",
       "    .dataframe thead th {\n",
       "        text-align: right;\n",
       "    }\n",
       "</style>\n",
       "<table border=\"1\" class=\"dataframe\">\n",
       "  <thead>\n",
       "    <tr style=\"text-align: right;\">\n",
       "      <th></th>\n",
       "      <th>ID_0</th>\n",
       "      <th>ISO</th>\n",
       "      <th>NAME_ENGLI</th>\n",
       "      <th>NAME_ISO</th>\n",
       "      <th>NAME_FAO</th>\n",
       "      <th>NAME_LOCAL</th>\n",
       "      <th>NAME_OBSOL</th>\n",
       "      <th>NAME_VARIA</th>\n",
       "      <th>NAME_NONLA</th>\n",
       "      <th>NAME_FRENC</th>\n",
       "      <th>...</th>\n",
       "      <th>CARICOM</th>\n",
       "      <th>EU</th>\n",
       "      <th>CAN</th>\n",
       "      <th>ACP</th>\n",
       "      <th>Landlocked</th>\n",
       "      <th>AOSIS</th>\n",
       "      <th>SIDS</th>\n",
       "      <th>Islands</th>\n",
       "      <th>LDC</th>\n",
       "      <th>geometry</th>\n",
       "    </tr>\n",
       "  </thead>\n",
       "  <tbody>\n",
       "    <tr>\n",
       "      <th>0</th>\n",
       "      <td>223</td>\n",
       "      <td>CHE</td>\n",
       "      <td>Switzerland</td>\n",
       "      <td>SWITZERLAND</td>\n",
       "      <td>Switzerland</td>\n",
       "      <td>Schweiz|Suisse|Svizzera</td>\n",
       "      <td>None</td>\n",
       "      <td>Schweiz|Svizzera|Svizra|Swiss Confederation|Co...</td>\n",
       "      <td>None</td>\n",
       "      <td>Suisse</td>\n",
       "      <td>...</td>\n",
       "      <td>0.0</td>\n",
       "      <td>0.0</td>\n",
       "      <td>0.0</td>\n",
       "      <td>0.0</td>\n",
       "      <td>1.0</td>\n",
       "      <td>0.0</td>\n",
       "      <td>0.0</td>\n",
       "      <td>0.0</td>\n",
       "      <td>0.0</td>\n",
       "      <td>MULTIPOLYGON (((10.22766 46.61207, 10.22734 46...</td>\n",
       "    </tr>\n",
       "  </tbody>\n",
       "</table>\n",
       "<p>1 rows × 68 columns</p>\n",
       "</div>"
      ],
      "text/plain": [
       "   ID_0  ISO   NAME_ENGLI     NAME_ISO     NAME_FAO               NAME_LOCAL  \\\n",
       "0   223  CHE  Switzerland  SWITZERLAND  Switzerland  Schweiz|Suisse|Svizzera   \n",
       "\n",
       "  NAME_OBSOL                                         NAME_VARIA NAME_NONLA  \\\n",
       "0       None  Schweiz|Svizzera|Svizra|Swiss Confederation|Co...       None   \n",
       "\n",
       "  NAME_FRENC  ... CARICOM   EU  CAN  ACP Landlocked AOSIS SIDS Islands  LDC  \\\n",
       "0     Suisse  ...     0.0  0.0  0.0  0.0        1.0   0.0  0.0     0.0  0.0   \n",
       "\n",
       "                                            geometry  \n",
       "0  MULTIPOLYGON (((10.22766 46.61207, 10.22734 46...  \n",
       "\n",
       "[1 rows x 68 columns]"
      ]
     },
     "execution_count": 3,
     "metadata": {},
     "output_type": "execute_result"
    }
   ],
   "source": [
    "swiss = gpd.read_file(os.getcwd() + DATA_PATH + file_name)\n",
    "swiss.head()"
   ]
  },
  {
   "cell_type": "markdown",
   "metadata": {},
   "source": [
    "We can read in shapefiles by passing in the `.shp` file to `geopandas`' `read_file` function. `geopanadas` generates a `GeoDataFrame` object, similar to a Pandas dataframe. Each row in a `GeoDataFrame` is a **Feature**. The `geometry` column of a `GeoDataFrame` row contains the geometric objects defined in the shapefile for that Feature. The other columns are the contextual attributes (name, id) of that place.\n",
    "Multiple rows indicate that the shapefile is a **FeatureCollection** containing multiple, different geometric objects **of the same shape (points, lines, polygons).**"
   ]
  },
  {
   "cell_type": "markdown",
   "metadata": {},
   "source": [
    "### Visualizing the Shapefile"
   ]
  },
  {
   "cell_type": "markdown",
   "metadata": {},
   "source": [
    "Geospatial data is all about shapes. The first step of checking if you have the right geospatial data is to plot it on a **basemap**. Plotting forms the starting point of geospatial data science. It gives you an idea of the types of shapes you will be working with, the geographic scale of the data and the number of **features**. To visualize this shapefile, I am using **[ipyleaflet](https://ipyleaflet.readthedocs.io/en/latest/index.html)**, a powerful extension of **leaflet** for use in Jupyter Notebooks."
   ]
  },
  {
   "cell_type": "code",
   "execution_count": 4,
   "metadata": {
    "ExecuteTime": {
     "end_time": "2020-07-09T02:14:58.748925Z",
     "start_time": "2020-07-09T02:14:58.740864Z"
    }
   },
   "outputs": [
    {
     "name": "stdout",
     "output_type": "stream",
     "text": [
      "POINT (8.230251523818328 46.80106704687775)\n"
     ]
    }
   ],
   "source": [
    "map_center = swiss['geometry'].centroid[0]\n",
    "print(map_center)"
   ]
  },
  {
   "cell_type": "code",
   "execution_count": 5,
   "metadata": {
    "ExecuteTime": {
     "end_time": "2020-07-09T02:14:59.302865Z",
     "start_time": "2020-07-09T02:14:58.750869Z"
    }
   },
   "outputs": [
    {
     "data": {
      "application/vnd.jupyter.widget-view+json": {
       "model_id": "bef3363230124be9af0a0354bb58b3a5",
       "version_major": 2,
       "version_minor": 0
      },
      "text/plain": [
       "Map(center=[46.801067046877755, 8.230251523818328], controls=(ZoomControl(options=['position', 'zoom_in_text',…"
      ]
     },
     "metadata": {},
     "output_type": "display_data"
    }
   ],
   "source": [
    "m = ipyleaflet.Map(center=[map_center.y, map_center.x], zoom=7)\n",
    "topo_layer = ipyleaflet.basemap_to_tiles(ipyleaflet.basemaps.Esri.WorldTopoMap)\n",
    "m.add_layer(topo_layer)\n",
    "swiss_layer = ipyleaflet.GeoData(geo_dataframe=swiss,\n",
    "                                      style={\n",
    "                                          'color': 'black',\n",
    "                                          'opacity': 1,\n",
    "                                          'fillOpacity': 0.5,\n",
    "                                          'weight': 1,\n",
    "                                          'fillColor': '#01796F'\n",
    "                                      })\n",
    "m.add_layer(swiss_layer)\n",
    "m"
   ]
  },
  {
   "cell_type": "markdown",
   "metadata": {},
   "source": [
    "The above 2 cells initialize and plot our shapefile. `ipyleaflet` requires that maps have a **center** and a **zoom** level. I recommend setting the center to the **centroid** of your `GeoDataFrame`. The zoom level can be experimented with and set according to your preferences.\n",
    "\n",
    "The $adm_{0}$ files will plot the geographical boundaries of the country. Since, the geographical boundaries form a closed shape, we have one feature, a `MultiPolygon` displayed on the above map, certain countries will have multiple features because of multiple disconnected parts forming one geopolitical entity. Let's look into the $adm_{1}$ shapefile."
   ]
  },
  {
   "cell_type": "code",
   "execution_count": 6,
   "metadata": {
    "ExecuteTime": {
     "end_time": "2020-07-09T02:14:59.425867Z",
     "start_time": "2020-07-09T02:14:59.304867Z"
    }
   },
   "outputs": [
    {
     "name": "stdout",
     "output_type": "stream",
     "text": [
      "(26, 13)\n"
     ]
    },
    {
     "data": {
      "text/html": [
       "<div>\n",
       "<style scoped>\n",
       "    .dataframe tbody tr th:only-of-type {\n",
       "        vertical-align: middle;\n",
       "    }\n",
       "\n",
       "    .dataframe tbody tr th {\n",
       "        vertical-align: top;\n",
       "    }\n",
       "\n",
       "    .dataframe thead th {\n",
       "        text-align: right;\n",
       "    }\n",
       "</style>\n",
       "<table border=\"1\" class=\"dataframe\">\n",
       "  <thead>\n",
       "    <tr style=\"text-align: right;\">\n",
       "      <th></th>\n",
       "      <th>ID_0</th>\n",
       "      <th>ISO</th>\n",
       "      <th>NAME_0</th>\n",
       "      <th>ID_1</th>\n",
       "      <th>NAME_1</th>\n",
       "      <th>HASC_1</th>\n",
       "      <th>CCN_1</th>\n",
       "      <th>CCA_1</th>\n",
       "      <th>TYPE_1</th>\n",
       "      <th>ENGTYPE_1</th>\n",
       "      <th>NL_NAME_1</th>\n",
       "      <th>VARNAME_1</th>\n",
       "      <th>geometry</th>\n",
       "    </tr>\n",
       "  </thead>\n",
       "  <tbody>\n",
       "    <tr>\n",
       "      <th>0</th>\n",
       "      <td>223</td>\n",
       "      <td>CHE</td>\n",
       "      <td>Switzerland</td>\n",
       "      <td>1</td>\n",
       "      <td>Aargau</td>\n",
       "      <td>CH.AG</td>\n",
       "      <td>0</td>\n",
       "      <td>None</td>\n",
       "      <td>Canton|Kanton|Chantun</td>\n",
       "      <td>Canton</td>\n",
       "      <td>None</td>\n",
       "      <td>Argovia|Arg¢via|Argovie</td>\n",
       "      <td>POLYGON ((8.22654 47.60509, 8.22665 47.60507, ...</td>\n",
       "    </tr>\n",
       "    <tr>\n",
       "      <th>1</th>\n",
       "      <td>223</td>\n",
       "      <td>CHE</td>\n",
       "      <td>Switzerland</td>\n",
       "      <td>2</td>\n",
       "      <td>Appenzell Ausserrhoden</td>\n",
       "      <td>CH.AR</td>\n",
       "      <td>0</td>\n",
       "      <td>None</td>\n",
       "      <td>Canton|Kanton|Chantun</td>\n",
       "      <td>Canton</td>\n",
       "      <td>None</td>\n",
       "      <td>Appenzell Ausser-Rhoden|Appenzell Outer Rhodes...</td>\n",
       "      <td>POLYGON ((9.54239 47.47059, 9.54387 47.47031, ...</td>\n",
       "    </tr>\n",
       "    <tr>\n",
       "      <th>2</th>\n",
       "      <td>223</td>\n",
       "      <td>CHE</td>\n",
       "      <td>Switzerland</td>\n",
       "      <td>3</td>\n",
       "      <td>Appenzell Innerrhoden</td>\n",
       "      <td>CH.AI</td>\n",
       "      <td>0</td>\n",
       "      <td>None</td>\n",
       "      <td>Canton|Kanton|Chantun</td>\n",
       "      <td>Canton</td>\n",
       "      <td>None</td>\n",
       "      <td>Appenzell Inner-Rhoden|Appenzell Inner Rhodes|...</td>\n",
       "      <td>MULTIPOLYGON (((9.37930 47.38512, 9.37944 47.3...</td>\n",
       "    </tr>\n",
       "    <tr>\n",
       "      <th>3</th>\n",
       "      <td>223</td>\n",
       "      <td>CHE</td>\n",
       "      <td>Switzerland</td>\n",
       "      <td>4</td>\n",
       "      <td>Basel-Landschaft</td>\n",
       "      <td>CH.BL</td>\n",
       "      <td>0</td>\n",
       "      <td>None</td>\n",
       "      <td>Canton|Kanton|Chantun</td>\n",
       "      <td>Canton</td>\n",
       "      <td>None</td>\n",
       "      <td>Bâle-Campagne|Basel-Country|Baselland|Basel-La...</td>\n",
       "      <td>MULTIPOLYGON (((7.38339 47.41924, 7.38057 47.4...</td>\n",
       "    </tr>\n",
       "    <tr>\n",
       "      <th>4</th>\n",
       "      <td>223</td>\n",
       "      <td>CHE</td>\n",
       "      <td>Switzerland</td>\n",
       "      <td>5</td>\n",
       "      <td>Basel-Stadt</td>\n",
       "      <td>CH.BS</td>\n",
       "      <td>0</td>\n",
       "      <td>None</td>\n",
       "      <td>Canton|Kanton|Chantun</td>\n",
       "      <td>Canton</td>\n",
       "      <td>None</td>\n",
       "      <td>Bâle-Ville|Basel-City|Basel-Town|Basilea-Citad...</td>\n",
       "      <td>POLYGON ((7.69256 47.59924, 7.69163 47.59853, ...</td>\n",
       "    </tr>\n",
       "  </tbody>\n",
       "</table>\n",
       "</div>"
      ],
      "text/plain": [
       "   ID_0  ISO       NAME_0  ID_1                  NAME_1 HASC_1  CCN_1 CCA_1  \\\n",
       "0   223  CHE  Switzerland     1                  Aargau  CH.AG      0  None   \n",
       "1   223  CHE  Switzerland     2  Appenzell Ausserrhoden  CH.AR      0  None   \n",
       "2   223  CHE  Switzerland     3   Appenzell Innerrhoden  CH.AI      0  None   \n",
       "3   223  CHE  Switzerland     4        Basel-Landschaft  CH.BL      0  None   \n",
       "4   223  CHE  Switzerland     5             Basel-Stadt  CH.BS      0  None   \n",
       "\n",
       "                  TYPE_1 ENGTYPE_1 NL_NAME_1  \\\n",
       "0  Canton|Kanton|Chantun    Canton      None   \n",
       "1  Canton|Kanton|Chantun    Canton      None   \n",
       "2  Canton|Kanton|Chantun    Canton      None   \n",
       "3  Canton|Kanton|Chantun    Canton      None   \n",
       "4  Canton|Kanton|Chantun    Canton      None   \n",
       "\n",
       "                                           VARNAME_1  \\\n",
       "0                            Argovia|Arg¢via|Argovie   \n",
       "1  Appenzell Ausser-Rhoden|Appenzell Outer Rhodes...   \n",
       "2  Appenzell Inner-Rhoden|Appenzell Inner Rhodes|...   \n",
       "3  Bâle-Campagne|Basel-Country|Baselland|Basel-La...   \n",
       "4  Bâle-Ville|Basel-City|Basel-Town|Basilea-Citad...   \n",
       "\n",
       "                                            geometry  \n",
       "0  POLYGON ((8.22654 47.60509, 8.22665 47.60507, ...  \n",
       "1  POLYGON ((9.54239 47.47059, 9.54387 47.47031, ...  \n",
       "2  MULTIPOLYGON (((9.37930 47.38512, 9.37944 47.3...  \n",
       "3  MULTIPOLYGON (((7.38339 47.41924, 7.38057 47.4...  \n",
       "4  POLYGON ((7.69256 47.59924, 7.69163 47.59853, ...  "
      ]
     },
     "execution_count": 6,
     "metadata": {},
     "output_type": "execute_result"
    }
   ],
   "source": [
    "canton_file = 'CHE_adm1.shp'\n",
    "swiss_cantons = gpd.read_file(os.getcwd() + DATA_PATH + canton_file, encoding='utf-8')\n",
    "print(swiss_cantons.shape)\n",
    "swiss_cantons.head()"
   ]
  },
  {
   "cell_type": "markdown",
   "metadata": {},
   "source": [
    "The provincial level regions in Switzerland are called **[Cantons](https://en.wikipedia.org/wiki/Cantons_of_Switzerland)**. There are 26 cantons in Switzerland and 26 rows in our `GeoDataFrame`, each row is a Feature containing the `geometry` and attributes of the cantons as visualized below"
   ]
  },
  {
   "cell_type": "code",
   "execution_count": 7,
   "metadata": {
    "ExecuteTime": {
     "end_time": "2020-07-09T02:15:01.284867Z",
     "start_time": "2020-07-09T02:14:59.429876Z"
    },
    "scrolled": false
   },
   "outputs": [
    {
     "data": {
      "application/vnd.jupyter.widget-view+json": {
       "model_id": "d4e9b9a69a744da6aa1143611a867f41",
       "version_major": 2,
       "version_minor": 0
      },
      "text/plain": [
       "Map(center=[46.801067046877755, 8.230251523818328], controls=(ZoomControl(options=['position', 'zoom_in_text',…"
      ]
     },
     "metadata": {},
     "output_type": "display_data"
    }
   ],
   "source": [
    "m0 = ipyleaflet.Map(center=[map_center.y, map_center.x], zoom=7)\n",
    "topo_layer = ipyleaflet.basemap_to_tiles(ipyleaflet.basemaps.Esri.WorldTopoMap)\n",
    "swiss_layer = ipyleaflet.GeoData(geo_dataframe=swiss_cantons,\n",
    "                                      style={\n",
    "                                          'color': 'black',\n",
    "                                          'opacity': 1,\n",
    "                                          'fillOpacity': 0.4,\n",
    "                                          'weight': 1,\n",
    "                                          'fillColor': '#01796F'\n",
    "                                      },\n",
    "                                hover_style={\n",
    "                                    'fillOpacity' : 0.8\n",
    "                                })\n",
    "m0.add_layer(topo_layer)\n",
    "m0.add_layer(swiss_layer)\n",
    "m0"
   ]
  },
  {
   "cell_type": "markdown",
   "metadata": {},
   "source": [
    "We've now been able to get the cantons onto the map. However, we would ideally like more contextual information, for example, _what is the name of the Canton that contains the city Lausanne?_ \n",
    "\n",
    "To interact with the map, we need to use certain functionalities and widgets to display the dynamically changing data. In the following code snippet, I display the name of the Canton when we hover on the corresponding Canton."
   ]
  },
  {
   "cell_type": "code",
   "execution_count": 8,
   "metadata": {
    "ExecuteTime": {
     "end_time": "2020-07-09T02:15:01.292867Z",
     "start_time": "2020-07-09T02:15:01.289865Z"
    }
   },
   "outputs": [],
   "source": [
    "# cantons = []\n",
    "# for i, obj in swiss_cantons.iterrows():\n",
    "# #     print(obj['NAME_1'])\n",
    "#     cantons.append(obj['NAME_1'])\n",
    "# cantons\n",
    "# color_list = ['#%02x%02x%02x' % tuple(np.random.choice(range(256), size=3)) for i in range(swiss_cantons.shape[0])]\n",
    "# color_list"
   ]
  },
  {
   "cell_type": "code",
   "execution_count": 9,
   "metadata": {
    "ExecuteTime": {
     "end_time": "2020-07-09T02:15:01.300872Z",
     "start_time": "2020-07-09T02:15:01.295883Z"
    },
    "scrolled": false
   },
   "outputs": [],
   "source": [
    "# swiss_cantons['MAP_COLOR'] = color_list\n",
    "# swiss_cantons"
   ]
  },
  {
   "cell_type": "code",
   "execution_count": 10,
   "metadata": {
    "ExecuteTime": {
     "end_time": "2020-07-09T02:15:01.308881Z",
     "start_time": "2020-07-09T02:15:01.304868Z"
    }
   },
   "outputs": [],
   "source": [
    "# def show_color(feature):\n",
    "#     return {\n",
    "#         'color': 'black',\n",
    "#         'fillColor': feature['MAP_COLOR'],\n",
    "#     }"
   ]
  },
  {
   "cell_type": "code",
   "execution_count": 11,
   "metadata": {
    "ExecuteTime": {
     "end_time": "2020-07-09T02:15:01.321869Z",
     "start_time": "2020-07-09T02:15:01.312868Z"
    }
   },
   "outputs": [],
   "source": [
    "def hover_handler(event=None, feature=None, id=None, properties=None):\n",
    "    label.value = properties['NAME_1']"
   ]
  },
  {
   "cell_type": "code",
   "execution_count": 12,
   "metadata": {
    "ExecuteTime": {
     "end_time": "2020-07-09T02:15:03.079891Z",
     "start_time": "2020-07-09T02:15:01.327886Z"
    }
   },
   "outputs": [
    {
     "data": {
      "application/vnd.jupyter.widget-view+json": {
       "model_id": "009106bb110149b08ea04b37944354e8",
       "version_major": 2,
       "version_minor": 0
      },
      "text/plain": [
       "VBox(children=(Map(center=[46.801067046877755, 8.230251523818328], controls=(ZoomControl(options=['position', …"
      ]
     },
     "metadata": {},
     "output_type": "display_data"
    }
   ],
   "source": [
    "m1 = ipyleaflet.Map(center = [map_center.y, map_center.x], zoom = 7)\n",
    "label = ipywidgets.Label(layout = ipywidgets.Layout(width='100%', height='100%'))\n",
    "\n",
    "topo_layer = ipyleaflet.basemap_to_tiles(ipyleaflet.basemaps.Esri.WorldTopoMap)\n",
    "swiss_layer = ipyleaflet.GeoData(geo_dataframe=swiss_cantons,\n",
    "                                      style={\n",
    "                                          'color': 'black',\n",
    "                                          'opacity': 1,\n",
    "                                          'fillOpacity': 0.4,\n",
    "                                          'weight': 1,\n",
    "                                          'fillColor': '#01796F'\n",
    "                                      },\n",
    "                                hover_style={\n",
    "                                    'fillOpacity' : 0.8\n",
    "                                })\n",
    "swiss_layer.on_hover(hover_handler)\n",
    "m1.add_layer(topo_layer)\n",
    "m1.add_layer(swiss_layer)\n",
    "# m\n",
    "ipywidgets.VBox([m1, label])"
   ]
  },
  {
   "cell_type": "markdown",
   "metadata": {},
   "source": [
    "Now, on hovering over the canton in the map we can see the name in the bottom left corner of the code cell. We can improve upon this by using HTML widgets."
   ]
  },
  {
   "cell_type": "code",
   "execution_count": 13,
   "metadata": {
    "ExecuteTime": {
     "end_time": "2020-07-09T02:15:03.087865Z",
     "start_time": "2020-07-09T02:15:03.082886Z"
    }
   },
   "outputs": [],
   "source": [
    "def update_html(feature, **kwargs):\n",
    "    html.value = '''<center><h3><b>{}</b></h3></center>'''.format(feature['properties']['NAME_1'])"
   ]
  },
  {
   "cell_type": "code",
   "execution_count": 14,
   "metadata": {
    "ExecuteTime": {
     "end_time": "2020-07-09T02:15:04.788897Z",
     "start_time": "2020-07-09T02:15:03.089866Z"
    }
   },
   "outputs": [
    {
     "data": {
      "application/vnd.jupyter.widget-view+json": {
       "model_id": "db74f16be81e489687fb47c8f114ae72",
       "version_major": 2,
       "version_minor": 0
      },
      "text/plain": [
       "Map(center=[46.801067046877755, 8.230251523818328], controls=(ZoomControl(options=['position', 'zoom_in_text',…"
      ]
     },
     "metadata": {},
     "output_type": "display_data"
    }
   ],
   "source": [
    "html = ipywidgets.HTML('''Hover Over Countries''')\n",
    "html.layout.margin = '0px 20px 20px 20px'\n",
    "\n",
    "m2 = ipyleaflet.Map(center = [map_center.y, map_center.x], zoom = 7)\n",
    "\n",
    "topo_layer = ipyleaflet.basemap_to_tiles(ipyleaflet.basemaps.Esri.WorldTopoMap)\n",
    "swiss_cantons_layer = ipyleaflet.GeoData(geo_dataframe=swiss_cantons,\n",
    "                                      style={\n",
    "                                          'color': 'black',\n",
    "                                          'opacity': 1,\n",
    "                                          'fillOpacity': 0.4,\n",
    "                                          'weight': 1,\n",
    "                                          'fillColor': '#01796F'\n",
    "                                      },\n",
    "                                hover_style={\n",
    "                                    'fillOpacity' : 0.8\n",
    "                                })\n",
    "control = ipyleaflet.WidgetControl(widget=html, position='bottomleft')\n",
    "m2.add_control(control)\n",
    "swiss_cantons_layer.on_hover(update_html)\n",
    "m2.add_layer(topo_layer)\n",
    "m2.add_layer(swiss_cantons_layer)\n",
    "# swiss_layer.on_hover(update_html)\n",
    "m2"
   ]
  },
  {
   "cell_type": "markdown",
   "metadata": {},
   "source": [
    "### Centroids"
   ]
  },
  {
   "cell_type": "markdown",
   "metadata": {},
   "source": [
    "Geometric data is all shapes. Closed shapes (polygons) have **centroids**. The centroid (**geometric center of a plane figure**) of a polygon is the arithmetic mean position of all the points in the polygon. The **centroid** of a polygon is a **Point** geometry and is easily found out in python."
   ]
  },
  {
   "cell_type": "code",
   "execution_count": 15,
   "metadata": {
    "ExecuteTime": {
     "end_time": "2020-07-09T02:15:04.797866Z",
     "start_time": "2020-07-09T02:15:04.790865Z"
    }
   },
   "outputs": [
    {
     "name": "stdout",
     "output_type": "stream",
     "text": [
      "POINT (8.230251523818328 46.80106704687775)\n"
     ]
    }
   ],
   "source": [
    "### Centroid of Switzerland\n",
    "\n",
    "swiss_centroid = swiss['geometry'].centroid[0]\n",
    "print(swiss_centroid)"
   ]
  },
  {
   "cell_type": "code",
   "execution_count": 16,
   "metadata": {
    "ExecuteTime": {
     "end_time": "2020-07-09T02:15:04.853870Z",
     "start_time": "2020-07-09T02:15:04.799867Z"
    }
   },
   "outputs": [
    {
     "name": "stdout",
     "output_type": "stream",
     "text": [
      "Aargau :: POINT (8.159107457803776 47.41091382599529)\n",
      "Appenzell Ausserrhoden :: POINT (9.371218296804853 47.36770801854865)\n",
      "Appenzell Innerrhoden :: POINT (9.416684654238205 47.31776017229677)\n",
      "Basel-Landschaft :: POINT (7.706498526055554 47.45521394911853)\n",
      "Basel-Stadt :: POINT (7.615066682035792 47.56606264622859)\n",
      "Bern :: POINT (7.626701810505604 46.82493777625525)\n",
      "Fribourg :: POINT (7.076662020414035 46.72012949612054)\n",
      "Genève :: POINT (6.13349889038628 46.22099058740971)\n",
      "Glarus :: POINT (9.06554400305923 46.98051753136855)\n",
      "Graubünden :: POINT (9.629932177895077 46.65817533545275)\n",
      "Jura :: POINT (7.157452713550271 47.35278882137715)\n",
      "Lucerne :: POINT (8.117760646613418 47.06892886757846)\n",
      "Neuchâtel :: POINT (6.782287532449554 46.99728247052034)\n",
      "Nidwalden :: POINT (8.410935714511448 46.92606647452552)\n",
      "Obwalden :: POINT (8.243895020538337 46.85232067651296)\n",
      "Sankt Gallen :: POINT (9.268769801767876 47.22927353055314)\n",
      "Schaffhausen :: POINT (8.590297964952109 47.71930163889149)\n",
      "Schwyz :: POINT (8.761568460029801 47.06410983995465)\n",
      "Solothurn :: POINT (7.64335692975377 47.30720546605105)\n",
      "Thurgau :: POINT (9.112572665471955 47.5672049833109)\n",
      "Ticino :: POINT (8.808447087581131 46.29796290885048)\n",
      "Uri :: POINT (8.627444341659702 46.77540220120788)\n",
      "Valais :: POINT (7.611267430777167 46.21163305953951)\n",
      "Vaud :: POINT (6.65896466454826 46.57164298184192)\n",
      "Zürich :: POINT (8.655987523570941 47.41740746051615)\n",
      "Zug :: POINT (8.538864211397827 47.16140231670156)\n"
     ]
    }
   ],
   "source": [
    "### Centroids of all Cantons\n",
    "centers_ls = []\n",
    "for i, row in swiss_cantons.iterrows():\n",
    "    centers_ls.append(row['geometry'].centroid)\n",
    "    print(row['NAME_1'], \"::\" ,row['geometry'].centroid)"
   ]
  },
  {
   "cell_type": "markdown",
   "metadata": {},
   "source": [
    "They are easily visualized as well."
   ]
  },
  {
   "cell_type": "code",
   "execution_count": 17,
   "metadata": {
    "ExecuteTime": {
     "end_time": "2020-07-09T02:15:06.994881Z",
     "start_time": "2020-07-09T02:15:04.859867Z"
    }
   },
   "outputs": [
    {
     "data": {
      "application/vnd.jupyter.widget-view+json": {
       "model_id": "55933b612927430dba649b55d72418a9",
       "version_major": 2,
       "version_minor": 0
      },
      "text/plain": [
       "Map(center=[46.801067046877755, 8.230251523818328], controls=(ZoomControl(options=['position', 'zoom_in_text',…"
      ]
     },
     "metadata": {},
     "output_type": "display_data"
    }
   ],
   "source": [
    "m3 = ipyleaflet.Map(center=[map_center.y, map_center.x], zoom=7)\n",
    "topo_layer = ipyleaflet.basemap_to_tiles(ipyleaflet.basemaps.Esri.WorldTopoMap)\n",
    "swiss_layer = ipyleaflet.GeoData(geo_dataframe=swiss_cantons,\n",
    "                                      style={\n",
    "                                          'color': 'black',\n",
    "                                          'opacity': 1,\n",
    "                                          'fillOpacity': 0.4,\n",
    "                                          'weight': 1,\n",
    "                                          'fillColor': '#01796F'\n",
    "                                      })\n",
    "m3.add_layer(topo_layer)\n",
    "m3.add_layer(swiss_layer)\n",
    "for i, row in swiss_cantons.iterrows():\n",
    "    message = ipywidgets.HTML()\n",
    "    message.value = str(round(row['geometry'].centroid.y, 3)) + ',' + str(round(row['geometry'].centroid.x, 3))\n",
    "    message.description = row['NAME_1'] + ' ::'\n",
    "    \n",
    "    circle_marker = ipyleaflet.CircleMarker()\n",
    "    circle_marker.location = [row['geometry'].centroid.y, row['geometry'].centroid.x]\n",
    "    circle_marker.radius = 2\n",
    "    circle_marker.color = \"black\"\n",
    "    circle_marker.fill_color = \"black\"\n",
    "    circle_marker.popup = message\n",
    "    m3.add_layer(circle_marker)\n",
    "m3"
   ]
  },
  {
   "cell_type": "markdown",
   "metadata": {},
   "source": [
    "We can add these centroids as the new `geometry` column to our `GeoDataFrame` and write the new `GeoDataFrame` to a shapefile. We are replacing the old `geometry` because a single shapefile cannot support 2 geometries."
   ]
  },
  {
   "cell_type": "code",
   "execution_count": 18,
   "metadata": {
    "ExecuteTime": {
     "end_time": "2020-07-09T02:15:07.043866Z",
     "start_time": "2020-07-09T02:15:06.998865Z"
    },
    "scrolled": false
   },
   "outputs": [
    {
     "data": {
      "text/html": [
       "<div>\n",
       "<style scoped>\n",
       "    .dataframe tbody tr th:only-of-type {\n",
       "        vertical-align: middle;\n",
       "    }\n",
       "\n",
       "    .dataframe tbody tr th {\n",
       "        vertical-align: top;\n",
       "    }\n",
       "\n",
       "    .dataframe thead th {\n",
       "        text-align: right;\n",
       "    }\n",
       "</style>\n",
       "<table border=\"1\" class=\"dataframe\">\n",
       "  <thead>\n",
       "    <tr style=\"text-align: right;\">\n",
       "      <th></th>\n",
       "      <th>ID_0</th>\n",
       "      <th>ISO</th>\n",
       "      <th>NAME_0</th>\n",
       "      <th>ID_1</th>\n",
       "      <th>NAME_1</th>\n",
       "      <th>HASC_1</th>\n",
       "      <th>CCN_1</th>\n",
       "      <th>CCA_1</th>\n",
       "      <th>TYPE_1</th>\n",
       "      <th>ENGTYPE_1</th>\n",
       "      <th>NL_NAME_1</th>\n",
       "      <th>VARNAME_1</th>\n",
       "      <th>geometry</th>\n",
       "    </tr>\n",
       "  </thead>\n",
       "  <tbody>\n",
       "    <tr>\n",
       "      <th>0</th>\n",
       "      <td>223</td>\n",
       "      <td>CHE</td>\n",
       "      <td>Switzerland</td>\n",
       "      <td>1</td>\n",
       "      <td>Aargau</td>\n",
       "      <td>CH.AG</td>\n",
       "      <td>0</td>\n",
       "      <td>None</td>\n",
       "      <td>Canton|Kanton|Chantun</td>\n",
       "      <td>Canton</td>\n",
       "      <td>None</td>\n",
       "      <td>Argovia|Arg¢via|Argovie</td>\n",
       "      <td>POINT (8.159107457803776 47.41091382599529)</td>\n",
       "    </tr>\n",
       "    <tr>\n",
       "      <th>1</th>\n",
       "      <td>223</td>\n",
       "      <td>CHE</td>\n",
       "      <td>Switzerland</td>\n",
       "      <td>2</td>\n",
       "      <td>Appenzell Ausserrhoden</td>\n",
       "      <td>CH.AR</td>\n",
       "      <td>0</td>\n",
       "      <td>None</td>\n",
       "      <td>Canton|Kanton|Chantun</td>\n",
       "      <td>Canton</td>\n",
       "      <td>None</td>\n",
       "      <td>Appenzell Ausser-Rhoden|Appenzell Outer Rhodes...</td>\n",
       "      <td>POINT (9.371218296804853 47.36770801854865)</td>\n",
       "    </tr>\n",
       "    <tr>\n",
       "      <th>2</th>\n",
       "      <td>223</td>\n",
       "      <td>CHE</td>\n",
       "      <td>Switzerland</td>\n",
       "      <td>3</td>\n",
       "      <td>Appenzell Innerrhoden</td>\n",
       "      <td>CH.AI</td>\n",
       "      <td>0</td>\n",
       "      <td>None</td>\n",
       "      <td>Canton|Kanton|Chantun</td>\n",
       "      <td>Canton</td>\n",
       "      <td>None</td>\n",
       "      <td>Appenzell Inner-Rhoden|Appenzell Inner Rhodes|...</td>\n",
       "      <td>POINT (9.416684654238205 47.31776017229677)</td>\n",
       "    </tr>\n",
       "    <tr>\n",
       "      <th>3</th>\n",
       "      <td>223</td>\n",
       "      <td>CHE</td>\n",
       "      <td>Switzerland</td>\n",
       "      <td>4</td>\n",
       "      <td>Basel-Landschaft</td>\n",
       "      <td>CH.BL</td>\n",
       "      <td>0</td>\n",
       "      <td>None</td>\n",
       "      <td>Canton|Kanton|Chantun</td>\n",
       "      <td>Canton</td>\n",
       "      <td>None</td>\n",
       "      <td>Bâle-Campagne|Basel-Country|Baselland|Basel-La...</td>\n",
       "      <td>POINT (7.706498526055554 47.45521394911853)</td>\n",
       "    </tr>\n",
       "    <tr>\n",
       "      <th>4</th>\n",
       "      <td>223</td>\n",
       "      <td>CHE</td>\n",
       "      <td>Switzerland</td>\n",
       "      <td>5</td>\n",
       "      <td>Basel-Stadt</td>\n",
       "      <td>CH.BS</td>\n",
       "      <td>0</td>\n",
       "      <td>None</td>\n",
       "      <td>Canton|Kanton|Chantun</td>\n",
       "      <td>Canton</td>\n",
       "      <td>None</td>\n",
       "      <td>Bâle-Ville|Basel-City|Basel-Town|Basilea-Citad...</td>\n",
       "      <td>POINT (7.615066682035792 47.56606264622859)</td>\n",
       "    </tr>\n",
       "    <tr>\n",
       "      <th>5</th>\n",
       "      <td>223</td>\n",
       "      <td>CHE</td>\n",
       "      <td>Switzerland</td>\n",
       "      <td>6</td>\n",
       "      <td>Bern</td>\n",
       "      <td>CH.BE</td>\n",
       "      <td>0</td>\n",
       "      <td>None</td>\n",
       "      <td>Canton|Kanton|Chantun</td>\n",
       "      <td>Canton</td>\n",
       "      <td>None</td>\n",
       "      <td>Berna|Berne</td>\n",
       "      <td>POINT (7.626701810505604 46.82493777625525)</td>\n",
       "    </tr>\n",
       "    <tr>\n",
       "      <th>6</th>\n",
       "      <td>223</td>\n",
       "      <td>CHE</td>\n",
       "      <td>Switzerland</td>\n",
       "      <td>7</td>\n",
       "      <td>Fribourg</td>\n",
       "      <td>CH.FR</td>\n",
       "      <td>0</td>\n",
       "      <td>None</td>\n",
       "      <td>Canton|Kanton|Chantun</td>\n",
       "      <td>Canton</td>\n",
       "      <td>None</td>\n",
       "      <td>Freiburg|Friburg|Friburgo</td>\n",
       "      <td>POINT (7.076662020414035 46.72012949612054)</td>\n",
       "    </tr>\n",
       "    <tr>\n",
       "      <th>7</th>\n",
       "      <td>223</td>\n",
       "      <td>CHE</td>\n",
       "      <td>Switzerland</td>\n",
       "      <td>8</td>\n",
       "      <td>Genève</td>\n",
       "      <td>CH.GE</td>\n",
       "      <td>0</td>\n",
       "      <td>None</td>\n",
       "      <td>Canton|Kanton|Chantun</td>\n",
       "      <td>Canton</td>\n",
       "      <td>None</td>\n",
       "      <td>Cenevre|Genebra|Geneve|Geneva|Genevra|Genf|Gin...</td>\n",
       "      <td>POINT (6.13349889038628 46.22099058740971)</td>\n",
       "    </tr>\n",
       "    <tr>\n",
       "      <th>8</th>\n",
       "      <td>223</td>\n",
       "      <td>CHE</td>\n",
       "      <td>Switzerland</td>\n",
       "      <td>9</td>\n",
       "      <td>Glarus</td>\n",
       "      <td>CH.GL</td>\n",
       "      <td>0</td>\n",
       "      <td>None</td>\n",
       "      <td>Canton|Kanton|Chantun</td>\n",
       "      <td>Canton</td>\n",
       "      <td>None</td>\n",
       "      <td>Glaris|Glarona|Glaruna</td>\n",
       "      <td>POINT (9.06554400305923 46.98051753136855)</td>\n",
       "    </tr>\n",
       "    <tr>\n",
       "      <th>9</th>\n",
       "      <td>223</td>\n",
       "      <td>CHE</td>\n",
       "      <td>Switzerland</td>\n",
       "      <td>10</td>\n",
       "      <td>Graubünden</td>\n",
       "      <td>CH.GR</td>\n",
       "      <td>0</td>\n",
       "      <td>None</td>\n",
       "      <td>Canton|Kanton|Chantun</td>\n",
       "      <td>Canton</td>\n",
       "      <td>None</td>\n",
       "      <td>Graubünden|Grigioni|Grischun|Grisons</td>\n",
       "      <td>POINT (9.629932177895077 46.65817533545275)</td>\n",
       "    </tr>\n",
       "    <tr>\n",
       "      <th>10</th>\n",
       "      <td>223</td>\n",
       "      <td>CHE</td>\n",
       "      <td>Switzerland</td>\n",
       "      <td>11</td>\n",
       "      <td>Jura</td>\n",
       "      <td>CH.JU</td>\n",
       "      <td>0</td>\n",
       "      <td>None</td>\n",
       "      <td>Canton|Kanton|Chantun</td>\n",
       "      <td>Canton</td>\n",
       "      <td>None</td>\n",
       "      <td>Giura</td>\n",
       "      <td>POINT (7.157452713550271 47.35278882137715)</td>\n",
       "    </tr>\n",
       "    <tr>\n",
       "      <th>11</th>\n",
       "      <td>223</td>\n",
       "      <td>CHE</td>\n",
       "      <td>Switzerland</td>\n",
       "      <td>12</td>\n",
       "      <td>Lucerne</td>\n",
       "      <td>CH.LU</td>\n",
       "      <td>0</td>\n",
       "      <td>None</td>\n",
       "      <td>Canton|Kanton|Chantun</td>\n",
       "      <td>Canton</td>\n",
       "      <td>None</td>\n",
       "      <td>Lucerna|Luzern</td>\n",
       "      <td>POINT (8.117760646613418 47.06892886757846)</td>\n",
       "    </tr>\n",
       "    <tr>\n",
       "      <th>12</th>\n",
       "      <td>223</td>\n",
       "      <td>CHE</td>\n",
       "      <td>Switzerland</td>\n",
       "      <td>13</td>\n",
       "      <td>Neuchâtel</td>\n",
       "      <td>CH.NE</td>\n",
       "      <td>0</td>\n",
       "      <td>None</td>\n",
       "      <td>Canton|Kanton|Chantun</td>\n",
       "      <td>Canton</td>\n",
       "      <td>None</td>\n",
       "      <td>Neuenburg</td>\n",
       "      <td>POINT (6.782287532449554 46.99728247052034)</td>\n",
       "    </tr>\n",
       "    <tr>\n",
       "      <th>13</th>\n",
       "      <td>223</td>\n",
       "      <td>CHE</td>\n",
       "      <td>Switzerland</td>\n",
       "      <td>14</td>\n",
       "      <td>Nidwalden</td>\n",
       "      <td>CH.NW</td>\n",
       "      <td>0</td>\n",
       "      <td>None</td>\n",
       "      <td>Canton|Kanton|Chantun</td>\n",
       "      <td>Canton</td>\n",
       "      <td>None</td>\n",
       "      <td>Nidvaldo|Nidwald|Unterwalden-le-Bas|Nidwaldo</td>\n",
       "      <td>POINT (8.410935714511448 46.92606647452552)</td>\n",
       "    </tr>\n",
       "    <tr>\n",
       "      <th>14</th>\n",
       "      <td>223</td>\n",
       "      <td>CHE</td>\n",
       "      <td>Switzerland</td>\n",
       "      <td>15</td>\n",
       "      <td>Obwalden</td>\n",
       "      <td>CH.OW</td>\n",
       "      <td>0</td>\n",
       "      <td>None</td>\n",
       "      <td>Canton|Kanton|Chantun</td>\n",
       "      <td>Canton</td>\n",
       "      <td>None</td>\n",
       "      <td>Obvaldo|Obwald|Unterwalden-le-Haut|Obwaldo|Sur...</td>\n",
       "      <td>POINT (8.243895020538337 46.85232067651296)</td>\n",
       "    </tr>\n",
       "    <tr>\n",
       "      <th>15</th>\n",
       "      <td>223</td>\n",
       "      <td>CHE</td>\n",
       "      <td>Switzerland</td>\n",
       "      <td>16</td>\n",
       "      <td>Sankt Gallen</td>\n",
       "      <td>CH.SG</td>\n",
       "      <td>0</td>\n",
       "      <td>None</td>\n",
       "      <td>Canton|Kanton|Chantun</td>\n",
       "      <td>Canton</td>\n",
       "      <td>None</td>\n",
       "      <td>Saint-Gall|San Gallo|Son Gagl</td>\n",
       "      <td>POINT (9.268769801767876 47.22927353055314)</td>\n",
       "    </tr>\n",
       "    <tr>\n",
       "      <th>16</th>\n",
       "      <td>223</td>\n",
       "      <td>CHE</td>\n",
       "      <td>Switzerland</td>\n",
       "      <td>17</td>\n",
       "      <td>Schaffhausen</td>\n",
       "      <td>CH.SH</td>\n",
       "      <td>0</td>\n",
       "      <td>None</td>\n",
       "      <td>Canton|Kanton|Chantun</td>\n",
       "      <td>Canton</td>\n",
       "      <td>None</td>\n",
       "      <td>Schaffhouse|Schaffusa|Sciaffusa</td>\n",
       "      <td>POINT (8.590297964952109 47.71930163889149)</td>\n",
       "    </tr>\n",
       "    <tr>\n",
       "      <th>17</th>\n",
       "      <td>223</td>\n",
       "      <td>CHE</td>\n",
       "      <td>Switzerland</td>\n",
       "      <td>18</td>\n",
       "      <td>Schwyz</td>\n",
       "      <td>CH.SZ</td>\n",
       "      <td>0</td>\n",
       "      <td>None</td>\n",
       "      <td>Canton|Kanton|Chantun</td>\n",
       "      <td>Canton</td>\n",
       "      <td>None</td>\n",
       "      <td>None</td>\n",
       "      <td>POINT (8.761568460029801 47.06410983995465)</td>\n",
       "    </tr>\n",
       "    <tr>\n",
       "      <th>18</th>\n",
       "      <td>223</td>\n",
       "      <td>CHE</td>\n",
       "      <td>Switzerland</td>\n",
       "      <td>19</td>\n",
       "      <td>Solothurn</td>\n",
       "      <td>CH.SO</td>\n",
       "      <td>0</td>\n",
       "      <td>None</td>\n",
       "      <td>Canton|Kanton|Chantun</td>\n",
       "      <td>Canton</td>\n",
       "      <td>None</td>\n",
       "      <td>Soletta|Soleure|Soleuro|Soloturn</td>\n",
       "      <td>POINT (7.64335692975377 47.30720546605105)</td>\n",
       "    </tr>\n",
       "    <tr>\n",
       "      <th>19</th>\n",
       "      <td>223</td>\n",
       "      <td>CHE</td>\n",
       "      <td>Switzerland</td>\n",
       "      <td>20</td>\n",
       "      <td>Thurgau</td>\n",
       "      <td>CH.TG</td>\n",
       "      <td>0</td>\n",
       "      <td>None</td>\n",
       "      <td>Canton|Kanton|Chantun</td>\n",
       "      <td>Canton</td>\n",
       "      <td>None</td>\n",
       "      <td>Thurgovie|Turgovia|Turg¢via</td>\n",
       "      <td>POINT (9.112572665471955 47.5672049833109)</td>\n",
       "    </tr>\n",
       "    <tr>\n",
       "      <th>20</th>\n",
       "      <td>223</td>\n",
       "      <td>CHE</td>\n",
       "      <td>Switzerland</td>\n",
       "      <td>21</td>\n",
       "      <td>Ticino</td>\n",
       "      <td>CH.TI</td>\n",
       "      <td>0</td>\n",
       "      <td>None</td>\n",
       "      <td>Canton|Kanton|Chantun</td>\n",
       "      <td>Canton</td>\n",
       "      <td>None</td>\n",
       "      <td>Tesino|Tessin</td>\n",
       "      <td>POINT (8.808447087581131 46.29796290885048)</td>\n",
       "    </tr>\n",
       "    <tr>\n",
       "      <th>21</th>\n",
       "      <td>223</td>\n",
       "      <td>CHE</td>\n",
       "      <td>Switzerland</td>\n",
       "      <td>22</td>\n",
       "      <td>Uri</td>\n",
       "      <td>CH.UR</td>\n",
       "      <td>0</td>\n",
       "      <td>None</td>\n",
       "      <td>Canton|Kanton|Chantun</td>\n",
       "      <td>Canton</td>\n",
       "      <td>None</td>\n",
       "      <td>None</td>\n",
       "      <td>POINT (8.627444341659702 46.77540220120788)</td>\n",
       "    </tr>\n",
       "    <tr>\n",
       "      <th>22</th>\n",
       "      <td>223</td>\n",
       "      <td>CHE</td>\n",
       "      <td>Switzerland</td>\n",
       "      <td>23</td>\n",
       "      <td>Valais</td>\n",
       "      <td>CH.VS</td>\n",
       "      <td>0</td>\n",
       "      <td>None</td>\n",
       "      <td>Canton|Kanton|Chantun</td>\n",
       "      <td>Canton</td>\n",
       "      <td>None</td>\n",
       "      <td>Vallais|Vallese|Wallis</td>\n",
       "      <td>POINT (7.611267430777167 46.21163305953951)</td>\n",
       "    </tr>\n",
       "    <tr>\n",
       "      <th>23</th>\n",
       "      <td>223</td>\n",
       "      <td>CHE</td>\n",
       "      <td>Switzerland</td>\n",
       "      <td>24</td>\n",
       "      <td>Vaud</td>\n",
       "      <td>CH.VD</td>\n",
       "      <td>0</td>\n",
       "      <td>None</td>\n",
       "      <td>Canton|Kanton|Chantun</td>\n",
       "      <td>Canton</td>\n",
       "      <td>None</td>\n",
       "      <td>Vad|Waadt|Waadtland</td>\n",
       "      <td>POINT (6.65896466454826 46.57164298184192)</td>\n",
       "    </tr>\n",
       "    <tr>\n",
       "      <th>24</th>\n",
       "      <td>223</td>\n",
       "      <td>CHE</td>\n",
       "      <td>Switzerland</td>\n",
       "      <td>25</td>\n",
       "      <td>Zürich</td>\n",
       "      <td>CH.ZH</td>\n",
       "      <td>0</td>\n",
       "      <td>None</td>\n",
       "      <td>Canton|Kanton|Chantun</td>\n",
       "      <td>Canton</td>\n",
       "      <td>None</td>\n",
       "      <td>Turitg|Zurigo|Zürih|Zurique</td>\n",
       "      <td>POINT (8.655987523570941 47.41740746051615)</td>\n",
       "    </tr>\n",
       "    <tr>\n",
       "      <th>25</th>\n",
       "      <td>223</td>\n",
       "      <td>CHE</td>\n",
       "      <td>Switzerland</td>\n",
       "      <td>26</td>\n",
       "      <td>Zug</td>\n",
       "      <td>CH.ZG</td>\n",
       "      <td>0</td>\n",
       "      <td>None</td>\n",
       "      <td>Canton|Kanton|Chantun</td>\n",
       "      <td>Canton</td>\n",
       "      <td>None</td>\n",
       "      <td>Zoug|Zugo</td>\n",
       "      <td>POINT (8.538864211397827 47.16140231670156)</td>\n",
       "    </tr>\n",
       "  </tbody>\n",
       "</table>\n",
       "</div>"
      ],
      "text/plain": [
       "    ID_0  ISO       NAME_0  ID_1                  NAME_1 HASC_1  CCN_1 CCA_1  \\\n",
       "0    223  CHE  Switzerland     1                  Aargau  CH.AG      0  None   \n",
       "1    223  CHE  Switzerland     2  Appenzell Ausserrhoden  CH.AR      0  None   \n",
       "2    223  CHE  Switzerland     3   Appenzell Innerrhoden  CH.AI      0  None   \n",
       "3    223  CHE  Switzerland     4        Basel-Landschaft  CH.BL      0  None   \n",
       "4    223  CHE  Switzerland     5             Basel-Stadt  CH.BS      0  None   \n",
       "5    223  CHE  Switzerland     6                    Bern  CH.BE      0  None   \n",
       "6    223  CHE  Switzerland     7                Fribourg  CH.FR      0  None   \n",
       "7    223  CHE  Switzerland     8                  Genève  CH.GE      0  None   \n",
       "8    223  CHE  Switzerland     9                  Glarus  CH.GL      0  None   \n",
       "9    223  CHE  Switzerland    10              Graubünden  CH.GR      0  None   \n",
       "10   223  CHE  Switzerland    11                    Jura  CH.JU      0  None   \n",
       "11   223  CHE  Switzerland    12                 Lucerne  CH.LU      0  None   \n",
       "12   223  CHE  Switzerland    13               Neuchâtel  CH.NE      0  None   \n",
       "13   223  CHE  Switzerland    14               Nidwalden  CH.NW      0  None   \n",
       "14   223  CHE  Switzerland    15                Obwalden  CH.OW      0  None   \n",
       "15   223  CHE  Switzerland    16            Sankt Gallen  CH.SG      0  None   \n",
       "16   223  CHE  Switzerland    17            Schaffhausen  CH.SH      0  None   \n",
       "17   223  CHE  Switzerland    18                  Schwyz  CH.SZ      0  None   \n",
       "18   223  CHE  Switzerland    19               Solothurn  CH.SO      0  None   \n",
       "19   223  CHE  Switzerland    20                 Thurgau  CH.TG      0  None   \n",
       "20   223  CHE  Switzerland    21                  Ticino  CH.TI      0  None   \n",
       "21   223  CHE  Switzerland    22                     Uri  CH.UR      0  None   \n",
       "22   223  CHE  Switzerland    23                  Valais  CH.VS      0  None   \n",
       "23   223  CHE  Switzerland    24                    Vaud  CH.VD      0  None   \n",
       "24   223  CHE  Switzerland    25                  Zürich  CH.ZH      0  None   \n",
       "25   223  CHE  Switzerland    26                     Zug  CH.ZG      0  None   \n",
       "\n",
       "                   TYPE_1 ENGTYPE_1 NL_NAME_1  \\\n",
       "0   Canton|Kanton|Chantun    Canton      None   \n",
       "1   Canton|Kanton|Chantun    Canton      None   \n",
       "2   Canton|Kanton|Chantun    Canton      None   \n",
       "3   Canton|Kanton|Chantun    Canton      None   \n",
       "4   Canton|Kanton|Chantun    Canton      None   \n",
       "5   Canton|Kanton|Chantun    Canton      None   \n",
       "6   Canton|Kanton|Chantun    Canton      None   \n",
       "7   Canton|Kanton|Chantun    Canton      None   \n",
       "8   Canton|Kanton|Chantun    Canton      None   \n",
       "9   Canton|Kanton|Chantun    Canton      None   \n",
       "10  Canton|Kanton|Chantun    Canton      None   \n",
       "11  Canton|Kanton|Chantun    Canton      None   \n",
       "12  Canton|Kanton|Chantun    Canton      None   \n",
       "13  Canton|Kanton|Chantun    Canton      None   \n",
       "14  Canton|Kanton|Chantun    Canton      None   \n",
       "15  Canton|Kanton|Chantun    Canton      None   \n",
       "16  Canton|Kanton|Chantun    Canton      None   \n",
       "17  Canton|Kanton|Chantun    Canton      None   \n",
       "18  Canton|Kanton|Chantun    Canton      None   \n",
       "19  Canton|Kanton|Chantun    Canton      None   \n",
       "20  Canton|Kanton|Chantun    Canton      None   \n",
       "21  Canton|Kanton|Chantun    Canton      None   \n",
       "22  Canton|Kanton|Chantun    Canton      None   \n",
       "23  Canton|Kanton|Chantun    Canton      None   \n",
       "24  Canton|Kanton|Chantun    Canton      None   \n",
       "25  Canton|Kanton|Chantun    Canton      None   \n",
       "\n",
       "                                            VARNAME_1  \\\n",
       "0                             Argovia|Arg¢via|Argovie   \n",
       "1   Appenzell Ausser-Rhoden|Appenzell Outer Rhodes...   \n",
       "2   Appenzell Inner-Rhoden|Appenzell Inner Rhodes|...   \n",
       "3   Bâle-Campagne|Basel-Country|Baselland|Basel-La...   \n",
       "4   Bâle-Ville|Basel-City|Basel-Town|Basilea-Citad...   \n",
       "5                                         Berna|Berne   \n",
       "6                           Freiburg|Friburg|Friburgo   \n",
       "7   Cenevre|Genebra|Geneve|Geneva|Genevra|Genf|Gin...   \n",
       "8                              Glaris|Glarona|Glaruna   \n",
       "9                Graubünden|Grigioni|Grischun|Grisons   \n",
       "10                                              Giura   \n",
       "11                                     Lucerna|Luzern   \n",
       "12                                          Neuenburg   \n",
       "13       Nidvaldo|Nidwald|Unterwalden-le-Bas|Nidwaldo   \n",
       "14  Obvaldo|Obwald|Unterwalden-le-Haut|Obwaldo|Sur...   \n",
       "15                      Saint-Gall|San Gallo|Son Gagl   \n",
       "16                    Schaffhouse|Schaffusa|Sciaffusa   \n",
       "17                                               None   \n",
       "18                   Soletta|Soleure|Soleuro|Soloturn   \n",
       "19                        Thurgovie|Turgovia|Turg¢via   \n",
       "20                                      Tesino|Tessin   \n",
       "21                                               None   \n",
       "22                             Vallais|Vallese|Wallis   \n",
       "23                                Vad|Waadt|Waadtland   \n",
       "24                        Turitg|Zurigo|Zürih|Zurique   \n",
       "25                                          Zoug|Zugo   \n",
       "\n",
       "                                       geometry  \n",
       "0   POINT (8.159107457803776 47.41091382599529)  \n",
       "1   POINT (9.371218296804853 47.36770801854865)  \n",
       "2   POINT (9.416684654238205 47.31776017229677)  \n",
       "3   POINT (7.706498526055554 47.45521394911853)  \n",
       "4   POINT (7.615066682035792 47.56606264622859)  \n",
       "5   POINT (7.626701810505604 46.82493777625525)  \n",
       "6   POINT (7.076662020414035 46.72012949612054)  \n",
       "7    POINT (6.13349889038628 46.22099058740971)  \n",
       "8    POINT (9.06554400305923 46.98051753136855)  \n",
       "9   POINT (9.629932177895077 46.65817533545275)  \n",
       "10  POINT (7.157452713550271 47.35278882137715)  \n",
       "11  POINT (8.117760646613418 47.06892886757846)  \n",
       "12  POINT (6.782287532449554 46.99728247052034)  \n",
       "13  POINT (8.410935714511448 46.92606647452552)  \n",
       "14  POINT (8.243895020538337 46.85232067651296)  \n",
       "15  POINT (9.268769801767876 47.22927353055314)  \n",
       "16  POINT (8.590297964952109 47.71930163889149)  \n",
       "17  POINT (8.761568460029801 47.06410983995465)  \n",
       "18   POINT (7.64335692975377 47.30720546605105)  \n",
       "19   POINT (9.112572665471955 47.5672049833109)  \n",
       "20  POINT (8.808447087581131 46.29796290885048)  \n",
       "21  POINT (8.627444341659702 46.77540220120788)  \n",
       "22  POINT (7.611267430777167 46.21163305953951)  \n",
       "23   POINT (6.65896466454826 46.57164298184192)  \n",
       "24  POINT (8.655987523570941 47.41740746051615)  \n",
       "25  POINT (8.538864211397827 47.16140231670156)  "
      ]
     },
     "execution_count": 18,
     "metadata": {},
     "output_type": "execute_result"
    }
   ],
   "source": [
    "swiss_cantons['geometry'] = centers_ls\n",
    "swiss_cantons\n",
    "# for i, row in swiss_cantons.iterrows():\n",
    "#     row['CENTROIDS'] = row['geometry'].centroid"
   ]
  },
  {
   "cell_type": "markdown",
   "metadata": {},
   "source": [
    "### Writing the Shapefile"
   ]
  },
  {
   "cell_type": "code",
   "execution_count": 20,
   "metadata": {
    "ExecuteTime": {
     "end_time": "2020-07-09T20:44:13.632725Z",
     "start_time": "2020-07-09T20:44:13.292690Z"
    }
   },
   "outputs": [],
   "source": [
    "file_name = \"swiss_canton_centers.shp\"\n",
    "swiss_cantons.to_file(driver = 'ESRI Shapefile', filename= os.getcwd() + DATA_PATH + file_name)"
   ]
  },
  {
   "cell_type": "markdown",
   "metadata": {},
   "source": [
    "### Subsetting a Shapefile"
   ]
  },
  {
   "cell_type": "markdown",
   "metadata": {},
   "source": [
    "The $adm_{1}$ shapefile used for visualizing cantons contains all Swiss Cantons. *What if we are only interested in a single canton or a few cantons?* We can solve this problem by filtering out unnecessary Features from the `GeoDataFrame` as shown below."
   ]
  },
  {
   "cell_type": "code",
   "execution_count": 21,
   "metadata": {
    "ExecuteTime": {
     "end_time": "2020-07-09T20:48:12.724187Z",
     "start_time": "2020-07-09T20:48:12.608218Z"
    }
   },
   "outputs": [
    {
     "data": {
      "text/html": [
       "<div>\n",
       "<style scoped>\n",
       "    .dataframe tbody tr th:only-of-type {\n",
       "        vertical-align: middle;\n",
       "    }\n",
       "\n",
       "    .dataframe tbody tr th {\n",
       "        vertical-align: top;\n",
       "    }\n",
       "\n",
       "    .dataframe thead th {\n",
       "        text-align: right;\n",
       "    }\n",
       "</style>\n",
       "<table border=\"1\" class=\"dataframe\">\n",
       "  <thead>\n",
       "    <tr style=\"text-align: right;\">\n",
       "      <th></th>\n",
       "      <th>ID_0</th>\n",
       "      <th>ISO</th>\n",
       "      <th>NAME_0</th>\n",
       "      <th>ID_1</th>\n",
       "      <th>NAME_1</th>\n",
       "      <th>HASC_1</th>\n",
       "      <th>CCN_1</th>\n",
       "      <th>CCA_1</th>\n",
       "      <th>TYPE_1</th>\n",
       "      <th>ENGTYPE_1</th>\n",
       "      <th>NL_NAME_1</th>\n",
       "      <th>VARNAME_1</th>\n",
       "      <th>geometry</th>\n",
       "    </tr>\n",
       "  </thead>\n",
       "  <tbody>\n",
       "    <tr>\n",
       "      <th>0</th>\n",
       "      <td>223</td>\n",
       "      <td>CHE</td>\n",
       "      <td>Switzerland</td>\n",
       "      <td>1</td>\n",
       "      <td>Aargau</td>\n",
       "      <td>CH.AG</td>\n",
       "      <td>0</td>\n",
       "      <td>None</td>\n",
       "      <td>Canton|Kanton|Chantun</td>\n",
       "      <td>Canton</td>\n",
       "      <td>None</td>\n",
       "      <td>Argovia|Arg¢via|Argovie</td>\n",
       "      <td>POLYGON ((8.22654 47.60509, 8.22665 47.60507, ...</td>\n",
       "    </tr>\n",
       "    <tr>\n",
       "      <th>1</th>\n",
       "      <td>223</td>\n",
       "      <td>CHE</td>\n",
       "      <td>Switzerland</td>\n",
       "      <td>2</td>\n",
       "      <td>Appenzell Ausserrhoden</td>\n",
       "      <td>CH.AR</td>\n",
       "      <td>0</td>\n",
       "      <td>None</td>\n",
       "      <td>Canton|Kanton|Chantun</td>\n",
       "      <td>Canton</td>\n",
       "      <td>None</td>\n",
       "      <td>Appenzell Ausser-Rhoden|Appenzell Outer Rhodes...</td>\n",
       "      <td>POLYGON ((9.54239 47.47059, 9.54387 47.47031, ...</td>\n",
       "    </tr>\n",
       "    <tr>\n",
       "      <th>2</th>\n",
       "      <td>223</td>\n",
       "      <td>CHE</td>\n",
       "      <td>Switzerland</td>\n",
       "      <td>3</td>\n",
       "      <td>Appenzell Innerrhoden</td>\n",
       "      <td>CH.AI</td>\n",
       "      <td>0</td>\n",
       "      <td>None</td>\n",
       "      <td>Canton|Kanton|Chantun</td>\n",
       "      <td>Canton</td>\n",
       "      <td>None</td>\n",
       "      <td>Appenzell Inner-Rhoden|Appenzell Inner Rhodes|...</td>\n",
       "      <td>MULTIPOLYGON (((9.37930 47.38512, 9.37944 47.3...</td>\n",
       "    </tr>\n",
       "    <tr>\n",
       "      <th>3</th>\n",
       "      <td>223</td>\n",
       "      <td>CHE</td>\n",
       "      <td>Switzerland</td>\n",
       "      <td>4</td>\n",
       "      <td>Basel-Landschaft</td>\n",
       "      <td>CH.BL</td>\n",
       "      <td>0</td>\n",
       "      <td>None</td>\n",
       "      <td>Canton|Kanton|Chantun</td>\n",
       "      <td>Canton</td>\n",
       "      <td>None</td>\n",
       "      <td>Bâle-Campagne|Basel-Country|Baselland|Basel-La...</td>\n",
       "      <td>MULTIPOLYGON (((7.38339 47.41924, 7.38057 47.4...</td>\n",
       "    </tr>\n",
       "    <tr>\n",
       "      <th>4</th>\n",
       "      <td>223</td>\n",
       "      <td>CHE</td>\n",
       "      <td>Switzerland</td>\n",
       "      <td>5</td>\n",
       "      <td>Basel-Stadt</td>\n",
       "      <td>CH.BS</td>\n",
       "      <td>0</td>\n",
       "      <td>None</td>\n",
       "      <td>Canton|Kanton|Chantun</td>\n",
       "      <td>Canton</td>\n",
       "      <td>None</td>\n",
       "      <td>Bâle-Ville|Basel-City|Basel-Town|Basilea-Citad...</td>\n",
       "      <td>POLYGON ((7.69256 47.59924, 7.69163 47.59853, ...</td>\n",
       "    </tr>\n",
       "  </tbody>\n",
       "</table>\n",
       "</div>"
      ],
      "text/plain": [
       "   ID_0  ISO       NAME_0  ID_1                  NAME_1 HASC_1  CCN_1 CCA_1  \\\n",
       "0   223  CHE  Switzerland     1                  Aargau  CH.AG      0  None   \n",
       "1   223  CHE  Switzerland     2  Appenzell Ausserrhoden  CH.AR      0  None   \n",
       "2   223  CHE  Switzerland     3   Appenzell Innerrhoden  CH.AI      0  None   \n",
       "3   223  CHE  Switzerland     4        Basel-Landschaft  CH.BL      0  None   \n",
       "4   223  CHE  Switzerland     5             Basel-Stadt  CH.BS      0  None   \n",
       "\n",
       "                  TYPE_1 ENGTYPE_1 NL_NAME_1  \\\n",
       "0  Canton|Kanton|Chantun    Canton      None   \n",
       "1  Canton|Kanton|Chantun    Canton      None   \n",
       "2  Canton|Kanton|Chantun    Canton      None   \n",
       "3  Canton|Kanton|Chantun    Canton      None   \n",
       "4  Canton|Kanton|Chantun    Canton      None   \n",
       "\n",
       "                                           VARNAME_1  \\\n",
       "0                            Argovia|Arg¢via|Argovie   \n",
       "1  Appenzell Ausser-Rhoden|Appenzell Outer Rhodes...   \n",
       "2  Appenzell Inner-Rhoden|Appenzell Inner Rhodes|...   \n",
       "3  Bâle-Campagne|Basel-Country|Baselland|Basel-La...   \n",
       "4  Bâle-Ville|Basel-City|Basel-Town|Basilea-Citad...   \n",
       "\n",
       "                                            geometry  \n",
       "0  POLYGON ((8.22654 47.60509, 8.22665 47.60507, ...  \n",
       "1  POLYGON ((9.54239 47.47059, 9.54387 47.47031, ...  \n",
       "2  MULTIPOLYGON (((9.37930 47.38512, 9.37944 47.3...  \n",
       "3  MULTIPOLYGON (((7.38339 47.41924, 7.38057 47.4...  \n",
       "4  POLYGON ((7.69256 47.59924, 7.69163 47.59853, ...  "
      ]
     },
     "execution_count": 21,
     "metadata": {},
     "output_type": "execute_result"
    }
   ],
   "source": [
    "### Read the larger shapefile into a GeoDataFrame\n",
    "canton_file = 'CHE_adm1.shp'\n",
    "swiss_cantons = gpd.read_file(os.getcwd() + DATA_PATH + canton_file, encoding='utf-8')\n",
    "swiss_cantons.head()"
   ]
  },
  {
   "cell_type": "code",
   "execution_count": 23,
   "metadata": {
    "ExecuteTime": {
     "end_time": "2020-07-09T20:51:01.918392Z",
     "start_time": "2020-07-09T20:51:01.873405Z"
    }
   },
   "outputs": [
    {
     "data": {
      "text/html": [
       "<div>\n",
       "<style scoped>\n",
       "    .dataframe tbody tr th:only-of-type {\n",
       "        vertical-align: middle;\n",
       "    }\n",
       "\n",
       "    .dataframe tbody tr th {\n",
       "        vertical-align: top;\n",
       "    }\n",
       "\n",
       "    .dataframe thead th {\n",
       "        text-align: right;\n",
       "    }\n",
       "</style>\n",
       "<table border=\"1\" class=\"dataframe\">\n",
       "  <thead>\n",
       "    <tr style=\"text-align: right;\">\n",
       "      <th></th>\n",
       "      <th>ID_0</th>\n",
       "      <th>ISO</th>\n",
       "      <th>NAME_0</th>\n",
       "      <th>ID_1</th>\n",
       "      <th>NAME_1</th>\n",
       "      <th>HASC_1</th>\n",
       "      <th>CCN_1</th>\n",
       "      <th>CCA_1</th>\n",
       "      <th>TYPE_1</th>\n",
       "      <th>ENGTYPE_1</th>\n",
       "      <th>NL_NAME_1</th>\n",
       "      <th>VARNAME_1</th>\n",
       "      <th>geometry</th>\n",
       "    </tr>\n",
       "  </thead>\n",
       "  <tbody>\n",
       "    <tr>\n",
       "      <th>5</th>\n",
       "      <td>223</td>\n",
       "      <td>CHE</td>\n",
       "      <td>Switzerland</td>\n",
       "      <td>6</td>\n",
       "      <td>Bern</td>\n",
       "      <td>CH.BE</td>\n",
       "      <td>0</td>\n",
       "      <td>None</td>\n",
       "      <td>Canton|Kanton|Chantun</td>\n",
       "      <td>Canton</td>\n",
       "      <td>None</td>\n",
       "      <td>Berna|Berne</td>\n",
       "      <td>MULTIPOLYGON (((7.09284 46.89419, 7.09202 46.8...</td>\n",
       "    </tr>\n",
       "  </tbody>\n",
       "</table>\n",
       "</div>"
      ],
      "text/plain": [
       "   ID_0  ISO       NAME_0  ID_1 NAME_1 HASC_1  CCN_1 CCA_1  \\\n",
       "5   223  CHE  Switzerland     6   Bern  CH.BE      0  None   \n",
       "\n",
       "                  TYPE_1 ENGTYPE_1 NL_NAME_1    VARNAME_1  \\\n",
       "5  Canton|Kanton|Chantun    Canton      None  Berna|Berne   \n",
       "\n",
       "                                            geometry  \n",
       "5  MULTIPOLYGON (((7.09284 46.89419, 7.09202 46.8...  "
      ]
     },
     "execution_count": 23,
     "metadata": {},
     "output_type": "execute_result"
    }
   ],
   "source": [
    "### Select the requisite features\n",
    "bern = swiss_cantons[swiss_cantons['NAME_1'] == 'Bern']\n",
    "bern"
   ]
  },
  {
   "cell_type": "code",
   "execution_count": 26,
   "metadata": {
    "ExecuteTime": {
     "end_time": "2020-07-09T20:52:24.955137Z",
     "start_time": "2020-07-09T20:52:24.714124Z"
    }
   },
   "outputs": [
    {
     "data": {
      "application/vnd.jupyter.widget-view+json": {
       "model_id": "86821914915a43dc8df86cb3600e5cfc",
       "version_major": 2,
       "version_minor": 0
      },
      "text/plain": [
       "Map(center=[46.801067046877755, 8.230251523818328], controls=(ZoomControl(options=['position', 'zoom_in_text',…"
      ]
     },
     "metadata": {},
     "output_type": "display_data"
    }
   ],
   "source": [
    "### Visualize the subset\n",
    "m4 = ipyleaflet.Map(center=[map_center.y, map_center.x], zoom=7)\n",
    "topo_layer = ipyleaflet.basemap_to_tiles(ipyleaflet.basemaps.Esri.WorldTopoMap)\n",
    "bern_layer = ipyleaflet.GeoData(geo_dataframe=bern,\n",
    "                                      style={\n",
    "                                          'color': 'black',\n",
    "                                          'opacity': 1,\n",
    "                                          'fillOpacity': 0.4,\n",
    "                                          'weight': 1,\n",
    "                                          'fillColor': '#01796F'\n",
    "                                      })\n",
    "m4.add_layer(topo_layer)\n",
    "m4.add_layer(bern_layer)\n",
    "m4"
   ]
  },
  {
   "cell_type": "code",
   "execution_count": 27,
   "metadata": {
    "ExecuteTime": {
     "end_time": "2020-07-09T20:54:14.944092Z",
     "start_time": "2020-07-09T20:54:14.894049Z"
    }
   },
   "outputs": [],
   "source": [
    "### Write subset to shapefile (saves this focused feature for the next iteration of your analysis)\n",
    "file_name = \"bern.shp\"\n",
    "bern.to_file(driver = 'ESRI Shapefile', filename= os.getcwd() + DATA_PATH + file_name)"
   ]
  }
 ],
 "metadata": {
  "kernelspec": {
   "display_name": "Python 3",
   "language": "python",
   "name": "python3"
  },
  "language_info": {
   "codemirror_mode": {
    "name": "ipython",
    "version": 3
   },
   "file_extension": ".py",
   "mimetype": "text/x-python",
   "name": "python",
   "nbconvert_exporter": "python",
   "pygments_lexer": "ipython3",
   "version": "3.7.4"
  },
  "toc": {
   "base_numbering": 1,
   "nav_menu": {},
   "number_sections": false,
   "sideBar": true,
   "skip_h1_title": false,
   "title_cell": "Table of Contents",
   "title_sidebar": "Contents",
   "toc_cell": false,
   "toc_position": {},
   "toc_section_display": true,
   "toc_window_display": false
  },
  "varInspector": {
   "cols": {
    "lenName": 16,
    "lenType": 16,
    "lenVar": 40
   },
   "kernels_config": {
    "python": {
     "delete_cmd_postfix": "",
     "delete_cmd_prefix": "del ",
     "library": "var_list.py",
     "varRefreshCmd": "print(var_dic_list())"
    },
    "r": {
     "delete_cmd_postfix": ") ",
     "delete_cmd_prefix": "rm(",
     "library": "var_list.r",
     "varRefreshCmd": "cat(var_dic_list()) "
    }
   },
   "types_to_exclude": [
    "module",
    "function",
    "builtin_function_or_method",
    "instance",
    "_Feature"
   ],
   "window_display": false
  }
 },
 "nbformat": 4,
 "nbformat_minor": 2
}
