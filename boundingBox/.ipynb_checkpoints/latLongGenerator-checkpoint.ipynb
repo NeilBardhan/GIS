{
 "cells": [
  {
   "cell_type": "markdown",
   "metadata": {},
   "source": [
    "# Random Latitude Longitude Generator"
   ]
  },
  {
   "cell_type": "code",
   "execution_count": 1,
   "metadata": {
    "ExecuteTime": {
     "end_time": "2020-07-12T17:08:34.370042Z",
     "start_time": "2020-07-12T17:08:33.147105Z"
    }
   },
   "outputs": [],
   "source": [
    "import os\n",
    "import time\n",
    "import random\n",
    "import mplleaflet\n",
    "import geopandas as gpd\n",
    "from shapely import geometry\n",
    "import matplotlib.pyplot as plt\n",
    "from shapely.geometry import shape\n",
    "\n",
    "%matplotlib inline\n",
    "plt.rcParams['figure.figsize'] = [16, 9]"
   ]
  },
  {
   "cell_type": "code",
   "execution_count": 2,
   "metadata": {
    "ExecuteTime": {
     "end_time": "2020-07-12T17:08:35.484071Z",
     "start_time": "2020-07-12T17:08:35.476064Z"
    }
   },
   "outputs": [],
   "source": [
    "src_path = os.getcwd()\n",
    "os.chdir('..')"
   ]
  },
  {
   "cell_type": "code",
   "execution_count": 3,
   "metadata": {
    "ExecuteTime": {
     "end_time": "2020-07-12T17:08:38.632604Z",
     "start_time": "2020-07-12T17:08:38.015837Z"
    }
   },
   "outputs": [],
   "source": [
    "data_path = os.getcwd() + \"//swiss-shapefiles//\"\n",
    "swiss = gpd.read_file(data_path + 'CHE_adm0.shp')\n",
    "fig, ax = plt.subplots(1)\n",
    "base = swiss.plot(ax = ax, color = 'steelblue')\n",
    "mplleaflet.show(fig=base.figure, tiles = 'cartodb_positron', path = src_path + \"//swissMap.html\")"
   ]
  },
  {
   "cell_type": "code",
   "execution_count": 4,
   "metadata": {
    "ExecuteTime": {
     "end_time": "2020-07-12T17:08:48.333663Z",
     "start_time": "2020-07-12T17:08:48.316662Z"
    }
   },
   "outputs": [
    {
     "data": {
      "text/html": [
       "<iframe width=\"100%\" height=\"600\" src = \"swissMap.html\"></iframe>\n"
      ],
      "text/plain": [
       "<IPython.core.display.HTML object>"
      ]
     },
     "metadata": {},
     "output_type": "display_data"
    }
   ],
   "source": [
    "%%HTML\n",
    "<iframe width=\"100%\" height=\"600\" src = \"swissMap.html\"></iframe>"
   ]
  },
  {
   "cell_type": "code",
   "execution_count": 5,
   "metadata": {
    "ExecuteTime": {
     "end_time": "2020-07-12T17:08:52.614063Z",
     "start_time": "2020-07-12T17:08:52.330070Z"
    }
   },
   "outputs": [
    {
     "data": {
      "text/plain": [
       "<Figure size 432x288 with 0 Axes>"
      ]
     },
     "metadata": {},
     "output_type": "display_data"
    }
   ],
   "source": [
    "for i in range(len(swiss)):    \n",
    "    bounds = shape(swiss.loc[i, 'geometry']).bounds\n",
    "    x1, y1 = bounds[0], bounds[1]\n",
    "    x2, y2 = bounds[-2],bounds[-1]\n",
    "\n",
    "pointList = [geometry.Point(x1, y1), geometry.Point(x2,y1), geometry.Point(x2, y2), geometry.Point(x1, y2)]\n",
    "# print(pointList)\n",
    "poly = geometry.Polygon([[p.x, p.y] for p in pointList])\n",
    "\n",
    "corners = gpd.GeoSeries(poly)\n",
    "corners = gpd.GeoSeries({\"geometry\": poly})\n",
    "corners.crs = {'init': 'epsg:4326'}\n",
    "box_fig = corners.plot(ax = base, markersize = 4, edgecolor = \"black\",\n",
    "             alpha = 0.5, color = \"white\").figure\n",
    "# corners.plot(ax = base, alpha = 0.5, color = \"white\", markersize = 4, edgecolor = \"black\").figure\n",
    "mplleaflet.show(fig = box_fig, crs = corners.crs, tiles = 'cartodb_positron', path = src_path + '//swissBoxMap0.html')"
   ]
  },
  {
   "cell_type": "code",
   "execution_count": 6,
   "metadata": {
    "ExecuteTime": {
     "end_time": "2020-07-12T17:09:01.048445Z",
     "start_time": "2020-07-12T17:09:01.040445Z"
    }
   },
   "outputs": [
    {
     "data": {
      "text/html": [
       "<iframe width=\"100%\" height=\"600\" src=\"swissBoxMap0.html\"></iframe>\n"
      ],
      "text/plain": [
       "<IPython.core.display.HTML object>"
      ]
     },
     "metadata": {},
     "output_type": "display_data"
    }
   ],
   "source": [
    "%%HTML\n",
    "<iframe width=\"100%\" height=\"600\" src=\"swissBoxMap0.html\"></iframe>"
   ]
  },
  {
   "cell_type": "code",
   "execution_count": 7,
   "metadata": {
    "ExecuteTime": {
     "end_time": "2020-07-12T17:09:14.801293Z",
     "start_time": "2020-07-12T17:09:08.291275Z"
    }
   },
   "outputs": [
    {
     "name": "stdout",
     "output_type": "stream",
     "text": [
      "Time elapsed -> 5.64 seconds.\n"
     ]
    },
    {
     "data": {
      "text/plain": [
       "<Figure size 432x288 with 0 Axes>"
      ]
     },
     "metadata": {},
     "output_type": "display_data"
    }
   ],
   "source": [
    "numPoints = 1000\n",
    "\n",
    "pts = []\n",
    "start = time.time()\n",
    "for i in range(numPoints):\n",
    "    x = random.uniform(x1, x2)\n",
    "    y = random.uniform(y1, y2)\n",
    "    pt = geometry.Point(x, y)\n",
    "    pnt = pt\n",
    "    pts.append(pnt)\n",
    "    pt = gpd.GeoSeries(pt)\n",
    "    pt.plot(ax = base, marker = \"x\",\n",
    "            markersize = 10, alpha = 0.5, color='red')\n",
    "stop = time.time()\n",
    "print(\"Time elapsed ->\", round(stop - start, 2), \"seconds.\")\n",
    "mplleaflet.show(fig = ax.figure, crs = swiss.crs, tiles = 'cartodb_positron', path = src_path + '/swissBoxMap1.html')"
   ]
  },
  {
   "cell_type": "code",
   "execution_count": 8,
   "metadata": {
    "ExecuteTime": {
     "end_time": "2020-07-12T17:09:25.172750Z",
     "start_time": "2020-07-12T17:09:25.159748Z"
    }
   },
   "outputs": [
    {
     "data": {
      "text/html": [
       "<iframe width=\"100%\" height=\"600\" src=\"swissBoxMap1.html\"></iframe>\n"
      ],
      "text/plain": [
       "<IPython.core.display.HTML object>"
      ]
     },
     "metadata": {},
     "output_type": "display_data"
    }
   ],
   "source": [
    "%%HTML\n",
    "<iframe width=\"100%\" height=\"600\" src=\"swissBoxMap1.html\"></iframe>"
   ]
  },
  {
   "cell_type": "code",
   "execution_count": 9,
   "metadata": {
    "ExecuteTime": {
     "end_time": "2020-07-12T17:09:45.726572Z",
     "start_time": "2020-07-12T17:09:34.619576Z"
    }
   },
   "outputs": [
    {
     "data": {
      "text/plain": [
       "<Figure size 432x288 with 0 Axes>"
      ]
     },
     "metadata": {},
     "output_type": "display_data"
    }
   ],
   "source": [
    "for pnt in pts:\n",
    "    if pnt.within(shape(swiss.loc[0, 'geometry'])):\n",
    "#         pts.append(pt)\n",
    "        pt = gpd.GeoSeries(pnt)\n",
    "        pt.plot(ax = base, marker = \"x\",\n",
    "                  markersize = 10, alpha = 0.5, color = \"green\")\n",
    "mplleaflet.show(fig = ax.figure, crs = swiss.crs, tiles = 'cartodb_positron', path = src_path + '/swissBoxMap2.html')"
   ]
  },
  {
   "cell_type": "code",
   "execution_count": 10,
   "metadata": {
    "ExecuteTime": {
     "end_time": "2020-07-12T17:10:14.198195Z",
     "start_time": "2020-07-12T17:10:14.186222Z"
    }
   },
   "outputs": [
    {
     "data": {
      "text/html": [
       "<iframe width=\"100%\" height=\"600\" src=\"swissBoxMap2.html\"></iframe>\n"
      ],
      "text/plain": [
       "<IPython.core.display.HTML object>"
      ]
     },
     "metadata": {},
     "output_type": "display_data"
    }
   ],
   "source": [
    "%%HTML\n",
    "<iframe width=\"100%\" height=\"600\" src=\"swissBoxMap2.html\"></iframe>"
   ]
  }
 ],
 "metadata": {
  "kernelspec": {
   "display_name": "Python 3",
   "language": "python",
   "name": "python3"
  },
  "language_info": {
   "codemirror_mode": {
    "name": "ipython",
    "version": 3
   },
   "file_extension": ".py",
   "mimetype": "text/x-python",
   "name": "python",
   "nbconvert_exporter": "python",
   "pygments_lexer": "ipython3",
   "version": "3.7.4"
  },
  "toc": {
   "base_numbering": 1,
   "nav_menu": {},
   "number_sections": false,
   "sideBar": true,
   "skip_h1_title": false,
   "title_cell": "Table of Contents",
   "title_sidebar": "Contents",
   "toc_cell": false,
   "toc_position": {},
   "toc_section_display": true,
   "toc_window_display": false
  },
  "varInspector": {
   "cols": {
    "lenName": 16,
    "lenType": 16,
    "lenVar": 40
   },
   "kernels_config": {
    "python": {
     "delete_cmd_postfix": "",
     "delete_cmd_prefix": "del ",
     "library": "var_list.py",
     "varRefreshCmd": "print(var_dic_list())"
    },
    "r": {
     "delete_cmd_postfix": ") ",
     "delete_cmd_prefix": "rm(",
     "library": "var_list.r",
     "varRefreshCmd": "cat(var_dic_list()) "
    }
   },
   "types_to_exclude": [
    "module",
    "function",
    "builtin_function_or_method",
    "instance",
    "_Feature"
   ],
   "window_display": false
  }
 },
 "nbformat": 4,
 "nbformat_minor": 2
}
