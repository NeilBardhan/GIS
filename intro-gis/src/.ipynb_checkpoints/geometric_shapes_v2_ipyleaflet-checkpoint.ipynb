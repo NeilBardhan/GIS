{
 "cells": [
  {
   "cell_type": "markdown",
   "metadata": {},
   "source": [
    "# Introduction to Geometric Shapes\n",
    "\n",
    "This jupyter notebook is a companion to [this](https://medium.com/@neilbardhan/location-location-location-46bba15d9b21?sk=44d4752f88733111f70c069456611fdc) post on Medium, which serves as an introduction to the basic building blocks of geospatial data. I strongly recommend going through these works in tandem as the material covered in both will help inform your knowledge of geospatial data.\n",
    "\n",
    "For this notebook, I will be using \n",
    "  * [shapely](https://shapely.readthedocs.io/en/latest/) for creating the geometric objects. It can be installed by running the command `pip install shapely` in your system terminal. \n",
    "  * [ipyleaflet](https://ipyleaflet.readthedocs.io/en/latest/index.html) to create interactive maps to display the geometric objects on a basemap to help us get a more intuitive understanding of these objects and their geometries. This can be installed by running the command `pip install ipyleaflet`."
   ]
  },
  {
   "cell_type": "markdown",
   "metadata": {},
   "source": [
    "## Importing the libraries"
   ]
  },
  {
   "cell_type": "code",
   "execution_count": 1,
   "metadata": {
    "ExecuteTime": {
     "end_time": "2020-07-07T01:28:15.357004Z",
     "start_time": "2020-07-07T01:28:12.825966Z"
    }
   },
   "outputs": [],
   "source": [
    "import os\n",
    "import json\n",
    "import random\n",
    "import ipyleaflet\n",
    "import matplotlib.pyplot as plt\n",
    "from IPython.display import Image\n",
    "from IPython.display import JSON\n",
    "from shapely.ops import polygonize\n",
    "from ipyleaflet import Map, GeoJSON, Marker, Polyline\n",
    "from shapely.geometry import (Point, LineString, Polygon, LinearRing, MultiPolygon)"
   ]
  },
  {
   "cell_type": "code",
   "execution_count": 2,
   "metadata": {
    "ExecuteTime": {
     "end_time": "2020-07-07T01:28:16.025962Z",
     "start_time": "2020-07-07T01:28:16.020963Z"
    }
   },
   "outputs": [],
   "source": [
    "os.chdir('..')"
   ]
  },
  {
   "cell_type": "markdown",
   "metadata": {},
   "source": [
    "## Points"
   ]
  },
  {
   "cell_type": "markdown",
   "metadata": {},
   "source": [
    "A point is the representation of a real-world location using it's Latitude and Longitude coordinates. `Shapely` has a function called `Point` that takes as input the longitude and the latitude of a Position and returns a `POINT` object which is a tuple containing those coordinates."
   ]
  },
  {
   "cell_type": "code",
   "execution_count": 3,
   "metadata": {
    "ExecuteTime": {
     "end_time": "2020-07-07T01:28:19.060922Z",
     "start_time": "2020-07-07T01:28:19.048917Z"
    }
   },
   "outputs": [
    {
     "name": "stdout",
     "output_type": "stream",
     "text": [
      "POINT (-0.093 51.52)\n",
      "POINT (51.52 -0.093)\n"
     ]
    }
   ],
   "source": [
    "lat = 51.520\n",
    "long = -0.093\n",
    "barbican = Point([long, lat])\n",
    "somewhere = Point([lat, long]) ## inherently incorrect, but serves as an illustration\n",
    "print(barbican)\n",
    "print(somewhere)"
   ]
  },
  {
   "cell_type": "markdown",
   "metadata": {},
   "source": [
    "This brings up an important question, *Why is the input* `[long, lat]` *in contrast to the conventional `[lat, long]`?* That's because `Shapely`'s `Point` function resolves the earth's geometric coordinates (long/lat) to the Cartesian coordinate system, where longitude is analogous to values on the $X$ axis and latitude is analogous to values on the $Y$ axis. Therefore, a `[long, lat]` pair can be considered to be similar to a `[x, y]` pair. If we were to reverse this, we would end up in an incorrect position on the earth's surface. Let's map it out!"
   ]
  },
  {
   "cell_type": "markdown",
   "metadata": {},
   "source": [
    "### Plotting Points"
   ]
  },
  {
   "cell_type": "code",
   "execution_count": 4,
   "metadata": {
    "ExecuteTime": {
     "end_time": "2020-07-07T01:28:21.456926Z",
     "start_time": "2020-07-07T01:28:21.059922Z"
    }
   },
   "outputs": [
    {
     "data": {
      "image/png": "[encoded data removed]",
      "text/plain": [
       "<Figure size 432x288 with 1 Axes>"
      ]
     },
     "metadata": {
      "needs_background": "light"
     },
     "output_type": "display_data"
    }
   ],
   "source": [
    "x = [barbican.x, somewhere.x]\n",
    "y = [barbican.y, somewhere.y]\n",
    "names = ['Barbican', 'Somewhere']\n",
    "\n",
    "map_fig = plt.scatter(x, y)\n",
    "\n",
    "for i, txt in enumerate(names):\n",
    "    map_fig._axes.annotate(txt, (x[i] + 1, y[i] - 1))"
   ]
  },
  {
   "cell_type": "markdown",
   "metadata": {},
   "source": [
    "While we can use `matplotlib` for plotting our points, such plots provide no contextual information from a geographic perspective. We already know where these points lie in the coordinate space, what we would like to know is where they lie on the earth's surface.\n",
    "To achieve this, we almost always need the help of **basemaps**, previously designed layers containing the visual geospatial information that we are used to seeing on Google Maps or OpenStreetMaps. We can build our own basemaps, however `ipyleaflet`, running on **[leaflet.js](https://leafletjs.com/examples/quick-start/)**, serves as a great ready to go tool for our mapping needs."
   ]
  },
  {
   "cell_type": "code",
   "execution_count": 5,
   "metadata": {
    "ExecuteTime": {
     "end_time": "2020-07-07T01:28:24.968968Z",
     "start_time": "2020-07-07T01:28:24.883968Z"
    }
   },
   "outputs": [
    {
     "data": {
      "application/vnd.jupyter.widget-view+json": {
       "model_id": "1701a37098604d43816c376033412f3d",
       "version_major": 2,
       "version_minor": 0
      },
      "text/plain": [
       "Map(center=[0.0, 0.0], controls=(ZoomControl(options=['position', 'zoom_in_text', 'zoom_in_title', 'zoom_out_t…"
      ]
     },
     "metadata": {},
     "output_type": "display_data"
    }
   ],
   "source": [
    "m = Map(zoom=2)\n",
    "marker_barbican = Marker(location=[barbican.y, barbican.x], draggable=False)\n",
    "marker_somewhere = Marker(location=[somewhere.y, somewhere.x], draggable=False)\n",
    "m.add_layer(marker_barbican)\n",
    "m.add_layer(marker_somewhere)\n",
    "m"
   ]
  },
  {
   "cell_type": "markdown",
   "metadata": {},
   "source": [
    "Now this is information we can relate to! The 2 points here are - the correct point and the incorrect point. Can you guess which is the incorrect one?\n",
    "Accidentally interchanging the lat and the long provide us with a point off the eastern coast of Africa as opposed to a cultural center in the City of London. Here is what the correct map should look like with only the correct point plotted."
   ]
  },
  {
   "cell_type": "code",
   "execution_count": 6,
   "metadata": {
    "ExecuteTime": {
     "end_time": "2020-07-07T01:28:28.250973Z",
     "start_time": "2020-07-07T01:28:28.186965Z"
    }
   },
   "outputs": [
    {
     "data": {
      "application/vnd.jupyter.widget-view+json": {
       "model_id": "aea8e8b8c78b46f49b1451780b2fcf3d",
       "version_major": 2,
       "version_minor": 0
      },
      "text/plain": [
       "Map(center=[51.52, -0.093], controls=(ZoomControl(options=['position', 'zoom_in_text', 'zoom_in_title', 'zoom_…"
      ]
     },
     "metadata": {},
     "output_type": "display_data"
    }
   ],
   "source": [
    "m = Map(center=[barbican.y, barbican.x], zoom = 20)\n",
    "marker_barbican = Marker(location=[barbican.y, barbican.x], draggable=False)\n",
    "m.add_layer(marker_barbican)\n",
    "m"
   ]
  },
  {
   "cell_type": "markdown",
   "metadata": {},
   "source": [
    "## Lines"
   ]
  },
  {
   "cell_type": "markdown",
   "metadata": {},
   "source": [
    "A Line in it's simplest form connects two Points with a straight line. `Shapely` provides us with the `LineString` function to create `Line` geometric objects which takes as input at least two points. We have already considered The Barbican Center `[-0.093, 51.520]`, let's consider the Royal Observatory at Greenwich `[0.0, 51.476]`. A Line would simply connect these 2 Points."
   ]
  },
  {
   "cell_type": "code",
   "execution_count": 7,
   "metadata": {
    "ExecuteTime": {
     "end_time": "2020-07-07T01:28:32.545969Z",
     "start_time": "2020-07-07T01:28:32.534980Z"
    }
   },
   "outputs": [
    {
     "name": "stdout",
     "output_type": "stream",
     "text": [
      "LINESTRING (-0.093 51.52, 0 51.476)\n"
     ]
    }
   ],
   "source": [
    "royal_observatory = Point([0.0, 51.476])\n",
    "\n",
    "l1 = LineString([barbican, royal_observatory])\n",
    "print(l1)"
   ]
  },
  {
   "cell_type": "markdown",
   "metadata": {},
   "source": [
    "### Plotting Lines"
   ]
  },
  {
   "cell_type": "markdown",
   "metadata": {},
   "source": [
    "Let's plot this line in `matplotlib` and overlay it on a basemap using `mplleaflet`. This is a non-directional, straight line connecting 2 points, The Barbican and The Royal Observatory in London."
   ]
  },
  {
   "cell_type": "code",
   "execution_count": 8,
   "metadata": {
    "ExecuteTime": {
     "end_time": "2020-07-07T01:28:35.987006Z",
     "start_time": "2020-07-07T01:28:35.717967Z"
    }
   },
   "outputs": [
    {
     "data": {
      "image/png": "[encoded data removed]",
      "text/plain": [
       "<Figure size 432x288 with 1 Axes>"
      ]
     },
     "metadata": {
      "needs_background": "light"
     },
     "output_type": "display_data"
    }
   ],
   "source": [
    "x = [barbican.x, royal_observatory.x]\n",
    "y = [barbican.y, royal_observatory.y]\n",
    "\n",
    "line_fig = plt.plot(x, y, color = 'blue')[0]"
   ]
  },
  {
   "cell_type": "code",
   "execution_count": 9,
   "metadata": {
    "ExecuteTime": {
     "end_time": "2020-07-07T01:28:37.549971Z",
     "start_time": "2020-07-07T01:28:37.484969Z"
    }
   },
   "outputs": [
    {
     "data": {
      "application/vnd.jupyter.widget-view+json": {
       "model_id": "8b704ea5e5564e918949c104dabed251",
       "version_major": 2,
       "version_minor": 0
      },
      "text/plain": [
       "Map(center=[51.52, -0.093], controls=(ZoomControl(options=['position', 'zoom_in_text', 'zoom_in_title', 'zoom_…"
      ]
     },
     "metadata": {},
     "output_type": "display_data"
    }
   ],
   "source": [
    "m = Map(center = [barbican.y, barbican.x], zoom =10)\n",
    "line = Polyline(\n",
    "    locations = [\n",
    "        [barbican.y, barbican.x],\n",
    "        [royal_observatory.y, royal_observatory.x]\n",
    "    ],\n",
    "    color = '#01796F',\n",
    "    fill = False\n",
    ")\n",
    "m.add_layer(line)\n",
    "m"
   ]
  },
  {
   "cell_type": "markdown",
   "metadata": {},
   "source": [
    "## Polygons"
   ]
  },
  {
   "cell_type": "markdown",
   "metadata": {},
   "source": [
    "To help us better understand Polygons, we need to understand the concept of **Linear Rings**. A linear ring is a closed LineString with **four or more** Positions, where the first and last Positions are the same. A linear ring is the boundary of a surface or the boundary of a hole in a surface.\n",
    "\n",
    "Polygons are arrays of Linear Ring coordinates. To illustrate Polygons and Linear Rings, in addition to The Barbican `[-0.093, 51.520]` and the Royal Observatory `[0.0, 51.476]`, consider the Olympic Stadium `[-0.0165, 51.538]`. Let's assume that on our London day trip that we make a stop at the Olympic Stadium *before* heading to the Royal Observatory."
   ]
  },
  {
   "cell_type": "code",
   "execution_count": 10,
   "metadata": {
    "ExecuteTime": {
     "end_time": "2020-07-07T01:28:42.886967Z",
     "start_time": "2020-07-07T01:28:42.881967Z"
    }
   },
   "outputs": [],
   "source": [
    "## Create Point object for the Olympic Stadium\n",
    "stadium = Point([-0.0165, 51.538])"
   ]
  },
  {
   "cell_type": "code",
   "execution_count": 11,
   "metadata": {
    "ExecuteTime": {
     "end_time": "2020-07-07T01:28:43.860007Z",
     "start_time": "2020-07-07T01:28:43.850965Z"
    }
   },
   "outputs": [
    {
     "name": "stdout",
     "output_type": "stream",
     "text": [
      "POINT (-0.093 51.52)\n",
      "POINT (0 51.476)\n",
      "POINT (-0.0165 51.538)\n"
     ]
    }
   ],
   "source": [
    "## We have 3 points/Positions/Vertices for our Polygon\n",
    "print(barbican)\n",
    "print(royal_observatory)\n",
    "print(stadium)"
   ]
  },
  {
   "cell_type": "markdown",
   "metadata": {},
   "source": [
    "We feed in our Point coordinates to the `Polygon` function from `shapely` to get a `Polygon` object. Note that `shapely` is able to intuit that the first and last positions must be equal. Therefore, we needn't provide the last Point as an input.\n",
    "\n",
    "It is important to remember, that we must traverse our Points in clockwork order to get the correct Polygon."
   ]
  },
  {
   "cell_type": "code",
   "execution_count": 12,
   "metadata": {
    "ExecuteTime": {
     "end_time": "2020-07-07T01:28:46.433969Z",
     "start_time": "2020-07-07T01:28:46.422969Z"
    }
   },
   "outputs": [
    {
     "name": "stdout",
     "output_type": "stream",
     "text": [
      "POLYGON ((-0.093 51.52, -0.0165 51.538, 0 51.476, -0.093 51.52))\n"
     ]
    }
   ],
   "source": [
    "point_list = [barbican, stadium, royal_observatory]\n",
    "poly = Polygon([[p.x, p.y] for p in point_list])\n",
    "print(poly)"
   ]
  },
  {
   "cell_type": "markdown",
   "metadata": {},
   "source": [
    "### Plotting Polygons"
   ]
  },
  {
   "cell_type": "markdown",
   "metadata": {},
   "source": [
    "We have created our Polygon, given the Points. Now let's plot our Polygon in `matplotlib` and `ipyleaflet`."
   ]
  },
  {
   "cell_type": "code",
   "execution_count": 13,
   "metadata": {
    "ExecuteTime": {
     "end_time": "2020-07-07T01:28:49.882847Z",
     "start_time": "2020-07-07T01:28:49.544852Z"
    }
   },
   "outputs": [
    {
     "data": {
      "image/png": "[encoded data removed]",
      "text/plain": [
       "<Figure size 432x288 with 1 Axes>"
      ]
     },
     "metadata": {
      "needs_background": "light"
     },
     "output_type": "display_data"
    }
   ],
   "source": [
    "coords = poly.exterior.coords\n",
    "pts = list(coords)\n",
    "x,y = zip(*pts)\n",
    "poly_fig = plt.plot(x,y)[0]"
   ]
  },
  {
   "cell_type": "code",
   "execution_count": 14,
   "metadata": {
    "ExecuteTime": {
     "end_time": "2020-07-07T01:28:51.431850Z",
     "start_time": "2020-07-07T01:28:51.359850Z"
    }
   },
   "outputs": [
    {
     "data": {
      "application/vnd.jupyter.widget-view+json": {
       "model_id": "dd2d60cebb7c4d15bf81adf635fb2637",
       "version_major": 2,
       "version_minor": 0
      },
      "text/plain": [
       "Map(center=[51.511333333333326, -0.0365], controls=(ZoomControl(options=['position', 'zoom_in_text', 'zoom_in_…"
      ]
     },
     "metadata": {},
     "output_type": "display_data"
    }
   ],
   "source": [
    "polygon = ipyleaflet.Polygon(\n",
    "    locations=[[p.y, p.x] for p in point_list],\n",
    "    color=\"#01796F\",\n",
    "    fill_color=\"#01796F\"\n",
    ")\n",
    "m = Map(center=(poly.centroid.y, poly.centroid.x), zoom=12)\n",
    "m.add_layer(polygon);\n",
    "m"
   ]
  },
  {
   "cell_type": "markdown",
   "metadata": {},
   "source": [
    "### Holes in Polygons"
   ]
  },
  {
   "cell_type": "markdown",
   "metadata": {},
   "source": [
    "Polygons are not just closed areas, but can have internal linear rings or holes nested in exterior linear rings. The image below shows what that would look like on a map.\n",
    "\n",
    "![polygon_holes](inner_ring.png)"
   ]
  },
  {
   "cell_type": "markdown",
   "metadata": {},
   "source": [
    "Now would be a good time to introduce **geoJSON** files. So far, we have been working with hardcoded values. We live in the age of Big Data and rarely come across values in the tens and hundreds. geoJSON files are a lightweight, JSON standard file-format used to store geometric data.\n",
    "Working with geoJSON files in Python is very easy. We will be using the [`geopandas`](https://geopandas.org/) library to work with geoJSON files, `geopandas` is an extension of the `pandas` library and makes working with geoJSON a breeze."
   ]
  },
  {
   "cell_type": "markdown",
   "metadata": {},
   "source": [
    "## geoJSON and geopandas"
   ]
  },
  {
   "cell_type": "markdown",
   "metadata": {},
   "source": [
    "### Importing the libraries\n",
    "\n",
    "We will be using `geopandas` for reading in `.geojson` files. We will also be using a web-tool from [geojson.io](https://geojson.io) called `geojsonio` to display our geometric object in the browser. "
   ]
  },
  {
   "cell_type": "code",
   "execution_count": 15,
   "metadata": {
    "ExecuteTime": {
     "end_time": "2020-07-07T01:28:58.634847Z",
     "start_time": "2020-07-07T01:28:57.934846Z"
    }
   },
   "outputs": [],
   "source": [
    "import geojsonio\n",
    "import geopandas as gpd"
   ]
  },
  {
   "cell_type": "markdown",
   "metadata": {},
   "source": [
    "### Importing the dataset"
   ]
  },
  {
   "cell_type": "code",
   "execution_count": 16,
   "metadata": {
    "ExecuteTime": {
     "end_time": "2020-07-07T01:29:01.311853Z",
     "start_time": "2020-07-07T01:29:01.306847Z"
    }
   },
   "outputs": [],
   "source": [
    "DATA_PATH = os.getcwd() + \"//data//\"\n",
    "fname = \"inner_ring.geojson\""
   ]
  },
  {
   "cell_type": "code",
   "execution_count": 17,
   "metadata": {
    "ExecuteTime": {
     "end_time": "2020-07-07T01:29:02.327850Z",
     "start_time": "2020-07-07T01:29:02.267846Z"
    }
   },
   "outputs": [
    {
     "data": {
      "text/html": [
       "<div>\n",
       "<style scoped>\n",
       "    .dataframe tbody tr th:only-of-type {\n",
       "        vertical-align: middle;\n",
       "    }\n",
       "\n",
       "    .dataframe tbody tr th {\n",
       "        vertical-align: top;\n",
       "    }\n",
       "\n",
       "    .dataframe thead th {\n",
       "        text-align: right;\n",
       "    }\n",
       "</style>\n",
       "<table border=\"1\" class=\"dataframe\">\n",
       "  <thead>\n",
       "    <tr style=\"text-align: right;\">\n",
       "      <th></th>\n",
       "      <th>geometry</th>\n",
       "    </tr>\n",
       "  </thead>\n",
       "  <tbody>\n",
       "    <tr>\n",
       "      <th>0</th>\n",
       "      <td>POLYGON ((12.00000 60.00000, -12.00000 60.0000...</td>\n",
       "    </tr>\n",
       "  </tbody>\n",
       "</table>\n",
       "</div>"
      ],
      "text/plain": [
       "                                            geometry\n",
       "0  POLYGON ((12.00000 60.00000, -12.00000 60.0000..."
      ]
     },
     "execution_count": 17,
     "metadata": {},
     "output_type": "execute_result"
    }
   ],
   "source": [
    "poly_ring = gpd.read_file(DATA_PATH + fname)\n",
    "poly_ring.head()"
   ]
  },
  {
   "cell_type": "code",
   "execution_count": 18,
   "metadata": {
    "ExecuteTime": {
     "end_time": "2020-07-07T01:29:04.299951Z",
     "start_time": "2020-07-07T01:29:04.293989Z"
    }
   },
   "outputs": [
    {
     "name": "stdout",
     "output_type": "stream",
     "text": [
      "<class 'geopandas.geodataframe.GeoDataFrame'>\n"
     ]
    }
   ],
   "source": [
    "print(type(poly_ring))"
   ]
  },
  {
   "cell_type": "markdown",
   "metadata": {},
   "source": [
    "`geopandas` reads in geospatial data from a multitude of formats and returns `geopandas` DataFrames. This abstraction of the geospatial data helps us perform a large variety of operations on our data by leveraging the convenience and efficiency of data frames."
   ]
  },
  {
   "cell_type": "markdown",
   "metadata": {},
   "source": [
    "### Visualizing the data"
   ]
  },
  {
   "cell_type": "markdown",
   "metadata": {},
   "source": [
    "We can visualize geoJSON geometries in 2 ways -\n",
    "   1. Using `geojsonio` - This is the most convenient way as we simply pass our geometry to a 3rd party application to do all the plotting.\n",
    "   2. Using `geopandas` and `mplleaflet` - We use our tried and tested method of first plotting out our geometry in `matplotlib` and then overlaying the figure on a basemap."
   ]
  },
  {
   "cell_type": "markdown",
   "metadata": {},
   "source": [
    "#### Using `geojsonio`"
   ]
  },
  {
   "cell_type": "code",
   "execution_count": 19,
   "metadata": {
    "ExecuteTime": {
     "end_time": "2020-07-07T01:29:08.839951Z",
     "start_time": "2020-07-07T01:29:08.245947Z"
    }
   },
   "outputs": [
    {
     "data": {
      "text/plain": [
       "'http://geojson.io/#data=data:application/json,%7B%22type%22%3A%20%22FeatureCollection%22%2C%20%22features%22%3A%20%5B%7B%22id%22%3A%20%220%22%2C%20%22type%22%3A%20%22Feature%22%2C%20%22properties%22%3A%20%7B%7D%2C%20%22geometry%22%3A%20%7B%22type%22%3A%20%22Polygon%22%2C%20%22coordinates%22%3A%20%5B%5B%5B12.0%2C%2060.0%5D%2C%20%5B-12.0%2C%2060.0%5D%2C%20%5B-12.0%2C%2040.0%5D%2C%20%5B12.0%2C%2040.0%5D%2C%20%5B12.0%2C%2060.0%5D%5D%2C%20%5B%5B-5.0%2C%2052.0%5D%2C%20%5B5.0%2C%2052.0%5D%2C%20%5B5.0%2C%2048.0%5D%2C%20%5B-5.0%2C%2048.0%5D%2C%20%5B-5.0%2C%2052.0%5D%5D%5D%7D%7D%5D%7D'"
      ]
     },
     "execution_count": 19,
     "metadata": {},
     "output_type": "execute_result"
    }
   ],
   "source": [
    "poly_ring_json = poly_ring.to_json()\n",
    "geojsonio.display(poly_ring_json)"
   ]
  },
  {
   "cell_type": "markdown",
   "metadata": {},
   "source": [
    "Running the above cell will open a new tab in your browser with the geoJSON data being displayed on a map in the left hand side panel and the raw data in the right hand side panel. [geojson.io](https://www.geojson.io) is a powerful web tool, you can add additional layers, edit the geoJSON file to add more geometries, save and share your work."
   ]
  },
  {
   "cell_type": "markdown",
   "metadata": {},
   "source": [
    "#### Using `geopandas` and `ipyleaflet`"
   ]
  },
  {
   "cell_type": "markdown",
   "metadata": {},
   "source": [
    "`geopandas` has a very handy `plot` function that plots the geometry of our `geopandas` DataFrame. The `plot` function returns a `matplotlib` object that we can overlay on top of our `ipyleaflet` basemap."
   ]
  },
  {
   "cell_type": "code",
   "execution_count": 25,
   "metadata": {
    "ExecuteTime": {
     "end_time": "2020-07-07T01:37:08.721642Z",
     "start_time": "2020-07-07T01:37:08.614650Z"
    }
   },
   "outputs": [
    {
     "data": {
      "application/vnd.jupyter.widget-view+json": {
       "model_id": "f6ff0e6dae74479aa34a14fe55e99006",
       "version_major": 2,
       "version_minor": 0
      },
      "text/plain": [
       "Map(center=[51.52, -0.093], controls=(ZoomControl(options=['position', 'zoom_in_text', 'zoom_in_title', 'zoom_…"
      ]
     },
     "metadata": {},
     "output_type": "display_data"
    }
   ],
   "source": [
    "# Create basemap, add layer\n",
    "m = Map(center=[barbican.y, barbican.x], zoom=4)\n",
    "poly_ring_layer = ipyleaflet.GeoData(geo_dataframe=poly_ring,\n",
    "                       style={'color': '#01796F',\n",
    "                              'weight': 0.3, \n",
    "                              'fillColor':'#01796F', \n",
    "                              'fillColorOpacity':0.75\n",
    "                             })\n",
    "m.add_layer(poly_ring_layer)\n",
    "# m.add_control(LayersControl())\n",
    "m"
   ]
  },
  {
   "cell_type": "markdown",
   "metadata": {},
   "source": [
    "## Multi Geometries"
   ]
  },
  {
   "cell_type": "markdown",
   "metadata": {},
   "source": [
    "All the geometries we have seen have been single geometries; `Points`, `Lines` and `Polygons`. Because of the complexities of real-world shapes and figures, there are certain limitations of using single shapes as often the physical world contains entities that aren't just a single contiguous shape. For example, countries like the United Kingdom and the United States have multiple disconnected parts that need multiple shapes to correctly represent one geopolitical entity."
   ]
  },
  {
   "cell_type": "markdown",
   "metadata": {},
   "source": [
    "GeoJSON has versions of each of the three basic types with Multi stuck on the front: `MultiPolygon`, `MultiLineString`, `MultiPoint`. Together they give us something of a solution for multiple shapes.\n",
    "The way Multi Features are created is the same across all the types: **everything moves down a step of nesting**. The coordinates of the Barbican are represented as `[-0.093, 51.52]`, so a `MultiPoint` of the Barbican, the Olympic Stadium and the Royal Observatory will look like `[[-0.093, 51.520], [-0.0165, 51.538], [0.0, 51.476]]`."
   ]
  },
  {
   "cell_type": "markdown",
   "metadata": {},
   "source": [
    "### Multi Points"
   ]
  },
  {
   "cell_type": "code",
   "execution_count": 26,
   "metadata": {
    "ExecuteTime": {
     "end_time": "2020-07-07T02:36:46.762698Z",
     "start_time": "2020-07-07T02:36:46.707694Z"
    }
   },
   "outputs": [
    {
     "data": {
      "text/html": [
       "<div>\n",
       "<style scoped>\n",
       "    .dataframe tbody tr th:only-of-type {\n",
       "        vertical-align: middle;\n",
       "    }\n",
       "\n",
       "    .dataframe tbody tr th {\n",
       "        vertical-align: top;\n",
       "    }\n",
       "\n",
       "    .dataframe thead th {\n",
       "        text-align: right;\n",
       "    }\n",
       "</style>\n",
       "<table border=\"1\" class=\"dataframe\">\n",
       "  <thead>\n",
       "    <tr style=\"text-align: right;\">\n",
       "      <th></th>\n",
       "      <th>geometry</th>\n",
       "    </tr>\n",
       "  </thead>\n",
       "  <tbody>\n",
       "    <tr>\n",
       "      <th>0</th>\n",
       "      <td>MULTIPOINT (-0.09300 51.52000, 0.00000 51.4760...</td>\n",
       "    </tr>\n",
       "  </tbody>\n",
       "</table>\n",
       "</div>"
      ],
      "text/plain": [
       "                                            geometry\n",
       "0  MULTIPOINT (-0.09300 51.52000, 0.00000 51.4760..."
      ]
     },
     "execution_count": 26,
     "metadata": {},
     "output_type": "execute_result"
    }
   ],
   "source": [
    "## Reading in a file containing multiple points\n",
    "file_name = 'multi_points.geojson'\n",
    "multi_points = gpd.read_file(DATA_PATH + file_name)\n",
    "multi_points.head()"
   ]
  },
  {
   "cell_type": "markdown",
   "metadata": {},
   "source": [
    "A `MultiPoint` geometry contains multiple points in a single geometry and can be visualized on a basemap as shown below."
   ]
  },
  {
   "cell_type": "code",
   "execution_count": 28,
   "metadata": {
    "ExecuteTime": {
     "end_time": "2020-07-07T02:38:09.135844Z",
     "start_time": "2020-07-07T02:38:09.090848Z"
    }
   },
   "outputs": [
    {
     "data": {
      "application/vnd.jupyter.widget-view+json": {
       "model_id": "36de5d3fb7224150ba7551f2d3b2e56e",
       "version_major": 2,
       "version_minor": 0
      },
      "text/plain": [
       "Map(center=[51.52, -0.093], controls=(ZoomControl(options=['position', 'zoom_in_text', 'zoom_in_title', 'zoom_…"
      ]
     },
     "metadata": {},
     "output_type": "display_data"
    }
   ],
   "source": [
    "# Create basemap, add layer\n",
    "m = Map(center=[barbican.y, barbican.x], zoom=10)\n",
    "multi_point_layer = ipyleaflet.GeoData(geo_dataframe=multi_points,\n",
    "                       style={'color': '#01796F',\n",
    "                              'weight': 0.3, \n",
    "                             })\n",
    "m.add_layer(multi_point_layer)\n",
    "# m.add_control(LayersControl())\n",
    "m"
   ]
  },
  {
   "cell_type": "markdown",
   "metadata": {},
   "source": [
    "### Multi Lines"
   ]
  },
  {
   "cell_type": "code",
   "execution_count": 30,
   "metadata": {
    "ExecuteTime": {
     "end_time": "2020-07-07T02:40:12.451029Z",
     "start_time": "2020-07-07T02:40:12.429054Z"
    }
   },
   "outputs": [
    {
     "data": {
      "text/html": [
       "<div>\n",
       "<style scoped>\n",
       "    .dataframe tbody tr th:only-of-type {\n",
       "        vertical-align: middle;\n",
       "    }\n",
       "\n",
       "    .dataframe tbody tr th {\n",
       "        vertical-align: top;\n",
       "    }\n",
       "\n",
       "    .dataframe thead th {\n",
       "        text-align: right;\n",
       "    }\n",
       "</style>\n",
       "<table border=\"1\" class=\"dataframe\">\n",
       "  <thead>\n",
       "    <tr style=\"text-align: right;\">\n",
       "      <th></th>\n",
       "      <th>geometry</th>\n",
       "    </tr>\n",
       "  </thead>\n",
       "  <tbody>\n",
       "    <tr>\n",
       "      <th>0</th>\n",
       "      <td>MULTILINESTRING ((-0.09300 51.52000, 0.00000 5...</td>\n",
       "    </tr>\n",
       "  </tbody>\n",
       "</table>\n",
       "</div>"
      ],
      "text/plain": [
       "                                            geometry\n",
       "0  MULTILINESTRING ((-0.09300 51.52000, 0.00000 5..."
      ]
     },
     "execution_count": 30,
     "metadata": {},
     "output_type": "execute_result"
    }
   ],
   "source": [
    "## Reading in a file containing multiple lines\n",
    "file_name = 'multi_line.geojson'\n",
    "multi_lines = gpd.read_file(DATA_PATH + file_name)\n",
    "multi_lines.head()"
   ]
  },
  {
   "cell_type": "markdown",
   "metadata": {},
   "source": [
    "The logic of Multiple Geometries extends to MultiLines and MultiPolygons as well. Here, we have a single geometry containing 2 different `LineStrings` as visualized below."
   ]
  },
  {
   "cell_type": "code",
   "execution_count": 35,
   "metadata": {
    "ExecuteTime": {
     "end_time": "2020-07-07T02:41:11.697654Z",
     "start_time": "2020-07-07T02:41:11.635611Z"
    }
   },
   "outputs": [
    {
     "data": {
      "application/vnd.jupyter.widget-view+json": {
       "model_id": "7b4e19442a6845f3a5f2ba25d3dae695",
       "version_major": 2,
       "version_minor": 0
      },
      "text/plain": [
       "Map(center=[51.52, -0.093], controls=(ZoomControl(options=['position', 'zoom_in_text', 'zoom_in_title', 'zoom_…"
      ]
     },
     "metadata": {},
     "output_type": "display_data"
    }
   ],
   "source": [
    "# Create basemap, add layer\n",
    "m = Map(center=[barbican.y, barbican.x], zoom=12)\n",
    "multi_line_layer = ipyleaflet.GeoData(geo_dataframe=multi_lines,\n",
    "                       style={'color': '#01796F',\n",
    "                              'weight': 2, \n",
    "                             })\n",
    "m.add_layer(multi_line_layer)\n",
    "# m.add_control(LayersControl())\n",
    "m"
   ]
  },
  {
   "cell_type": "markdown",
   "metadata": {},
   "source": [
    "### Multi Polygons"
   ]
  },
  {
   "cell_type": "code",
   "execution_count": 36,
   "metadata": {
    "ExecuteTime": {
     "end_time": "2020-07-07T02:43:58.515050Z",
     "start_time": "2020-07-07T02:43:58.449804Z"
    }
   },
   "outputs": [
    {
     "data": {
      "text/html": [
       "<div>\n",
       "<style scoped>\n",
       "    .dataframe tbody tr th:only-of-type {\n",
       "        vertical-align: middle;\n",
       "    }\n",
       "\n",
       "    .dataframe tbody tr th {\n",
       "        vertical-align: top;\n",
       "    }\n",
       "\n",
       "    .dataframe thead th {\n",
       "        text-align: right;\n",
       "    }\n",
       "</style>\n",
       "<table border=\"1\" class=\"dataframe\">\n",
       "  <thead>\n",
       "    <tr style=\"text-align: right;\">\n",
       "      <th></th>\n",
       "      <th>name</th>\n",
       "      <th>abbreviation</th>\n",
       "      <th>capital</th>\n",
       "      <th>city</th>\n",
       "      <th>population</th>\n",
       "      <th>area</th>\n",
       "      <th>waterarea</th>\n",
       "      <th>landarea</th>\n",
       "      <th>houseseats</th>\n",
       "      <th>statehood</th>\n",
       "      <th>group</th>\n",
       "      <th>geometry</th>\n",
       "    </tr>\n",
       "  </thead>\n",
       "  <tbody>\n",
       "    <tr>\n",
       "      <th>0</th>\n",
       "      <td>Hawaii</td>\n",
       "      <td>HI</td>\n",
       "      <td>Honolulu</td>\n",
       "      <td>Honolulu</td>\n",
       "      <td>1404054</td>\n",
       "      <td>28314</td>\n",
       "      <td>11678</td>\n",
       "      <td>16635</td>\n",
       "      <td>2</td>\n",
       "      <td>1959-08-20</td>\n",
       "      <td>US States</td>\n",
       "      <td>MULTIPOLYGON (((-155.77823 20.24574, -155.7727...</td>\n",
       "    </tr>\n",
       "  </tbody>\n",
       "</table>\n",
       "</div>"
      ],
      "text/plain": [
       "     name abbreviation   capital      city  population   area  waterarea  \\\n",
       "0  Hawaii           HI  Honolulu  Honolulu     1404054  28314      11678   \n",
       "\n",
       "   landarea  houseseats   statehood      group  \\\n",
       "0     16635           2  1959-08-20  US States   \n",
       "\n",
       "                                            geometry  \n",
       "0  MULTIPOLYGON (((-155.77823 20.24574, -155.7727...  "
      ]
     },
     "execution_count": 36,
     "metadata": {},
     "output_type": "execute_result"
    }
   ],
   "source": [
    "file_name = 'hawaii.geojson'\n",
    "multi_poly = gpd.read_file(DATA_PATH + file_name)\n",
    "multi_poly.head()"
   ]
  },
  {
   "cell_type": "markdown",
   "metadata": {},
   "source": [
    "A `MultiPolygon` geometry contains multiple polygon geometries within it to accurately reflect different shapes that comprise one geopolitical entity. For example, the US state of Hawaii contains multiple islands, each is it's own polygon, but is part of a `MultiPolygon` geometry."
   ]
  },
  {
   "cell_type": "code",
   "execution_count": 41,
   "metadata": {
    "ExecuteTime": {
     "end_time": "2020-07-07T02:48:38.962572Z",
     "start_time": "2020-07-07T02:48:38.957572Z"
    }
   },
   "outputs": [],
   "source": [
    "map_center = multi_poly['geometry'][0].centroid"
   ]
  },
  {
   "cell_type": "code",
   "execution_count": 42,
   "metadata": {
    "ExecuteTime": {
     "end_time": "2020-07-07T02:48:39.505538Z",
     "start_time": "2020-07-07T02:48:39.500542Z"
    }
   },
   "outputs": [],
   "source": [
    "# geom = data['geometry']['coordinates']\n",
    "# data['geometry']['type']\n",
    "# # MultiPolygon()\n",
    "# ls = []\n",
    "# centroids = []\n",
    "# for elem in geom:\n",
    "#     temp = Polygon(elem[0])\n",
    "#     ls.append(temp)\n",
    "#     centroids.append(temp.centroid)\n",
    "# #     break\n",
    "# #     temp = Polygon(elem)\n",
    "# #     ls.append(temp)\n",
    "# mlp = MultiPolygon(ls)\n",
    "# print(mlp.centroid)\n",
    "# map_center = [mlp.centroid.y, mlp.centroid.x]\n",
    "# print(ls)\n",
    "# print(centroids)"
   ]
  },
  {
   "cell_type": "code",
   "execution_count": 45,
   "metadata": {
    "ExecuteTime": {
     "end_time": "2020-07-07T02:49:34.335376Z",
     "start_time": "2020-07-07T02:49:34.175409Z"
    }
   },
   "outputs": [
    {
     "data": {
      "application/vnd.jupyter.widget-view+json": {
       "model_id": "619d7e587e2343059de5beb82a5b6229",
       "version_major": 2,
       "version_minor": 0
      },
      "text/plain": [
       "Map(center=[20.250596010816963, -156.35004069378328], controls=(ZoomControl(options=['position', 'zoom_in_text…"
      ]
     },
     "metadata": {},
     "output_type": "display_data"
    }
   ],
   "source": [
    "# m = Map(center=map_center, zoom=6)\n",
    "\n",
    "# geo_json = GeoJSON(\n",
    "#     data=data,\n",
    "#     style={\n",
    "#         'color': 'black', 'opacity': 1, 'dashArray': '0', 'fillOpacity': 0.7, 'weight': 1, 'fillColor': '#01796F'\n",
    "#     }\n",
    "# #     hover_style={\n",
    "# #         'color': 'white', 'dashArray': '0', 'fillOpacity': 0.5\n",
    "# #     },\n",
    "# #     style_callback=random_color\n",
    "# )\n",
    "# m.add_layer(geo_json)\n",
    "# marker = Marker(location=map_center, draggable=False)\n",
    "# m.add_layer(marker)\n",
    "# # for x in centroids:\n",
    "# #     print([x.y, x.x])\n",
    "# #     m.add_layer(Marker(location=[x.y, x.x], draggable=False))\n",
    "# m\n",
    "\n",
    "m = Map(center=[map_center.y, map_center.x], zoom=6)\n",
    "multi_poly_layer = ipyleaflet.GeoData(geo_dataframe=multi_poly,\n",
    "                                      style={\n",
    "                                          'color': 'black',\n",
    "                                          'opacity': 1,\n",
    "                                          'fillOpacity': 0.7,\n",
    "                                          'weight': 1,\n",
    "                                          'fillColor': '#01796F'\n",
    "                                      })\n",
    "m.add_layer(multi_poly_layer)\n",
    "m"
   ]
  },
  {
   "cell_type": "markdown",
   "metadata": {},
   "source": [
    "## FeatureCollection"
   ]
  },
  {
   "cell_type": "markdown",
   "metadata": {},
   "source": [
    "A Feature is the combination of the geometries and properties of a single entity in one JSON object. A FeatureCollection expands upon this by aggregating multiple features into one JSON object."
   ]
  },
  {
   "cell_type": "code",
   "execution_count": 46,
   "metadata": {
    "ExecuteTime": {
     "end_time": "2020-07-07T02:52:48.523690Z",
     "start_time": "2020-07-07T02:52:48.483728Z"
    }
   },
   "outputs": [
    {
     "data": {
      "text/html": [
       "<div>\n",
       "<style scoped>\n",
       "    .dataframe tbody tr th:only-of-type {\n",
       "        vertical-align: middle;\n",
       "    }\n",
       "\n",
       "    .dataframe tbody tr th {\n",
       "        vertical-align: top;\n",
       "    }\n",
       "\n",
       "    .dataframe thead th {\n",
       "        text-align: right;\n",
       "    }\n",
       "</style>\n",
       "<table border=\"1\" class=\"dataframe\">\n",
       "  <thead>\n",
       "    <tr style=\"text-align: right;\">\n",
       "      <th></th>\n",
       "      <th>OBJECTID</th>\n",
       "      <th>NAME</th>\n",
       "      <th>PHONE</th>\n",
       "      <th>ADDRESS_1</th>\n",
       "      <th>EASTING</th>\n",
       "      <th>NORTHING</th>\n",
       "      <th>geometry</th>\n",
       "    </tr>\n",
       "  </thead>\n",
       "  <tbody>\n",
       "    <tr>\n",
       "      <th>0</th>\n",
       "      <td>4</td>\n",
       "      <td>The British Home</td>\n",
       "      <td>020 8670 8261</td>\n",
       "      <td>Crown Lane</td>\n",
       "      <td>531665.583780</td>\n",
       "      <td>171071.707000</td>\n",
       "      <td>POINT (-0.10769 51.42337)</td>\n",
       "    </tr>\n",
       "    <tr>\n",
       "      <th>1</th>\n",
       "      <td>3</td>\n",
       "      <td>St Thomas' Hospital</td>\n",
       "      <td>020 7188 7188</td>\n",
       "      <td>Westminster Bridge Road</td>\n",
       "      <td>530690.266411</td>\n",
       "      <td>179520.014880</td>\n",
       "      <td>POINT (-0.11859 51.49952)</td>\n",
       "    </tr>\n",
       "    <tr>\n",
       "      <th>2</th>\n",
       "      <td>1</td>\n",
       "      <td>King's College Hospital</td>\n",
       "      <td></td>\n",
       "      <td>Denmark Hill</td>\n",
       "      <td>532480.501884</td>\n",
       "      <td>176018.086789</td>\n",
       "      <td>POINT (-0.09413 51.46763)</td>\n",
       "    </tr>\n",
       "    <tr>\n",
       "      <th>3</th>\n",
       "      <td>2</td>\n",
       "      <td>Lambeth Hospital</td>\n",
       "      <td></td>\n",
       "      <td>108 Landor Road</td>\n",
       "      <td>530476.116328</td>\n",
       "      <td>175768.648988</td>\n",
       "      <td>POINT (-0.12306 51.46586)</td>\n",
       "    </tr>\n",
       "  </tbody>\n",
       "</table>\n",
       "</div>"
      ],
      "text/plain": [
       "   OBJECTID                     NAME          PHONE                ADDRESS_1  \\\n",
       "0         4         The British Home  020 8670 8261               Crown Lane   \n",
       "1         3      St Thomas' Hospital  020 7188 7188  Westminster Bridge Road   \n",
       "2         1  King's College Hospital                            Denmark Hill   \n",
       "3         2         Lambeth Hospital                         108 Landor Road   \n",
       "\n",
       "         EASTING       NORTHING                   geometry  \n",
       "0  531665.583780  171071.707000  POINT (-0.10769 51.42337)  \n",
       "1  530690.266411  179520.014880  POINT (-0.11859 51.49952)  \n",
       "2  532480.501884  176018.086789  POINT (-0.09413 51.46763)  \n",
       "3  530476.116328  175768.648988  POINT (-0.12306 51.46586)  "
      ]
     },
     "execution_count": 46,
     "metadata": {},
     "output_type": "execute_result"
    }
   ],
   "source": [
    "## Reading in a file containing multiple polygons\n",
    "file_name = 'Emergency_Services.geojson'\n",
    "fc = gpd.read_file(DATA_PATH + file_name)\n",
    "fc.head()"
   ]
  },
  {
   "cell_type": "markdown",
   "metadata": {},
   "source": [
    "A FeatureCollection is simply an array of Features. A FeatureCollection also must have Feature objects under the key `features`. The array needs to contain Feature objects only. When parsed by `geopandas` into a DataFrame, a FeatureCollection will yield multiple rows in the data frame, one for each feature. The dataframe above is a dataset containing the geometries of 4 hospitals in the London Borough of Lambeth. The source geoJSON looks as follows - "
   ]
  },
  {
   "cell_type": "code",
   "execution_count": 47,
   "metadata": {
    "ExecuteTime": {
     "end_time": "2020-07-07T02:52:52.125725Z",
     "start_time": "2020-07-07T02:52:52.107724Z"
    }
   },
   "outputs": [
    {
     "name": "stdout",
     "output_type": "stream",
     "text": [
      "{\n",
      "  \"type\": \"FeatureCollection\",\n",
      "  \"features\": [\n",
      "    {\n",
      "      \"id\": \"0\",\n",
      "      \"type\": \"Feature\",\n",
      "      \"properties\": {\n",
      "        \"ADDRESS_1\": \"Crown Lane\",\n",
      "        \"EASTING\": 531665.58378,\n",
      "        \"NAME\": \"The British Home\",\n",
      "        \"NORTHING\": 171071.707,\n",
      "        \"OBJECTID\": 4,\n",
      "        \"PHONE\": \"020 8670 8261\"\n",
      "      },\n",
      "      \"geometry\": {\n",
      "        \"type\": \"Point\",\n",
      "        \"coordinates\": [\n",
      "          -0.107692276012846,\n",
      "          51.423370584443816\n",
      "        ]\n",
      "      }\n",
      "    },\n",
      "    {\n",
      "      \"id\": \"1\",\n",
      "      \"type\": \"Feature\",\n",
      "      \"properties\": {\n",
      "        \"ADDRESS_1\": \"Westminster Bridge Road\",\n",
      "        \"EASTING\": 530690.266411,\n",
      "        \"NAME\": \"St Thomas' Hospital\",\n",
      "        \"NORTHING\": 179520.01488,\n",
      "        \"OBJECTID\": 3,\n",
      "        \"PHONE\": \"020 7188 7188\"\n",
      "      },\n",
      "      \"geometry\": {\n",
      "        \"type\": \"Point\",\n",
      "        \"coordinates\": [\n",
      "          -0.11859200065567,\n",
      "          51.4995183419949\n",
      "        ]\n",
      "      }\n",
      "    },\n",
      "    {\n",
      "      \"id\": \"2\",\n",
      "      \"type\": \"Feature\",\n",
      "      \"properties\": {\n",
      "        \"ADDRESS_1\": \"Denmark Hill\",\n",
      "        \"EASTING\": 532480.501884,\n",
      "        \"NAME\": \"King's College Hospital\",\n",
      "        \"NORTHING\": 176018.086789,\n",
      "        \"OBJECTID\": 1,\n",
      "        \"PHONE\": \" \"\n",
      "      },\n",
      "      \"geometry\": {\n",
      "        \"type\": \"Point\",\n",
      "        \"coordinates\": [\n",
      "          -0.094128643302656,\n",
      "          51.46763188274562\n",
      "        ]\n",
      "      }\n",
      "    },\n",
      "    {\n",
      "      \"id\": \"3\",\n",
      "      \"type\": \"Feature\",\n",
      "      \"properties\": {\n",
      "        \"ADDRESS_1\": \"108 Landor Road\",\n",
      "        \"EASTING\": 530476.116328,\n",
      "        \"NAME\": \"Lambeth Hospital\",\n",
      "        \"NORTHING\": 175768.648988,\n",
      "        \"OBJECTID\": 2,\n",
      "        \"PHONE\": \" \"\n",
      "      },\n",
      "      \"geometry\": {\n",
      "        \"type\": \"Point\",\n",
      "        \"coordinates\": [\n",
      "          -0.123060098328635,\n",
      "          51.46585552193866\n",
      "        ]\n",
      "      }\n",
      "    }\n",
      "  ]\n",
      "}\n"
     ]
    }
   ],
   "source": [
    "print(fc.to_json(indent=2))"
   ]
  },
  {
   "cell_type": "code",
   "execution_count": 48,
   "metadata": {
    "ExecuteTime": {
     "end_time": "2020-07-07T02:54:45.560373Z",
     "start_time": "2020-07-07T02:54:45.473377Z"
    },
    "scrolled": false
   },
   "outputs": [
    {
     "data": {
      "application/vnd.jupyter.widget-view+json": {
       "model_id": "f1613213309d455281c9bf90b2b5509c",
       "version_major": 2,
       "version_minor": 0
      },
      "text/plain": [
       "Map(center=[51.476, 0.0], controls=(ZoomControl(options=['position', 'zoom_in_text', 'zoom_in_title', 'zoom_ou…"
      ]
     },
     "metadata": {},
     "output_type": "display_data"
    }
   ],
   "source": [
    "m = Map(center=[royal_observatory.y, royal_observatory.x], zoom=10)\n",
    "fc_layer = ipyleaflet.GeoData(geo_dataframe=fc,\n",
    "                                      style={\n",
    "                                          'color': 'black'\n",
    "                                      })\n",
    "m.add_layer(fc_layer)\n",
    "m"
   ]
  },
  {
   "cell_type": "markdown",
   "metadata": {},
   "source": [
    "## Wrapping Up"
   ]
  },
  {
   "cell_type": "markdown",
   "metadata": {},
   "source": [
    "I hope this was a thorough introduction to the charms of working with geospatial data. If you have any questions, feel free to ask them in the comments of the [companion Medium post](https://medium.com/@neilbardhan/location-location-location-46bba15d9b21?sk=44d4752f88733111f70c069456611fdc). I hope this was an informative read. I will be back soon with Part II, where I will explore some operations involving geospatial data, such as distance calculation and geocoding, in the meantime, feel free to fork this notebook and run your own experiments!"
   ]
  }
 ],
 "metadata": {
  "kernelspec": {
   "display_name": "Python 3",
   "language": "python",
   "name": "python3"
  },
  "language_info": {
   "codemirror_mode": {
    "name": "ipython",
    "version": 3
   },
   "file_extension": ".py",
   "mimetype": "text/x-python",
   "name": "python",
   "nbconvert_exporter": "python",
   "pygments_lexer": "ipython3",
   "version": "3.7.4"
  },
  "toc": {
   "base_numbering": 1,
   "nav_menu": {},
   "number_sections": false,
   "sideBar": true,
   "skip_h1_title": false,
   "title_cell": "Table of Contents",
   "title_sidebar": "Contents",
   "toc_cell": false,
   "toc_position": {},
   "toc_section_display": true,
   "toc_window_display": false
  },
  "varInspector": {
   "cols": {
    "lenName": 16,
    "lenType": 16,
    "lenVar": 40
   },
   "kernels_config": {
    "python": {
     "delete_cmd_postfix": "",
     "delete_cmd_prefix": "del ",
     "library": "var_list.py",
     "varRefreshCmd": "print(var_dic_list())"
    },
    "r": {
     "delete_cmd_postfix": ") ",
     "delete_cmd_prefix": "rm(",
     "library": "var_list.r",
     "varRefreshCmd": "cat(var_dic_list()) "
    }
   },
   "types_to_exclude": [
    "module",
    "function",
    "builtin_function_or_method",
    "instance",
    "_Feature"
   ],
   "window_display": false
  }
 },
 "nbformat": 4,
 "nbformat_minor": 2
}
