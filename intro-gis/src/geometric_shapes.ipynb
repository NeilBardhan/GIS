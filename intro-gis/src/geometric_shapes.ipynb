{
 "cells": [
  {
   "cell_type": "markdown",
   "metadata": {},
   "source": [
    "# Introduction to Geometric Shapes\n",
    "\n",
    "This jupyter notebook is a companion to [this]() post on Medium, which serves as an introduction to the basic building blocks of geospatial data. I strongly recommend going through these works in tandem as the material covered in both will help inform your knowledge of geospatial data.\n",
    "\n",
    "For this notebook, I will be using the [shapely](https://shapely.readthedocs.io/en/latest/) library for creating the geometric objects. It can be installed by running the command `pip install shapely` in your system terminal. I will also be using [mplleaflet](https://github.com/jwass/mplleaflet) to create interactive maps to display the geometric objects on a basemap to help us get a more intuitive understanding of these objects and their geometries. `mplleaflet` can be installed by running the command `pip install mplleaflet`."
   ]
  },
  {
   "cell_type": "markdown",
   "metadata": {},
   "source": [
    "## Importing the libraries"
   ]
  },
  {
   "cell_type": "code",
   "execution_count": 1,
   "metadata": {
    "ExecuteTime": {
     "end_time": "2020-07-06T02:03:13.306507Z",
     "start_time": "2020-07-06T02:03:12.257507Z"
    }
   },
   "outputs": [],
   "source": [
    "import os\n",
    "import mplleaflet\n",
    "import matplotlib.pyplot as plt\n",
    "from IPython.display import Image\n",
    "from IPython.display import JSON\n",
    "from shapely.ops import polygonize\n",
    "from shapely.geometry import (Point, LineString, Polygon, LinearRing)"
   ]
  },
  {
   "cell_type": "code",
   "execution_count": 2,
   "metadata": {
    "ExecuteTime": {
     "end_time": "2020-07-06T02:03:13.314509Z",
     "start_time": "2020-07-06T02:03:13.310507Z"
    }
   },
   "outputs": [],
   "source": [
    "os.chdir('..')"
   ]
  },
  {
   "cell_type": "markdown",
   "metadata": {},
   "source": [
    "## Points"
   ]
  },
  {
   "cell_type": "markdown",
   "metadata": {},
   "source": [
    "A point is the representation of a real-world location using it's Latitude and Longitude coordinates. `Shapely` has a function called `Point` that takes as input the longitude and the latitude of a Position and returns a `POINT` object which is a tuple containing those coordinates."
   ]
  },
  {
   "cell_type": "code",
   "execution_count": 3,
   "metadata": {
    "ExecuteTime": {
     "end_time": "2020-07-06T02:03:13.329509Z",
     "start_time": "2020-07-06T02:03:13.318508Z"
    }
   },
   "outputs": [
    {
     "name": "stdout",
     "output_type": "stream",
     "text": [
      "POINT (-0.093 51.52)\n",
      "POINT (51.52 -0.093)\n"
     ]
    }
   ],
   "source": [
    "lat = 51.520\n",
    "long = -0.093\n",
    "barbican = Point([long, lat])\n",
    "somewhere = Point([lat, long]) ## inherently incorrect, but serves as an illustration\n",
    "print(barbican)\n",
    "print(somewhere)"
   ]
  },
  {
   "cell_type": "markdown",
   "metadata": {},
   "source": [
    "This brings up an important question, *Why is the input* `[long, lat]` *in contrast to the conventional `[lat, long]`?* That's because `Shapely`'s `Point` function resolves the earth's geometric coordinates (long/lat) to the Cartesian coordinate system, where longitude is analogous to values on the $X$ axis and latitude is analogous to values on the $Y$ axis. Therefore, a `[long, lat]` pair can be considered to be similar to a `[x, y]` pair. If we were to reverse this, we would end up in an incorrect position on the earth's surface. Let's map it out!"
   ]
  },
  {
   "cell_type": "markdown",
   "metadata": {},
   "source": [
    "### Plotting Points"
   ]
  },
  {
   "cell_type": "code",
   "execution_count": 4,
   "metadata": {
    "ExecuteTime": {
     "end_time": "2020-07-06T02:03:13.511510Z",
     "start_time": "2020-07-06T02:03:13.332508Z"
    }
   },
   "outputs": [
    {
     "data": {
      "image/png": "[encoded data removed]",
      "text/plain": [
       "<Figure size 432x288 with 1 Axes>"
      ]
     },
     "metadata": {
      "needs_background": "light"
     },
     "output_type": "display_data"
    }
   ],
   "source": [
    "x = [barbican.x, somewhere.x]\n",
    "y = [barbican.y, somewhere.y]\n",
    "names = ['Barbican', 'Somewhere']\n",
    "\n",
    "map_fig = plt.scatter(x, y)\n",
    "\n",
    "for i, txt in enumerate(names):\n",
    "    map_fig._axes.annotate(txt, (x[i] + 1, y[i] - 1))"
   ]
  },
  {
   "cell_type": "markdown",
   "metadata": {},
   "source": [
    "While we can use `matplotlib` for plotting our points, such plots provide no contextual information from a geographic perspective. We already know where these points lie in the coordinate space, what we would like to know is where they lie on the earth's surface.\n",
    "To achieve this, we almost always need the help of **basemaps**, previously designed layers containing the visual geospatial information that we are used to seeing on Google Maps or OpenStreetMaps. We can build our own basemaps, however `mplleaflet`, running on **[leaflet.js](https://leafletjs.com/examples/quick-start/)**, serves as a great ready to go tool for our mapping needs."
   ]
  },
  {
   "cell_type": "code",
   "execution_count": 5,
   "metadata": {
    "ExecuteTime": {
     "end_time": "2020-07-06T02:03:13.579507Z",
     "start_time": "2020-07-06T02:03:13.514522Z"
    },
    "scrolled": true
   },
   "outputs": [
    {
     "name": "stderr",
     "output_type": "stream",
     "text": [
      "C:\\anaconda\\lib\\site-packages\\IPython\\core\\display.py:694: UserWarning: Consider using IPython.display.IFrame instead\n",
      "  warnings.warn(\"Consider using IPython.display.IFrame instead\")\n"
     ]
    },
    {
     "data": {
      "text/html": [
       "<iframe src=\"data:text/html;base64,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\" width=\"100%\" height=\"240\"></iframe>"
      ],
      "text/plain": [
       "<IPython.core.display.HTML object>"
      ]
     },
     "execution_count": 5,
     "metadata": {},
     "output_type": "execute_result"
    }
   ],
   "source": [
    "mplleaflet.display(fig=map_fig.figure)"
   ]
  },
  {
   "cell_type": "markdown",
   "metadata": {},
   "source": [
    "Now this is information we can relate to! The 2 points here are - the correct point and the incorrect point. Can you guess which is the incorrect one?\n",
    "Accidentally interchanging the lat and the long provide us with a point off the eastern coast of Africa as opposed to a cultural center in the City of London. Here is what the correct map should look like with only the correct point plotted."
   ]
  },
  {
   "cell_type": "code",
   "execution_count": 6,
   "metadata": {
    "ExecuteTime": {
     "end_time": "2020-07-06T02:03:13.662512Z",
     "start_time": "2020-07-06T02:03:13.582508Z"
    }
   },
   "outputs": [
    {
     "data": {
      "text/html": [
       "<iframe src=\"data:text/html;base64,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\" width=\"100%\" height=\"240\"></iframe>"
      ],
      "text/plain": [
       "<IPython.core.display.HTML object>"
      ]
     },
     "execution_count": 6,
     "metadata": {},
     "output_type": "execute_result"
    }
   ],
   "source": [
    "map_fig = plt.scatter(barbican.x, barbican.y)\n",
    "mplleaflet.display(fig=map_fig.figure)"
   ]
  },
  {
   "cell_type": "markdown",
   "metadata": {},
   "source": [
    "## Lines"
   ]
  },
  {
   "cell_type": "markdown",
   "metadata": {},
   "source": [
    "A Line in it's simplest form connects two Points with a straight line. `Shapely` provides us with the `LineString` function to create `Line` geometric objects which takes as input at least two points. We have already considered The Barbican Center `[-0.093, 51.520]`, let's consider the Royal Observatory at Greenwich `[0.0, 51.476]`. A Line would simply connect these 2 Points."
   ]
  },
  {
   "cell_type": "code",
   "execution_count": 7,
   "metadata": {
    "ExecuteTime": {
     "end_time": "2020-07-06T02:03:13.672505Z",
     "start_time": "2020-07-06T02:03:13.664509Z"
    }
   },
   "outputs": [
    {
     "name": "stdout",
     "output_type": "stream",
     "text": [
      "LINESTRING (-0.093 51.52, 0 51.476)\n"
     ]
    }
   ],
   "source": [
    "royal_observatory = Point([0.0, 51.476])\n",
    "\n",
    "l1 = LineString([barbican, royal_observatory])\n",
    "print(l1)"
   ]
  },
  {
   "cell_type": "markdown",
   "metadata": {},
   "source": [
    "### Plotting Lines"
   ]
  },
  {
   "cell_type": "markdown",
   "metadata": {},
   "source": [
    "Let's plot this line in `matplotlib` and overlay it on a basemap using `mplleaflet`. This is a non-directional, straight line connecting 2 points, The Barbican and The Royal Observatory in London."
   ]
  },
  {
   "cell_type": "code",
   "execution_count": 8,
   "metadata": {
    "ExecuteTime": {
     "end_time": "2020-07-06T02:03:13.821508Z",
     "start_time": "2020-07-06T02:03:13.677507Z"
    }
   },
   "outputs": [
    {
     "data": {
      "image/png": "[encoded data removed]",
      "text/plain": [
       "<Figure size 432x288 with 1 Axes>"
      ]
     },
     "metadata": {
      "needs_background": "light"
     },
     "output_type": "display_data"
    }
   ],
   "source": [
    "x = [barbican.x, royal_observatory.x]\n",
    "y = [barbican.y, royal_observatory.y]\n",
    "\n",
    "line_fig = plt.plot(x, y, color = 'blue')[0]"
   ]
  },
  {
   "cell_type": "code",
   "execution_count": 9,
   "metadata": {
    "ExecuteTime": {
     "end_time": "2020-07-06T02:03:13.878506Z",
     "start_time": "2020-07-06T02:03:13.824506Z"
    }
   },
   "outputs": [
    {
     "data": {
      "text/html": [
       "<iframe src=\"data:text/html;base64,PGhlYWQ+CiAgICA8c2NyaXB0IHNyYz0iaHR0cHM6Ly9jZG5qcy5jbG91ZGZsYXJlLmNvbS9hamF4L2xpYnMvbGVhZmxldC8wLjcuMy9sZWFmbGV0LmpzIj48L3NjcmlwdD4KICAgIDxsaW5rIHJlbD0ic3R5bGVzaGVldCIgaHJlZj0iaHR0cHM6Ly9jZG5qcy5jbG91ZGZsYXJlLmNvbS9hamF4L2xpYnMvbGVhZmxldC8wLjcuMy9sZWFmbGV0LmNzcyIgLz4KICA8c3R5bGU+CiAgICAjbWFwMTQ0NWMyMTQxZmYzNDE1Zjg0ODMxODI4MzdjNzY1NzkgewogICAgICBoZWlnaHQ6MTAwJTsKICAgIH0KICA8L3N0eWxlPiAKPC9oZWFkPgo8Ym9keT4KICA8ZGl2IGlkPSJtYXAxNDQ1YzIxNDFmZjM0MTVmODQ4MzE4MjgzN2M3NjU3OSI+PC9kaXY+CjxzY3JpcHQgdGV4dD0idGV4dC9qYXZhc2NyaXB0Ij4KdmFyIG1hcCA9IEwubWFwKCdtYXAxNDQ1YzIxNDFmZjM0MTVmODQ4MzE4MjgzN2M3NjU3OScpOwpMLnRpbGVMYXllcigKICAiaHR0cDovL3tzfS5iYXNlbWFwcy5jYXJ0b2Nkbi5jb20vbGlnaHRfYWxsL3t6fS97eH0ve3l9LnBuZyIsCiAge21heFpvb206MTksIGF0dHJpYnV0aW9uOiAnPGEgaHJlZj0iaHR0cHM6Ly9naXRodWIuY29tL2p3YXNzL21wbGxlYWZsZXQiPm1wbGxlYWZsZXQ8L2E+IHwgJmNvcHk7IDxhIGhyZWY9Imh0dHA6Ly93d3cub3BlbnN0cmVldG1hcC5vcmcvY29weXJpZ2h0Ij5PcGVuU3RyZWV0TWFwPC9hPiAmY29weTsgPGEgaHJlZj0iaHR0cDovL2NhcnRvZGIuY29tL2F0dHJpYnV0aW9ucyI+Q2FydG9EQjwvYT4nfSkuYWRkVG8obWFwKTsKdmFyIGdqRGF0YSA9IHsidHlwZSI6ICJGZWF0dXJlQ29sbGVjdGlvbiIsICJmZWF0dXJlcyI6IFt7InR5cGUiOiAiRmVhdHVyZSIsICJnZW9tZXRyeSI6IHsidHlwZSI6ICJMaW5lU3RyaW5nIiwgImNvb3JkaW5hdGVzIjogW1stMC4wOTMsIDUxLjUyXSwgWzAuMCwgNTEuNDc2XV19LCAicHJvcGVydGllcyI6IHsiY29sb3IiOiAiIzAwMDBGRiIsICJ3ZWlnaHQiOiAxLjUsICJvcGFjaXR5IjogMX19XX07CgppZiAoZ2pEYXRhLmZlYXR1cmVzLmxlbmd0aCAhPSAwKSB7CiAgdmFyIGdqID0gTC5nZW9Kc29uKGdqRGF0YSwgewogICAgc3R5bGU6IGZ1bmN0aW9uIChmZWF0dXJlKSB7CiAgICAgIHJldHVybiBmZWF0dXJlLnByb3BlcnRpZXM7CiAgICB9LAogICAgcG9pbnRUb0xheWVyOiBmdW5jdGlvbiAoZmVhdHVyZSwgbGF0bG5nKSB7CiAgICAgIHZhciBpY29uID0gTC5kaXZJY29uKHsnaHRtbCc6IGZlYXR1cmUucHJvcGVydGllcy5odG1sLCAKICAgICAgICBpY29uQW5jaG9yOiBbZmVhdHVyZS5wcm9wZXJ0aWVzLmFuY2hvcl94LCAKICAgICAgICAgICAgICAgICAgICAgZmVhdHVyZS5wcm9wZXJ0aWVzLmFuY2hvcl95XSwgCiAgICAgICAgICBjbGFzc05hbWU6ICdlbXB0eSd9KTsgIC8vIFdoYXQgY2FuIEkgZG8gYWJvdXQgZW1wdHk/CiAgICAgIHJldHVybiBMLm1hcmtlcihsYXRsbmcsIHtpY29uOiBpY29ufSk7CiAgICB9CiAgfSk7CiAgZ2ouYWRkVG8obWFwKTsKICAKICBtYXAuZml0Qm91bmRzKGdqLmdldEJvdW5kcygpKTsKfSBlbHNlIHsKICBtYXAuc2V0VmlldyhbMCwgMF0sIDEpOwp9Cjwvc2NyaXB0Pgo8L2JvZHk+\" width=\"100%\" height=\"240\"></iframe>"
      ],
      "text/plain": [
       "<IPython.core.display.HTML object>"
      ]
     },
     "execution_count": 9,
     "metadata": {},
     "output_type": "execute_result"
    }
   ],
   "source": [
    "mplleaflet.display(fig=line_fig.figure, tiles = 'cartodb_positron')"
   ]
  },
  {
   "cell_type": "markdown",
   "metadata": {},
   "source": [
    "## Polygons"
   ]
  },
  {
   "cell_type": "markdown",
   "metadata": {},
   "source": [
    "To help us better understand Polygons, we need to understand the concept of **Linear Rings**. A linear ring is a closed LineString with **four or more** Positions, where the first and last Positions are the same. A linear ring is the boundary of a surface or the boundary of a hole in a surface.\n",
    "\n",
    "Polygons are arrays of Linear Ring coordinates. To illustrate Polygons and Linear Rings, in addition to The Barbican `[-0.093, 51.520]` and the Royal Observatory `[0.0, 51.476]`, consider the Olympic Stadium `[-0.0165, 51.538]`. Let's assume that on our London day trip that we make a stop at the Olympic Stadium *before* heading to the Royal Observatory."
   ]
  },
  {
   "cell_type": "code",
   "execution_count": 10,
   "metadata": {
    "ExecuteTime": {
     "end_time": "2020-07-06T02:03:13.885507Z",
     "start_time": "2020-07-06T02:03:13.880507Z"
    }
   },
   "outputs": [],
   "source": [
    "## Create Point object for the Olympic Stadium\n",
    "stadium = Point([-0.0165, 51.538])"
   ]
  },
  {
   "cell_type": "code",
   "execution_count": 11,
   "metadata": {
    "ExecuteTime": {
     "end_time": "2020-07-06T02:03:13.896505Z",
     "start_time": "2020-07-06T02:03:13.887507Z"
    }
   },
   "outputs": [
    {
     "name": "stdout",
     "output_type": "stream",
     "text": [
      "POINT (-0.093 51.52)\n",
      "POINT (0 51.476)\n",
      "POINT (-0.0165 51.538)\n"
     ]
    }
   ],
   "source": [
    "## We have 3 points/Positions/Vertices for our Polygon\n",
    "print(barbican)\n",
    "print(royal_observatory)\n",
    "print(stadium)"
   ]
  },
  {
   "cell_type": "markdown",
   "metadata": {},
   "source": [
    "We feed in our Point coordinates to the `Polygon` function from `shapely` to get a `Polygon` object. Note that `shapely` is able to intuit that the first and last positions must be equal. Therefore, we needn't provide the last Point as an input.\n",
    "\n",
    "It is important to remember, that we must traverse our Points in clockwork order to get the correct Polygon."
   ]
  },
  {
   "cell_type": "code",
   "execution_count": 12,
   "metadata": {
    "ExecuteTime": {
     "end_time": "2020-07-06T02:03:13.905514Z",
     "start_time": "2020-07-06T02:03:13.898505Z"
    }
   },
   "outputs": [
    {
     "name": "stdout",
     "output_type": "stream",
     "text": [
      "POLYGON ((-0.093 51.52, -0.0165 51.538, 0 51.476, -0.093 51.52))\n"
     ]
    }
   ],
   "source": [
    "point_list = [barbican, stadium, royal_observatory]\n",
    "poly = Polygon([[p.x, p.y] for p in point_list])\n",
    "print(poly)"
   ]
  },
  {
   "cell_type": "markdown",
   "metadata": {},
   "source": [
    "### Plotting Polygons"
   ]
  },
  {
   "cell_type": "markdown",
   "metadata": {},
   "source": [
    "We have created our Polygon, given the Points. Now let's plot our Polygon in `matplotlib` and `mplleaflet`."
   ]
  },
  {
   "cell_type": "code",
   "execution_count": 13,
   "metadata": {
    "ExecuteTime": {
     "end_time": "2020-07-06T02:03:14.080510Z",
     "start_time": "2020-07-06T02:03:13.907507Z"
    }
   },
   "outputs": [
    {
     "data": {
      "image/png": "[encoded data removed]",
      "text/plain": [
       "<Figure size 432x288 with 1 Axes>"
      ]
     },
     "metadata": {
      "needs_background": "light"
     },
     "output_type": "display_data"
    }
   ],
   "source": [
    "coords = poly.exterior.coords\n",
    "pts = list(coords)\n",
    "x,y = zip(*pts)\n",
    "poly_fig = plt.plot(x,y)[0]"
   ]
  },
  {
   "cell_type": "code",
   "execution_count": 14,
   "metadata": {
    "ExecuteTime": {
     "end_time": "2020-07-06T02:03:14.135506Z",
     "start_time": "2020-07-06T02:03:14.082506Z"
    }
   },
   "outputs": [
    {
     "data": {
      "text/html": [
       "<iframe src=\"data:text/html;base64,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\" width=\"100%\" height=\"240\"></iframe>"
      ],
      "text/plain": [
       "<IPython.core.display.HTML object>"
      ]
     },
     "execution_count": 14,
     "metadata": {},
     "output_type": "execute_result"
    }
   ],
   "source": [
    "mplleaflet.display(fig=poly_fig.figure, tiles = 'cartodb_positron')"
   ]
  },
  {
   "cell_type": "markdown",
   "metadata": {},
   "source": [
    "### Holes in Polygons"
   ]
  },
  {
   "cell_type": "markdown",
   "metadata": {},
   "source": [
    "Polygons are not just closed areas, but can have internal linear rings or holes nested in exterior linear rings. The image below shows what that would look like on a map.\n",
    "\n",
    "![polygon_holes](inner_ring.png)"
   ]
  },
  {
   "cell_type": "markdown",
   "metadata": {},
   "source": [
    "Now would be a good time to introduce **geoJSON** files. So far, we have been working with hardcoded values. We live in the age of Big Data and rarely come across values in the tens and hundreds. geoJSON files are a lightweight, JSON standard file-format used to store geometric data.\n",
    "Working with geoJSON files in Python is very easy. We will be using the [`geopandas`](https://geopandas.org/) library to work with geoJSON files, `geopandas` is an extension of the `pandas` library and makes working with geoJSON a breeze."
   ]
  },
  {
   "cell_type": "markdown",
   "metadata": {},
   "source": [
    "## geoJSON and geopandas"
   ]
  },
  {
   "cell_type": "markdown",
   "metadata": {},
   "source": [
    "### Importing the libraries\n",
    "\n",
    "We will be using `geopandas` for reading in `.geojson` files. We will also be using a web-tool from [geojson.io](https://geojson.io) called `geojsonio` to display our geometric object in the browser. "
   ]
  },
  {
   "cell_type": "code",
   "execution_count": 15,
   "metadata": {
    "ExecuteTime": {
     "end_time": "2020-07-06T02:03:15.097506Z",
     "start_time": "2020-07-06T02:03:14.137506Z"
    }
   },
   "outputs": [],
   "source": [
    "import geojsonio\n",
    "import geopandas as gpd"
   ]
  },
  {
   "cell_type": "markdown",
   "metadata": {},
   "source": [
    "### Importing the dataset"
   ]
  },
  {
   "cell_type": "code",
   "execution_count": 16,
   "metadata": {
    "ExecuteTime": {
     "end_time": "2020-07-06T02:03:15.102508Z",
     "start_time": "2020-07-06T02:03:15.099505Z"
    }
   },
   "outputs": [],
   "source": [
    "DATA_PATH = os.getcwd() + \"//data//\"\n",
    "fname = \"inner_ring.geojson\""
   ]
  },
  {
   "cell_type": "code",
   "execution_count": 17,
   "metadata": {
    "ExecuteTime": {
     "end_time": "2020-07-06T02:03:15.126507Z",
     "start_time": "2020-07-06T02:03:15.104507Z"
    }
   },
   "outputs": [
    {
     "data": {
      "text/html": [
       "<div>\n",
       "<style scoped>\n",
       "    .dataframe tbody tr th:only-of-type {\n",
       "        vertical-align: middle;\n",
       "    }\n",
       "\n",
       "    .dataframe tbody tr th {\n",
       "        vertical-align: top;\n",
       "    }\n",
       "\n",
       "    .dataframe thead th {\n",
       "        text-align: right;\n",
       "    }\n",
       "</style>\n",
       "<table border=\"1\" class=\"dataframe\">\n",
       "  <thead>\n",
       "    <tr style=\"text-align: right;\">\n",
       "      <th></th>\n",
       "      <th>geometry</th>\n",
       "    </tr>\n",
       "  </thead>\n",
       "  <tbody>\n",
       "    <tr>\n",
       "      <th>0</th>\n",
       "      <td>POLYGON ((12.00000 60.00000, -12.00000 60.0000...</td>\n",
       "    </tr>\n",
       "  </tbody>\n",
       "</table>\n",
       "</div>"
      ],
      "text/plain": [
       "                                            geometry\n",
       "0  POLYGON ((12.00000 60.00000, -12.00000 60.0000..."
      ]
     },
     "execution_count": 17,
     "metadata": {},
     "output_type": "execute_result"
    }
   ],
   "source": [
    "poly_ring = gpd.read_file(DATA_PATH + fname)\n",
    "poly_ring.head()"
   ]
  },
  {
   "cell_type": "code",
   "execution_count": 18,
   "metadata": {
    "ExecuteTime": {
     "end_time": "2020-07-06T02:03:15.134508Z",
     "start_time": "2020-07-06T02:03:15.129508Z"
    }
   },
   "outputs": [
    {
     "name": "stdout",
     "output_type": "stream",
     "text": [
      "<class 'geopandas.geodataframe.GeoDataFrame'>\n"
     ]
    }
   ],
   "source": [
    "print(type(poly_ring))"
   ]
  },
  {
   "cell_type": "markdown",
   "metadata": {},
   "source": [
    "`geopandas` reads in geospatial data from a multitude of formats and returns `geopandas` DataFrames. This abstraction of the geospatial data helps us perform a large variety of operations on our data by leveraging the convenience and efficiency of data frames."
   ]
  },
  {
   "cell_type": "markdown",
   "metadata": {},
   "source": [
    "### Visualizing the data"
   ]
  },
  {
   "cell_type": "markdown",
   "metadata": {},
   "source": [
    "We can visualize geoJSON geometries in 2 ways -\n",
    "   1. Using `geojsonio` - This is the most convenient way as we simply pass our geometry to a 3rd party application to do all the plotting.\n",
    "   2. Using `geopandas` and `mplleaflet` - We use our tried and tested method of first plotting out our geometry in `matplotlib` and then overlaying the figure on a basemap."
   ]
  },
  {
   "cell_type": "markdown",
   "metadata": {},
   "source": [
    "#### Using `geojsonio`"
   ]
  },
  {
   "cell_type": "code",
   "execution_count": 19,
   "metadata": {
    "ExecuteTime": {
     "end_time": "2020-07-06T02:03:15.534511Z",
     "start_time": "2020-07-06T02:03:15.136508Z"
    }
   },
   "outputs": [
    {
     "data": {
      "text/plain": [
       "'http://geojson.io/#data=data:application/json,%7B%22type%22%3A%20%22FeatureCollection%22%2C%20%22features%22%3A%20%5B%7B%22id%22%3A%20%220%22%2C%20%22type%22%3A%20%22Feature%22%2C%20%22properties%22%3A%20%7B%7D%2C%20%22geometry%22%3A%20%7B%22type%22%3A%20%22Polygon%22%2C%20%22coordinates%22%3A%20%5B%5B%5B12.0%2C%2060.0%5D%2C%20%5B-12.0%2C%2060.0%5D%2C%20%5B-12.0%2C%2040.0%5D%2C%20%5B12.0%2C%2040.0%5D%2C%20%5B12.0%2C%2060.0%5D%5D%2C%20%5B%5B-5.0%2C%2052.0%5D%2C%20%5B5.0%2C%2052.0%5D%2C%20%5B5.0%2C%2048.0%5D%2C%20%5B-5.0%2C%2048.0%5D%2C%20%5B-5.0%2C%2052.0%5D%5D%5D%7D%7D%5D%7D'"
      ]
     },
     "execution_count": 19,
     "metadata": {},
     "output_type": "execute_result"
    }
   ],
   "source": [
    "poly_ring_json = poly_ring.to_json()\n",
    "geojsonio.display(poly_ring_json)"
   ]
  },
  {
   "cell_type": "markdown",
   "metadata": {},
   "source": [
    "Running the above cell will open a new tab in your browser with the geoJSON data being displayed on a map in the left hand side panel and the raw data in the right hand side panel. [geojson.io](https://www.geojson.io) is a powerful web tool, you can add additional layers, edit the geoJSON file to add more geometries, save and share your work."
   ]
  },
  {
   "cell_type": "markdown",
   "metadata": {},
   "source": [
    "#### Using `geopandas` and `mplleaflet`"
   ]
  },
  {
   "cell_type": "markdown",
   "metadata": {},
   "source": [
    "`geopandas` has a very handy `plot` function that plots the geometry of our `geopandas` DataFrame. The `plot` function returns a `matplotlib` object that we can overlay on top of our `mplleaflet` basemap."
   ]
  },
  {
   "cell_type": "code",
   "execution_count": 20,
   "metadata": {
    "ExecuteTime": {
     "end_time": "2020-07-06T02:03:15.886527Z",
     "start_time": "2020-07-06T02:03:15.537508Z"
    }
   },
   "outputs": [
    {
     "data": {
      "image/png": "[encoded data removed]",
      "text/plain": [
       "<Figure size 432x288 with 1 Axes>"
      ]
     },
     "metadata": {
      "needs_background": "light"
     },
     "output_type": "display_data"
    }
   ],
   "source": [
    "poly_fig = poly_ring.plot(alpha = 0.4, color = 'red')"
   ]
  },
  {
   "cell_type": "code",
   "execution_count": 21,
   "metadata": {
    "ExecuteTime": {
     "end_time": "2020-07-06T02:03:15.981511Z",
     "start_time": "2020-07-06T02:03:15.892507Z"
    }
   },
   "outputs": [
    {
     "name": "stderr",
     "output_type": "stream",
     "text": [
      "C:\\anaconda\\lib\\site-packages\\IPython\\core\\display.py:694: UserWarning: Consider using IPython.display.IFrame instead\n",
      "  warnings.warn(\"Consider using IPython.display.IFrame instead\")\n"
     ]
    },
    {
     "data": {
      "text/html": [
       "<iframe src=\"data:text/html;base64,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\" width=\"100%\" height=\"240\"></iframe>"
      ],
      "text/plain": [
       "<IPython.core.display.HTML object>"
      ]
     },
     "execution_count": 21,
     "metadata": {},
     "output_type": "execute_result"
    }
   ],
   "source": [
    "mplleaflet.display(fig = poly_fig.figure, tiles = 'cartodb_positron')"
   ]
  },
  {
   "cell_type": "markdown",
   "metadata": {},
   "source": [
    "## Multi Geometries"
   ]
  },
  {
   "cell_type": "markdown",
   "metadata": {},
   "source": [
    "All the geometries we have seen have been single geometries; `Points`, `Lines` and `Polygons`. Because of the complexities of real-world shapes and figures, there are certain limitations of using single shapes as often the physical world contains entities that aren't just a single contiguous shape. For example, countries like the United Kingdom and the United States have multiple disconnected parts that need multiple shapes to correctly represent one geopolitical entity."
   ]
  },
  {
   "cell_type": "markdown",
   "metadata": {},
   "source": [
    "GeoJSON has versions of each of the three basic types with Multi stuck on the front: `MultiPolygon`, `MultiLineString`, `MultiPoint`. Together they give us something of a solution for multiple shapes.\n",
    "The way Multi Features are created is the same across all the types: **everything moves down a step of nesting**. The coordinates of the Barbican are represented as `[-0.093, 51.52]`, so a `MultiPoint` of the Barbican, the Olympic Stadium and the Royal Observatory will look like `[[-0.093, 51.520], [-0.0165, 51.538], [0.0, 51.476]]`."
   ]
  },
  {
   "cell_type": "markdown",
   "metadata": {},
   "source": [
    "### Multi Points"
   ]
  },
  {
   "cell_type": "code",
   "execution_count": 22,
   "metadata": {
    "ExecuteTime": {
     "end_time": "2020-07-06T02:03:16.014510Z",
     "start_time": "2020-07-06T02:03:15.985508Z"
    }
   },
   "outputs": [
    {
     "data": {
      "text/html": [
       "<div>\n",
       "<style scoped>\n",
       "    .dataframe tbody tr th:only-of-type {\n",
       "        vertical-align: middle;\n",
       "    }\n",
       "\n",
       "    .dataframe tbody tr th {\n",
       "        vertical-align: top;\n",
       "    }\n",
       "\n",
       "    .dataframe thead th {\n",
       "        text-align: right;\n",
       "    }\n",
       "</style>\n",
       "<table border=\"1\" class=\"dataframe\">\n",
       "  <thead>\n",
       "    <tr style=\"text-align: right;\">\n",
       "      <th></th>\n",
       "      <th>geometry</th>\n",
       "    </tr>\n",
       "  </thead>\n",
       "  <tbody>\n",
       "    <tr>\n",
       "      <th>0</th>\n",
       "      <td>MULTIPOINT (-0.09300 51.52000, 0.00000 51.4760...</td>\n",
       "    </tr>\n",
       "  </tbody>\n",
       "</table>\n",
       "</div>"
      ],
      "text/plain": [
       "                                            geometry\n",
       "0  MULTIPOINT (-0.09300 51.52000, 0.00000 51.4760..."
      ]
     },
     "execution_count": 22,
     "metadata": {},
     "output_type": "execute_result"
    }
   ],
   "source": [
    "## Reading in a file containing multiple points\n",
    "file_name = 'multi_points.geojson'\n",
    "multi_points = gpd.read_file(DATA_PATH + file_name)\n",
    "multi_points.head()"
   ]
  },
  {
   "cell_type": "markdown",
   "metadata": {},
   "source": [
    "A `MultiPoint` geometry contains multiple points in a single geometry and can be visualized on a basemap as shown below."
   ]
  },
  {
   "cell_type": "code",
   "execution_count": 23,
   "metadata": {
    "ExecuteTime": {
     "end_time": "2020-07-06T02:03:16.197509Z",
     "start_time": "2020-07-06T02:03:16.025510Z"
    }
   },
   "outputs": [
    {
     "name": "stderr",
     "output_type": "stream",
     "text": [
      "C:\\anaconda\\lib\\site-packages\\IPython\\core\\display.py:694: UserWarning: Consider using IPython.display.IFrame instead\n",
      "  warnings.warn(\"Consider using IPython.display.IFrame instead\")\n"
     ]
    },
    {
     "data": {
      "text/html": [
       "<iframe src=\"data:text/html;base64,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\" width=\"100%\" height=\"240\"></iframe>"
      ],
      "text/plain": [
       "<IPython.core.display.HTML object>"
      ]
     },
     "execution_count": 23,
     "metadata": {},
     "output_type": "execute_result"
    }
   ],
   "source": [
    "mlp_fig = multi_points.plot(alpha = 1, color = 'blue')\n",
    "mplleaflet.display(fig = mlp_fig.figure, tiles = 'cartodb_positron')"
   ]
  },
  {
   "cell_type": "markdown",
   "metadata": {},
   "source": [
    "### Multi Lines"
   ]
  },
  {
   "cell_type": "code",
   "execution_count": 24,
   "metadata": {
    "ExecuteTime": {
     "end_time": "2020-07-06T02:03:16.226509Z",
     "start_time": "2020-07-06T02:03:16.203513Z"
    }
   },
   "outputs": [
    {
     "data": {
      "text/html": [
       "<div>\n",
       "<style scoped>\n",
       "    .dataframe tbody tr th:only-of-type {\n",
       "        vertical-align: middle;\n",
       "    }\n",
       "\n",
       "    .dataframe tbody tr th {\n",
       "        vertical-align: top;\n",
       "    }\n",
       "\n",
       "    .dataframe thead th {\n",
       "        text-align: right;\n",
       "    }\n",
       "</style>\n",
       "<table border=\"1\" class=\"dataframe\">\n",
       "  <thead>\n",
       "    <tr style=\"text-align: right;\">\n",
       "      <th></th>\n",
       "      <th>geometry</th>\n",
       "    </tr>\n",
       "  </thead>\n",
       "  <tbody>\n",
       "    <tr>\n",
       "      <th>0</th>\n",
       "      <td>MULTILINESTRING ((-0.09300 51.52000, 0.00000 5...</td>\n",
       "    </tr>\n",
       "  </tbody>\n",
       "</table>\n",
       "</div>"
      ],
      "text/plain": [
       "                                            geometry\n",
       "0  MULTILINESTRING ((-0.09300 51.52000, 0.00000 5..."
      ]
     },
     "execution_count": 24,
     "metadata": {},
     "output_type": "execute_result"
    }
   ],
   "source": [
    "## Reading in a file containing multiple lines\n",
    "file_name = 'multi_line.geojson'\n",
    "multi_lines = gpd.read_file(DATA_PATH + file_name)\n",
    "multi_lines.head()"
   ]
  },
  {
   "cell_type": "markdown",
   "metadata": {},
   "source": [
    "The logic of Multiple Geometries extends to MultiLines and MultiPolygons as well. Here, we have a single geometry containing 2 different `LineStrings` as visualized below."
   ]
  },
  {
   "cell_type": "code",
   "execution_count": 25,
   "metadata": {
    "ExecuteTime": {
     "end_time": "2020-07-06T02:03:16.389509Z",
     "start_time": "2020-07-06T02:03:16.229511Z"
    }
   },
   "outputs": [
    {
     "name": "stderr",
     "output_type": "stream",
     "text": [
      "C:\\anaconda\\lib\\site-packages\\IPython\\core\\display.py:694: UserWarning: Consider using IPython.display.IFrame instead\n",
      "  warnings.warn(\"Consider using IPython.display.IFrame instead\")\n"
     ]
    },
    {
     "data": {
      "text/html": [
       "<iframe src=\"data:text/html;base64,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\" width=\"100%\" height=\"240\"></iframe>"
      ],
      "text/plain": [
       "<IPython.core.display.HTML object>"
      ]
     },
     "execution_count": 25,
     "metadata": {},
     "output_type": "execute_result"
    }
   ],
   "source": [
    "mll_fig = multi_lines.plot(alpha = 1, color = 'blue')\n",
    "mplleaflet.display(fig = mll_fig.figure, tiles = 'cartodb_positron')"
   ]
  },
  {
   "cell_type": "markdown",
   "metadata": {},
   "source": [
    "### Multi Polygons"
   ]
  },
  {
   "cell_type": "code",
   "execution_count": 26,
   "metadata": {
    "ExecuteTime": {
     "end_time": "2020-07-06T02:03:16.445509Z",
     "start_time": "2020-07-06T02:03:16.393509Z"
    }
   },
   "outputs": [
    {
     "data": {
      "text/html": [
       "<div>\n",
       "<style scoped>\n",
       "    .dataframe tbody tr th:only-of-type {\n",
       "        vertical-align: middle;\n",
       "    }\n",
       "\n",
       "    .dataframe tbody tr th {\n",
       "        vertical-align: top;\n",
       "    }\n",
       "\n",
       "    .dataframe thead th {\n",
       "        text-align: right;\n",
       "    }\n",
       "</style>\n",
       "<table border=\"1\" class=\"dataframe\">\n",
       "  <thead>\n",
       "    <tr style=\"text-align: right;\">\n",
       "      <th></th>\n",
       "      <th>name</th>\n",
       "      <th>abbreviation</th>\n",
       "      <th>capital</th>\n",
       "      <th>city</th>\n",
       "      <th>population</th>\n",
       "      <th>area</th>\n",
       "      <th>waterarea</th>\n",
       "      <th>landarea</th>\n",
       "      <th>houseseats</th>\n",
       "      <th>statehood</th>\n",
       "      <th>group</th>\n",
       "      <th>geometry</th>\n",
       "    </tr>\n",
       "  </thead>\n",
       "  <tbody>\n",
       "    <tr>\n",
       "      <th>0</th>\n",
       "      <td>Hawaii</td>\n",
       "      <td>HI</td>\n",
       "      <td>Honolulu</td>\n",
       "      <td>Honolulu</td>\n",
       "      <td>1404054</td>\n",
       "      <td>28314</td>\n",
       "      <td>11678</td>\n",
       "      <td>16635</td>\n",
       "      <td>2</td>\n",
       "      <td>1959-08-20</td>\n",
       "      <td>US States</td>\n",
       "      <td>MULTIPOLYGON (((-155.77823 20.24574, -155.7727...</td>\n",
       "    </tr>\n",
       "  </tbody>\n",
       "</table>\n",
       "</div>"
      ],
      "text/plain": [
       "     name abbreviation   capital      city  population   area  waterarea  \\\n",
       "0  Hawaii           HI  Honolulu  Honolulu     1404054  28314      11678   \n",
       "\n",
       "   landarea  houseseats   statehood      group  \\\n",
       "0     16635           2  1959-08-20  US States   \n",
       "\n",
       "                                            geometry  \n",
       "0  MULTIPOLYGON (((-155.77823 20.24574, -155.7727...  "
      ]
     },
     "execution_count": 26,
     "metadata": {},
     "output_type": "execute_result"
    }
   ],
   "source": [
    "## Reading in a file containing multiple polygons\n",
    "file_name = 'hawaii.geojson'\n",
    "multi_poly = gpd.read_file(DATA_PATH + file_name)\n",
    "multi_poly.head()"
   ]
  },
  {
   "cell_type": "markdown",
   "metadata": {},
   "source": [
    "A `MultiPolygon` geometry contains multiple polygon geometries within it to accurately reflect different shapes that comprise one geopolitical entity. For example, the US state of Hawaii contains multiple islands, each is it's own polygon, but is part of a `MultiPolygon` geometry."
   ]
  },
  {
   "cell_type": "code",
   "execution_count": 27,
   "metadata": {
    "ExecuteTime": {
     "end_time": "2020-07-06T02:03:16.750519Z",
     "start_time": "2020-07-06T02:03:16.448511Z"
    }
   },
   "outputs": [
    {
     "name": "stderr",
     "output_type": "stream",
     "text": [
      "C:\\anaconda\\lib\\site-packages\\IPython\\core\\display.py:694: UserWarning: Consider using IPython.display.IFrame instead\n",
      "  warnings.warn(\"Consider using IPython.display.IFrame instead\")\n"
     ]
    },
    {
     "data": {
      "text/html": [
       "<iframe src=\"data:text/html;base64,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\" width=\"100%\" height=\"240\"></iframe>"
      ],
      "text/plain": [
       "<IPython.core.display.HTML object>"
      ]
     },
     "execution_count": 27,
     "metadata": {},
     "output_type": "execute_result"
    }
   ],
   "source": [
    "hawaii_fig = multi_poly.plot(alpha = 0.4, color = 'red')\n",
    "mplleaflet.display(fig = hawaii_fig.figure, tiles = 'cartodb_positron')"
   ]
  },
  {
   "cell_type": "markdown",
   "metadata": {},
   "source": [
    "## FeatureCollection"
   ]
  },
  {
   "cell_type": "markdown",
   "metadata": {},
   "source": [
    "A Feature is the combination of the geometries and properties of a single entity in one JSON object. A FeatureCollection expands upon this by aggregating multiple features into one JSON object."
   ]
  },
  {
   "cell_type": "code",
   "execution_count": 28,
   "metadata": {
    "ExecuteTime": {
     "end_time": "2020-07-06T02:03:16.796512Z",
     "start_time": "2020-07-06T02:03:16.756511Z"
    }
   },
   "outputs": [
    {
     "data": {
      "text/html": [
       "<div>\n",
       "<style scoped>\n",
       "    .dataframe tbody tr th:only-of-type {\n",
       "        vertical-align: middle;\n",
       "    }\n",
       "\n",
       "    .dataframe tbody tr th {\n",
       "        vertical-align: top;\n",
       "    }\n",
       "\n",
       "    .dataframe thead th {\n",
       "        text-align: right;\n",
       "    }\n",
       "</style>\n",
       "<table border=\"1\" class=\"dataframe\">\n",
       "  <thead>\n",
       "    <tr style=\"text-align: right;\">\n",
       "      <th></th>\n",
       "      <th>OBJECTID</th>\n",
       "      <th>NAME</th>\n",
       "      <th>PHONE</th>\n",
       "      <th>ADDRESS_1</th>\n",
       "      <th>EASTING</th>\n",
       "      <th>NORTHING</th>\n",
       "      <th>geometry</th>\n",
       "    </tr>\n",
       "  </thead>\n",
       "  <tbody>\n",
       "    <tr>\n",
       "      <th>0</th>\n",
       "      <td>4</td>\n",
       "      <td>The British Home</td>\n",
       "      <td>020 8670 8261</td>\n",
       "      <td>Crown Lane</td>\n",
       "      <td>531665.583780</td>\n",
       "      <td>171071.707000</td>\n",
       "      <td>POINT (-0.10769 51.42337)</td>\n",
       "    </tr>\n",
       "    <tr>\n",
       "      <th>1</th>\n",
       "      <td>3</td>\n",
       "      <td>St Thomas' Hospital</td>\n",
       "      <td>020 7188 7188</td>\n",
       "      <td>Westminster Bridge Road</td>\n",
       "      <td>530690.266411</td>\n",
       "      <td>179520.014880</td>\n",
       "      <td>POINT (-0.11859 51.49952)</td>\n",
       "    </tr>\n",
       "    <tr>\n",
       "      <th>2</th>\n",
       "      <td>1</td>\n",
       "      <td>King's College Hospital</td>\n",
       "      <td></td>\n",
       "      <td>Denmark Hill</td>\n",
       "      <td>532480.501884</td>\n",
       "      <td>176018.086789</td>\n",
       "      <td>POINT (-0.09413 51.46763)</td>\n",
       "    </tr>\n",
       "    <tr>\n",
       "      <th>3</th>\n",
       "      <td>2</td>\n",
       "      <td>Lambeth Hospital</td>\n",
       "      <td></td>\n",
       "      <td>108 Landor Road</td>\n",
       "      <td>530476.116328</td>\n",
       "      <td>175768.648988</td>\n",
       "      <td>POINT (-0.12306 51.46586)</td>\n",
       "    </tr>\n",
       "  </tbody>\n",
       "</table>\n",
       "</div>"
      ],
      "text/plain": [
       "   OBJECTID                     NAME          PHONE                ADDRESS_1  \\\n",
       "0         4         The British Home  020 8670 8261               Crown Lane   \n",
       "1         3      St Thomas' Hospital  020 7188 7188  Westminster Bridge Road   \n",
       "2         1  King's College Hospital                            Denmark Hill   \n",
       "3         2         Lambeth Hospital                         108 Landor Road   \n",
       "\n",
       "         EASTING       NORTHING                   geometry  \n",
       "0  531665.583780  171071.707000  POINT (-0.10769 51.42337)  \n",
       "1  530690.266411  179520.014880  POINT (-0.11859 51.49952)  \n",
       "2  532480.501884  176018.086789  POINT (-0.09413 51.46763)  \n",
       "3  530476.116328  175768.648988  POINT (-0.12306 51.46586)  "
      ]
     },
     "execution_count": 28,
     "metadata": {},
     "output_type": "execute_result"
    }
   ],
   "source": [
    "## Reading in a file containing multiple polygons\n",
    "file_name = 'Emergency_Services.geojson'\n",
    "fc = gpd.read_file(DATA_PATH + file_name)\n",
    "fc.head()"
   ]
  },
  {
   "cell_type": "markdown",
   "metadata": {},
   "source": [
    "A FeatureCollection is simply an array of Features. A FeatureCollection also must have Feature objects under the key `features`. The array needs to contain Feature objects only. When parsed by `geopandas` into a DataFrame, a FeatureCollection will yield multiple rows in the data frame, one for each feature. The dataframe above is a dataset containing the geometries of 4 hospitals in the London Borough of Lambeth. The source geoJSON looks as follows - "
   ]
  },
  {
   "cell_type": "code",
   "execution_count": 29,
   "metadata": {
    "ExecuteTime": {
     "end_time": "2020-07-06T02:03:16.823512Z",
     "start_time": "2020-07-06T02:03:16.802514Z"
    }
   },
   "outputs": [
    {
     "name": "stdout",
     "output_type": "stream",
     "text": [
      "{\n",
      "  \"type\": \"FeatureCollection\",\n",
      "  \"features\": [\n",
      "    {\n",
      "      \"id\": \"0\",\n",
      "      \"type\": \"Feature\",\n",
      "      \"properties\": {\n",
      "        \"ADDRESS_1\": \"Crown Lane\",\n",
      "        \"EASTING\": 531665.58378,\n",
      "        \"NAME\": \"The British Home\",\n",
      "        \"NORTHING\": 171071.707,\n",
      "        \"OBJECTID\": 4,\n",
      "        \"PHONE\": \"020 8670 8261\"\n",
      "      },\n",
      "      \"geometry\": {\n",
      "        \"type\": \"Point\",\n",
      "        \"coordinates\": [\n",
      "          -0.107692276012846,\n",
      "          51.423370584443816\n",
      "        ]\n",
      "      }\n",
      "    },\n",
      "    {\n",
      "      \"id\": \"1\",\n",
      "      \"type\": \"Feature\",\n",
      "      \"properties\": {\n",
      "        \"ADDRESS_1\": \"Westminster Bridge Road\",\n",
      "        \"EASTING\": 530690.266411,\n",
      "        \"NAME\": \"St Thomas' Hospital\",\n",
      "        \"NORTHING\": 179520.01488,\n",
      "        \"OBJECTID\": 3,\n",
      "        \"PHONE\": \"020 7188 7188\"\n",
      "      },\n",
      "      \"geometry\": {\n",
      "        \"type\": \"Point\",\n",
      "        \"coordinates\": [\n",
      "          -0.11859200065567,\n",
      "          51.4995183419949\n",
      "        ]\n",
      "      }\n",
      "    },\n",
      "    {\n",
      "      \"id\": \"2\",\n",
      "      \"type\": \"Feature\",\n",
      "      \"properties\": {\n",
      "        \"ADDRESS_1\": \"Denmark Hill\",\n",
      "        \"EASTING\": 532480.501884,\n",
      "        \"NAME\": \"King's College Hospital\",\n",
      "        \"NORTHING\": 176018.086789,\n",
      "        \"OBJECTID\": 1,\n",
      "        \"PHONE\": \" \"\n",
      "      },\n",
      "      \"geometry\": {\n",
      "        \"type\": \"Point\",\n",
      "        \"coordinates\": [\n",
      "          -0.094128643302656,\n",
      "          51.46763188274562\n",
      "        ]\n",
      "      }\n",
      "    },\n",
      "    {\n",
      "      \"id\": \"3\",\n",
      "      \"type\": \"Feature\",\n",
      "      \"properties\": {\n",
      "        \"ADDRESS_1\": \"108 Landor Road\",\n",
      "        \"EASTING\": 530476.116328,\n",
      "        \"NAME\": \"Lambeth Hospital\",\n",
      "        \"NORTHING\": 175768.648988,\n",
      "        \"OBJECTID\": 2,\n",
      "        \"PHONE\": \" \"\n",
      "      },\n",
      "      \"geometry\": {\n",
      "        \"type\": \"Point\",\n",
      "        \"coordinates\": [\n",
      "          -0.123060098328635,\n",
      "          51.46585552193866\n",
      "        ]\n",
      "      }\n",
      "    }\n",
      "  ]\n",
      "}\n"
     ]
    }
   ],
   "source": [
    "print(fc.to_json(indent=2))"
   ]
  },
  {
   "cell_type": "code",
   "execution_count": 30,
   "metadata": {
    "ExecuteTime": {
     "end_time": "2020-07-06T02:03:17.041507Z",
     "start_time": "2020-07-06T02:03:16.829511Z"
    }
   },
   "outputs": [
    {
     "name": "stderr",
     "output_type": "stream",
     "text": [
      "C:\\anaconda\\lib\\site-packages\\IPython\\core\\display.py:694: UserWarning: Consider using IPython.display.IFrame instead\n",
      "  warnings.warn(\"Consider using IPython.display.IFrame instead\")\n"
     ]
    },
    {
     "data": {
      "text/html": [
       "<iframe src=\"data:text/html;base64,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\" width=\"100%\" height=\"240\"></iframe>"
      ],
      "text/plain": [
       "<IPython.core.display.HTML object>"
      ]
     },
     "execution_count": 30,
     "metadata": {},
     "output_type": "execute_result"
    }
   ],
   "source": [
    "fc_fig = fc.plot(alpha = 1, color = 'blue')\n",
    "mplleaflet.display(fig = fc_fig.figure, tiles = 'cartodb_positron')"
   ]
  },
  {
   "cell_type": "markdown",
   "metadata": {},
   "source": [
    "## Wrapping Up"
   ]
  },
  {
   "cell_type": "markdown",
   "metadata": {},
   "source": [
    "I hope this was a thorough introduction to the charms of working with geospatial data. If you have any questions, feel free to ask them in the comments of the companion Medium post. I hope this was an informative read. I will be back soon with Part II, where I will explore some operations involving geospatial data, such as distance calculation and geocoding, in the meantime, feel free to fork this notebook and run your own experiments!"
   ]
  }
 ],
 "metadata": {
  "kernelspec": {
   "display_name": "Python 3",
   "language": "python",
   "name": "python3"
  },
  "language_info": {
   "codemirror_mode": {
    "name": "ipython",
    "version": 3
   },
   "file_extension": ".py",
   "mimetype": "text/x-python",
   "name": "python",
   "nbconvert_exporter": "python",
   "pygments_lexer": "ipython3",
   "version": "3.7.4"
  },
  "toc": {
   "base_numbering": 1,
   "nav_menu": {},
   "number_sections": false,
   "sideBar": true,
   "skip_h1_title": false,
   "title_cell": "Table of Contents",
   "title_sidebar": "Contents",
   "toc_cell": false,
   "toc_position": {},
   "toc_section_display": true,
   "toc_window_display": false
  },
  "varInspector": {
   "cols": {
    "lenName": 16,
    "lenType": 16,
    "lenVar": 40
   },
   "kernels_config": {
    "python": {
     "delete_cmd_postfix": "",
     "delete_cmd_prefix": "del ",
     "library": "var_list.py",
     "varRefreshCmd": "print(var_dic_list())"
    },
    "r": {
     "delete_cmd_postfix": ") ",
     "delete_cmd_prefix": "rm(",
     "library": "var_list.r",
     "varRefreshCmd": "cat(var_dic_list()) "
    }
   },
   "types_to_exclude": [
    "module",
    "function",
    "builtin_function_or_method",
    "instance",
    "_Feature"
   ],
   "window_display": false
  }
 },
 "nbformat": 4,
 "nbformat_minor": 2
}
