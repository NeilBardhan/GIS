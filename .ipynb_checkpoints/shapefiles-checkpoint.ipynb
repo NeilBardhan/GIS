{
 "cells": [
  {
   "cell_type": "markdown",
   "metadata": {},
   "source": [
    "# Handling Shapefiles in Python"
   ]
  },
  {
   "cell_type": "markdown",
   "metadata": {},
   "source": [
    "Shapefiles are one of the most popular file formats for storing **vector** geospatial data. The shapefile was created by Esri, the makers of ArcGIS in the early 1990s. You can take a deep dive into the whitepaper **[here](https://www.esri.com/library/whitepapers/pdfs/shapefile.pdf)**.\n",
    "\n",
    "**[GADM](https://gadm.org/download_country_v3.html)** is a great source from where you can download shapefiles for the country of your choice. I will be using the shapefiles of **Switzerland** for this example.\n",
    "\n",
    "Shapefiles have a file extension of `.shp` After downloading the `.zip` file and extracting the contents, you should note two important things.\n",
    "1. The data are arranged into a hierarchy. The filenames end with $adm_{0}$, $adm_{1}$ or $adm_{n}$. They indicate the levels of **administrative regions** in that country. \n",
    "    *  $adm_{0}$ indicates that the shapefile contains geometric data pertaining to the National/Federal level. \n",
    "    *  $adm_{1}$ indicates that the shapefile contains geometric data for the states and provinical level.\n",
    "    * The levels get finer in granularity based on how many divisions of government there are in a single country. Switzerland only has administrative levels up to $adm_{1}$, the United States has administrative levels down to $adm_{2}$ (county/district). \n",
    "    *  Other geometric datasets might have finer levels of granularity. When looking for geospatial data, always ensure that you have the correct granularity of the data. If you are working on mapping public transport routes a shapefile containing town/city level granularity might better suit your needs than a shapefile with state/province granularity.\n",
    "2. Apart from the `.shp` file there are files bearing the same name and having different extensions. Let us look at what they signify. \n",
    "    * `.shp` - This is the main data file. It is a variable-record-length file in which each record describes a **shape with a list of its geometries**.\n",
    "    * `.shx` - This is the **Index file**. Each record contains the offset of the corresponding main file record from the beginning of the main file.\n",
    "    * `.dbf` - This is the dBASE Table file. **DBF contains feature attributes** with one record per feature. The one-to-one relationship between geometry and attributes is based on record number. Attribute records in the dBASE file must be in the same order as records in the main file.\n",
    "    * `.cpg` - An optional file that can be used to specify the codepage for **identifying the character set** to be used.\n",
    "    * `.prj` - Projections Definition file; **stores coordinate system information**.\n",
    "    \n",
    "The `.shp`, `.shx` and `.prj` files must always be in the same directory structure. Failing that would make a singular shapefile unreadable as we would lose the index data along with the record locators for geospatial **features**."
   ]
  },
  {
   "cell_type": "markdown",
   "metadata": {},
   "source": [
    "## Opening Shapefiles in QGIS"
   ]
  },
  {
   "cell_type": "markdown",
   "metadata": {},
   "source": [
    "There are plenty of ways to view the contents of a shapefile. The quickest and easiest way to do so is to use **[QGIS]( https://qgis.org/en/site/forusers/download.html)**, a powerful GIS mapping software. To load a shapefile into QGIS, simply follow these steps - \n",
    "  1. Assuming you have QGIS installed, open the program.\n",
    "  2. From the menu bar, **Layer** $->$ **Add Layer** $->$ **Add Vector Layer...**\n",
    "  3. Select your **Source Type** as `File`.\n",
    "  4. From the **Source** textbox, navigate to the directory containing your `.shp` file.\n",
    "  5. Select the `.shp` file, and click on the **add** button to **add** the shapefile as a layer to the QGIS project.\n",
    "  6. You can repeat this process to add more shapefiles into the project from the same dialog box. Once completed, hit **Close**."
   ]
  },
  {
   "cell_type": "markdown",
   "metadata": {},
   "source": [
    "## Handling Shapefiles using Python"
   ]
  },
  {
   "cell_type": "markdown",
   "metadata": {},
   "source": [
    "While QGIS is very convenient it is a manual process. To overcome that we need to be able to handle shapefiles programmatically. In Python this can be done using the excellent `geopandas` library."
   ]
  },
  {
   "cell_type": "markdown",
   "metadata": {},
   "source": [
    "### Importing Libraries"
   ]
  },
  {
   "cell_type": "code",
   "execution_count": 22,
   "metadata": {
    "ExecuteTime": {
     "end_time": "2020-07-07T12:36:29.039379Z",
     "start_time": "2020-07-07T12:36:29.034323Z"
    }
   },
   "outputs": [],
   "source": [
    "import os\n",
    "import geopandas as gpd\n",
    "import ipyleaflet"
   ]
  },
  {
   "cell_type": "code",
   "execution_count": 23,
   "metadata": {
    "ExecuteTime": {
     "end_time": "2020-07-07T12:36:29.802322Z",
     "start_time": "2020-07-07T12:36:29.798363Z"
    }
   },
   "outputs": [],
   "source": [
    "# os.chdir('..')\n",
    "DATA_PATH = '//swiss-shapefiles//'\n",
    "file_name = 'CHE_adm0.shp'"
   ]
  },
  {
   "cell_type": "markdown",
   "metadata": {},
   "source": [
    "### Reading in the Shapefile"
   ]
  },
  {
   "cell_type": "code",
   "execution_count": 24,
   "metadata": {
    "ExecuteTime": {
     "end_time": "2020-07-07T12:36:32.476559Z",
     "start_time": "2020-07-07T12:36:32.379523Z"
    }
   },
   "outputs": [
    {
     "data": {
      "text/html": [
       "<div>\n",
       "<style scoped>\n",
       "    .dataframe tbody tr th:only-of-type {\n",
       "        vertical-align: middle;\n",
       "    }\n",
       "\n",
       "    .dataframe tbody tr th {\n",
       "        vertical-align: top;\n",
       "    }\n",
       "\n",
       "    .dataframe thead th {\n",
       "        text-align: right;\n",
       "    }\n",
       "</style>\n",
       "<table border=\"1\" class=\"dataframe\">\n",
       "  <thead>\n",
       "    <tr style=\"text-align: right;\">\n",
       "      <th></th>\n",
       "      <th>ID_0</th>\n",
       "      <th>ISO</th>\n",
       "      <th>NAME_ENGLI</th>\n",
       "      <th>NAME_ISO</th>\n",
       "      <th>NAME_FAO</th>\n",
       "      <th>NAME_LOCAL</th>\n",
       "      <th>NAME_OBSOL</th>\n",
       "      <th>NAME_VARIA</th>\n",
       "      <th>NAME_NONLA</th>\n",
       "      <th>NAME_FRENC</th>\n",
       "      <th>...</th>\n",
       "      <th>CARICOM</th>\n",
       "      <th>EU</th>\n",
       "      <th>CAN</th>\n",
       "      <th>ACP</th>\n",
       "      <th>Landlocked</th>\n",
       "      <th>AOSIS</th>\n",
       "      <th>SIDS</th>\n",
       "      <th>Islands</th>\n",
       "      <th>LDC</th>\n",
       "      <th>geometry</th>\n",
       "    </tr>\n",
       "  </thead>\n",
       "  <tbody>\n",
       "    <tr>\n",
       "      <th>0</th>\n",
       "      <td>223</td>\n",
       "      <td>CHE</td>\n",
       "      <td>Switzerland</td>\n",
       "      <td>SWITZERLAND</td>\n",
       "      <td>Switzerland</td>\n",
       "      <td>Schweiz|Suisse|Svizzera</td>\n",
       "      <td>None</td>\n",
       "      <td>Schweiz|Svizzera|Svizra|Swiss Confederation|Co...</td>\n",
       "      <td>None</td>\n",
       "      <td>Suisse</td>\n",
       "      <td>...</td>\n",
       "      <td>0.0</td>\n",
       "      <td>0.0</td>\n",
       "      <td>0.0</td>\n",
       "      <td>0.0</td>\n",
       "      <td>1.0</td>\n",
       "      <td>0.0</td>\n",
       "      <td>0.0</td>\n",
       "      <td>0.0</td>\n",
       "      <td>0.0</td>\n",
       "      <td>MULTIPOLYGON (((10.22766 46.61207, 10.22734 46...</td>\n",
       "    </tr>\n",
       "  </tbody>\n",
       "</table>\n",
       "<p>1 rows × 68 columns</p>\n",
       "</div>"
      ],
      "text/plain": [
       "   ID_0  ISO   NAME_ENGLI     NAME_ISO     NAME_FAO               NAME_LOCAL  \\\n",
       "0   223  CHE  Switzerland  SWITZERLAND  Switzerland  Schweiz|Suisse|Svizzera   \n",
       "\n",
       "  NAME_OBSOL                                         NAME_VARIA NAME_NONLA  \\\n",
       "0       None  Schweiz|Svizzera|Svizra|Swiss Confederation|Co...       None   \n",
       "\n",
       "  NAME_FRENC  ... CARICOM   EU  CAN  ACP Landlocked AOSIS SIDS Islands  LDC  \\\n",
       "0     Suisse  ...     0.0  0.0  0.0  0.0        1.0   0.0  0.0     0.0  0.0   \n",
       "\n",
       "                                            geometry  \n",
       "0  MULTIPOLYGON (((10.22766 46.61207, 10.22734 46...  \n",
       "\n",
       "[1 rows x 68 columns]"
      ]
     },
     "execution_count": 24,
     "metadata": {},
     "output_type": "execute_result"
    }
   ],
   "source": [
    "swiss = gpd.read_file(os.getcwd() + DATA_PATH + file_name)\n",
    "swiss.head()"
   ]
  },
  {
   "cell_type": "markdown",
   "metadata": {},
   "source": [
    "### Visualizing the Shapefile"
   ]
  },
  {
   "cell_type": "code",
   "execution_count": 25,
   "metadata": {
    "ExecuteTime": {
     "end_time": "2020-07-07T12:36:34.568526Z",
     "start_time": "2020-07-07T12:36:34.563524Z"
    }
   },
   "outputs": [
    {
     "name": "stdout",
     "output_type": "stream",
     "text": [
      "POINT (8.230251523818328 46.80106704687775)\n"
     ]
    }
   ],
   "source": [
    "map_center = swiss['geometry'].centroid[0]\n",
    "print(map_center)"
   ]
  },
  {
   "cell_type": "code",
   "execution_count": 31,
   "metadata": {
    "ExecuteTime": {
     "end_time": "2020-07-07T12:50:45.353393Z",
     "start_time": "2020-07-07T12:50:44.820415Z"
    }
   },
   "outputs": [
    {
     "data": {
      "application/vnd.jupyter.widget-view+json": {
       "model_id": "18300860bf2f4ebaa6808b024cac40e1",
       "version_major": 2,
       "version_minor": 0
      },
      "text/plain": [
       "Map(center=[46.801067046877755, 8.230251523818328], controls=(ZoomControl(options=['position', 'zoom_in_text',…"
      ]
     },
     "metadata": {},
     "output_type": "display_data"
    }
   ],
   "source": [
    "m = ipyleaflet.Map(center=[map_center.y, map_center.x], zoom=7)\n",
    "topo_layer = ipyleaflet.basemap_to_tiles(ipyleaflet.basemaps.Esri.WorldTopoMap)\n",
    "m.add_layer(topo_layer)\n",
    "swiss_layer = ipyleaflet.GeoData(geo_dataframe=swiss,\n",
    "                                      style={\n",
    "                                          'color': 'black',\n",
    "                                          'opacity': 1,\n",
    "                                          'fillOpacity': 0.5,\n",
    "                                          'weight': 1,\n",
    "                                          'fillColor': '#01796F'\n",
    "                                      })\n",
    "m.add_layer(swiss_layer)\n",
    "m"
   ]
  },
  {
   "cell_type": "code",
   "execution_count": null,
   "metadata": {},
   "outputs": [],
   "source": []
  }
 ],
 "metadata": {
  "kernelspec": {
   "display_name": "Python 3",
   "language": "python",
   "name": "python3"
  },
  "language_info": {
   "codemirror_mode": {
    "name": "ipython",
    "version": 3
   },
   "file_extension": ".py",
   "mimetype": "text/x-python",
   "name": "python",
   "nbconvert_exporter": "python",
   "pygments_lexer": "ipython3",
   "version": "3.7.4"
  },
  "toc": {
   "base_numbering": 1,
   "nav_menu": {},
   "number_sections": false,
   "sideBar": true,
   "skip_h1_title": false,
   "title_cell": "Table of Contents",
   "title_sidebar": "Contents",
   "toc_cell": false,
   "toc_position": {},
   "toc_section_display": true,
   "toc_window_display": false
  },
  "varInspector": {
   "cols": {
    "lenName": 16,
    "lenType": 16,
    "lenVar": 40
   },
   "kernels_config": {
    "python": {
     "delete_cmd_postfix": "",
     "delete_cmd_prefix": "del ",
     "library": "var_list.py",
     "varRefreshCmd": "print(var_dic_list())"
    },
    "r": {
     "delete_cmd_postfix": ") ",
     "delete_cmd_prefix": "rm(",
     "library": "var_list.r",
     "varRefreshCmd": "cat(var_dic_list()) "
    }
   },
   "types_to_exclude": [
    "module",
    "function",
    "builtin_function_or_method",
    "instance",
    "_Feature"
   ],
   "window_display": false
  }
 },
 "nbformat": 4,
 "nbformat_minor": 2
}
