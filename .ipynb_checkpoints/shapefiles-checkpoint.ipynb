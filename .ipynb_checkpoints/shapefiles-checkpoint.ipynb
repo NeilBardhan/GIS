{
 "cells": [
  {
   "cell_type": "markdown",
   "metadata": {},
   "source": [
    "# Handling Shapefiles in Python"
   ]
  },
  {
   "cell_type": "markdown",
   "metadata": {},
   "source": [
    "Shapefiles are one of the most popular file formats for storing **vector** geospatial data. The shapefile was created by **[Esri](https://www.esri.com/en-us/home)**, the makers of ArcGIS in the early 1990s. You can take a deep dive into the whitepaper **[here](https://www.esri.com/library/whitepapers/pdfs/shapefile.pdf)**.\n",
    "\n",
    "**[GADM](https://gadm.org/download_country_v3.html)** is a great source from where you can download shapefiles for the country of your choice. I will be using the shapefiles of **Switzerland** for this example.\n",
    "\n",
    "Shapefiles have a file extension of `.shp` After downloading the `.zip` file and extracting the contents, you should note two important things.\n",
    "1. The data are arranged into a hierarchy. The filenames end with $adm_{0}$, $adm_{1}$ or $adm_{n}$. They indicate the levels of **administrative regions** in that country. \n",
    "    *  $adm_{0}$ indicates that the shapefile contains geometric data pertaining to the National/Federal level. \n",
    "    *  $adm_{1}$ indicates that the shapefile contains geometric data for the states and provinical level.\n",
    "    * The levels get finer in granularity based on how many divisions of government there are in a single country. Switzerland only has administrative levels up to $adm_{1}$, the United States has administrative levels down to $adm_{2}$ (county/district). \n",
    "    *  Other geometric datasets might have finer levels of granularity. When looking for geospatial data, always ensure that you have the correct granularity of the data. If you are working on mapping public transport routes a shapefile containing town/city level granularity might better suit your needs than a shapefile with state/province granularity.\n",
    "2. Apart from the `.shp` file there are files bearing the same name and having different extensions. Let us look at what they signify. \n",
    "    * `.shp` - This is the main data file. It is a variable-record-length file in which each record describes a **shape with a list of its geometries**.\n",
    "    * `.shx` - This is the **Index file**. Each record contains the offset of the corresponding main file record from the beginning of the main file.\n",
    "    * `.dbf` - This is the dBASE Table file. **DBF contains feature attributes** with one record per feature. The one-to-one relationship between geometry and attributes is based on record number. Attribute records in the dBASE file must be in the same order as records in the main file.\n",
    "    * `.cpg` - An optional file that can be used to specify the codepage for **identifying the character set** to be used.\n",
    "    * `.prj` - Projections Definition file; **stores coordinate system information**.\n",
    "    \n",
    "The `.shp`, `.shx` and `.prj` files must always be in the same directory structure. Failing that would make a singular shapefile unreadable as we would lose the index data along with the record locators for geospatial **features**.\n",
    "\n",
    "A shapefile can only contain **features** of a single type. A shapefile of Points can only accommodate Point geometries. Similarly a shapefile of Lines can only have Line geometries and so on. If we want to analyze the prevalence of hospitals in a certain country, we would need 2 separate shapefiles, one containing the Polygons (by administrative region; district/county or state) and one containing the Points (hospital location data). We can then overlay the Points shapefile on top of the Polygon shapefile and conduct our analysis."
   ]
  },
  {
   "cell_type": "markdown",
   "metadata": {},
   "source": [
    "## Opening Shapefiles in QGIS"
   ]
  },
  {
   "cell_type": "markdown",
   "metadata": {},
   "source": [
    "There are plenty of ways to view the contents of a shapefile. The quickest and easiest way to do so is to use **[QGIS]( https://qgis.org/en/site/forusers/download.html)**, a powerful GIS mapping software. To load a shapefile into QGIS, simply follow these steps - \n",
    "  1. Assuming you have QGIS installed, open the program.\n",
    "  2. From the menu bar, **Layer** $->$ **Add Layer** $->$ **Add Vector Layer...**\n",
    "  3. Select your **Source Type** as `File`.\n",
    "  4. From the **Source** textbox, navigate to the directory containing your `.shp` file.\n",
    "  5. Select the `.shp` file, and click on the **add** button to **add** the shapefile as a layer to the QGIS project.\n",
    "  6. You can repeat this process to add more shapefiles into the project from the same dialog box. Once completed, hit **Close**."
   ]
  },
  {
   "cell_type": "markdown",
   "metadata": {},
   "source": [
    "## Handling Shapefiles using Python"
   ]
  },
  {
   "cell_type": "markdown",
   "metadata": {},
   "source": [
    "While QGIS is very convenient it is a manual process. To overcome that we need to be able to handle shapefiles programmatically. In Python this can be done using the excellent **[geopandas](https://geopandas.org/)** library."
   ]
  },
  {
   "cell_type": "markdown",
   "metadata": {},
   "source": [
    "### Importing Libraries"
   ]
  },
  {
   "cell_type": "code",
   "execution_count": 1,
   "metadata": {
    "ExecuteTime": {
     "end_time": "2020-07-07T18:00:43.151448Z",
     "start_time": "2020-07-07T18:00:41.807450Z"
    }
   },
   "outputs": [],
   "source": [
    "import os\n",
    "import geopandas as gpd\n",
    "import ipyleaflet\n",
    "import numpy as np"
   ]
  },
  {
   "cell_type": "code",
   "execution_count": 2,
   "metadata": {
    "ExecuteTime": {
     "end_time": "2020-07-07T18:00:43.156451Z",
     "start_time": "2020-07-07T18:00:43.153449Z"
    }
   },
   "outputs": [],
   "source": [
    "# os.chdir('..')\n",
    "DATA_PATH = '//swiss-shapefiles//'\n",
    "file_name = 'CHE_adm0.shp'"
   ]
  },
  {
   "cell_type": "markdown",
   "metadata": {},
   "source": [
    "### Reading in the Shapefile"
   ]
  },
  {
   "cell_type": "code",
   "execution_count": 3,
   "metadata": {
    "ExecuteTime": {
     "end_time": "2020-07-07T18:00:43.314449Z",
     "start_time": "2020-07-07T18:00:43.159451Z"
    },
    "scrolled": true
   },
   "outputs": [
    {
     "data": {
      "text/html": [
       "<div>\n",
       "<style scoped>\n",
       "    .dataframe tbody tr th:only-of-type {\n",
       "        vertical-align: middle;\n",
       "    }\n",
       "\n",
       "    .dataframe tbody tr th {\n",
       "        vertical-align: top;\n",
       "    }\n",
       "\n",
       "    .dataframe thead th {\n",
       "        text-align: right;\n",
       "    }\n",
       "</style>\n",
       "<table border=\"1\" class=\"dataframe\">\n",
       "  <thead>\n",
       "    <tr style=\"text-align: right;\">\n",
       "      <th></th>\n",
       "      <th>ID_0</th>\n",
       "      <th>ISO</th>\n",
       "      <th>NAME_ENGLI</th>\n",
       "      <th>NAME_ISO</th>\n",
       "      <th>NAME_FAO</th>\n",
       "      <th>NAME_LOCAL</th>\n",
       "      <th>NAME_OBSOL</th>\n",
       "      <th>NAME_VARIA</th>\n",
       "      <th>NAME_NONLA</th>\n",
       "      <th>NAME_FRENC</th>\n",
       "      <th>...</th>\n",
       "      <th>CARICOM</th>\n",
       "      <th>EU</th>\n",
       "      <th>CAN</th>\n",
       "      <th>ACP</th>\n",
       "      <th>Landlocked</th>\n",
       "      <th>AOSIS</th>\n",
       "      <th>SIDS</th>\n",
       "      <th>Islands</th>\n",
       "      <th>LDC</th>\n",
       "      <th>geometry</th>\n",
       "    </tr>\n",
       "  </thead>\n",
       "  <tbody>\n",
       "    <tr>\n",
       "      <th>0</th>\n",
       "      <td>223</td>\n",
       "      <td>CHE</td>\n",
       "      <td>Switzerland</td>\n",
       "      <td>SWITZERLAND</td>\n",
       "      <td>Switzerland</td>\n",
       "      <td>Schweiz|Suisse|Svizzera</td>\n",
       "      <td>None</td>\n",
       "      <td>Schweiz|Svizzera|Svizra|Swiss Confederation|Co...</td>\n",
       "      <td>None</td>\n",
       "      <td>Suisse</td>\n",
       "      <td>...</td>\n",
       "      <td>0.0</td>\n",
       "      <td>0.0</td>\n",
       "      <td>0.0</td>\n",
       "      <td>0.0</td>\n",
       "      <td>1.0</td>\n",
       "      <td>0.0</td>\n",
       "      <td>0.0</td>\n",
       "      <td>0.0</td>\n",
       "      <td>0.0</td>\n",
       "      <td>MULTIPOLYGON (((10.22766 46.61207, 10.22734 46...</td>\n",
       "    </tr>\n",
       "  </tbody>\n",
       "</table>\n",
       "<p>1 rows × 68 columns</p>\n",
       "</div>"
      ],
      "text/plain": [
       "   ID_0  ISO   NAME_ENGLI     NAME_ISO     NAME_FAO               NAME_LOCAL  \\\n",
       "0   223  CHE  Switzerland  SWITZERLAND  Switzerland  Schweiz|Suisse|Svizzera   \n",
       "\n",
       "  NAME_OBSOL                                         NAME_VARIA NAME_NONLA  \\\n",
       "0       None  Schweiz|Svizzera|Svizra|Swiss Confederation|Co...       None   \n",
       "\n",
       "  NAME_FRENC  ... CARICOM   EU  CAN  ACP Landlocked AOSIS SIDS Islands  LDC  \\\n",
       "0     Suisse  ...     0.0  0.0  0.0  0.0        1.0   0.0  0.0     0.0  0.0   \n",
       "\n",
       "                                            geometry  \n",
       "0  MULTIPOLYGON (((10.22766 46.61207, 10.22734 46...  \n",
       "\n",
       "[1 rows x 68 columns]"
      ]
     },
     "execution_count": 3,
     "metadata": {},
     "output_type": "execute_result"
    }
   ],
   "source": [
    "swiss = gpd.read_file(os.getcwd() + DATA_PATH + file_name)\n",
    "swiss.head()"
   ]
  },
  {
   "cell_type": "markdown",
   "metadata": {},
   "source": [
    "We can read in shapefiles by passing in the `.shp` file to `geopandas`' `read_file` function. `geopanadas` generates a `GeoDataFrame` object, similar to a Pandas dataframe. Each row in a `GeoDataFrame` is a **Feature**. The `geometry` column of a `GeoDataFrame` row contains the geometric objects defined in the shapefile for that Feature. The other columns are the contextual attributes (name, id) of that place.\n",
    "Multiple rows indicate that the shapefile is a **FeatureCollection** containing multiple, different geometric objects **of the same shape (points, lines, polygons).**"
   ]
  },
  {
   "cell_type": "markdown",
   "metadata": {},
   "source": [
    "### Visualizing the Shapefile"
   ]
  },
  {
   "cell_type": "markdown",
   "metadata": {},
   "source": [
    "Geospatial data is all about shapes. The first step of checking if you have the right geospatial data is to plot it on a **basemap**. Plotting forms the starting point of geospatial data science. It gives you an idea of the types of shapes you will be working with, the geographic scale of the data and the number of **features**. To visualize this shapefile, I am using **[ipyleaflet](https://ipyleaflet.readthedocs.io/en/latest/index.html)**, a powerful extension of **leaflet** for use in Jupyter Notebooks."
   ]
  },
  {
   "cell_type": "code",
   "execution_count": 4,
   "metadata": {
    "ExecuteTime": {
     "end_time": "2020-07-07T18:00:43.325486Z",
     "start_time": "2020-07-07T18:00:43.316456Z"
    }
   },
   "outputs": [
    {
     "name": "stdout",
     "output_type": "stream",
     "text": [
      "POINT (8.230251523818328 46.80106704687775)\n"
     ]
    }
   ],
   "source": [
    "map_center = swiss['geometry'].centroid[0]\n",
    "print(map_center)"
   ]
  },
  {
   "cell_type": "code",
   "execution_count": 5,
   "metadata": {
    "ExecuteTime": {
     "end_time": "2020-07-07T18:00:43.900449Z",
     "start_time": "2020-07-07T18:00:43.327449Z"
    }
   },
   "outputs": [
    {
     "data": {
      "application/vnd.jupyter.widget-view+json": {
       "model_id": "23d3b500a40c404ab387751549b967c5",
       "version_major": 2,
       "version_minor": 0
      },
      "text/plain": [
       "Map(center=[46.801067046877755, 8.230251523818328], controls=(ZoomControl(options=['position', 'zoom_in_text',…"
      ]
     },
     "metadata": {},
     "output_type": "display_data"
    }
   ],
   "source": [
    "m = ipyleaflet.Map(center=[map_center.y, map_center.x], zoom=7)\n",
    "topo_layer = ipyleaflet.basemap_to_tiles(ipyleaflet.basemaps.Esri.WorldTopoMap)\n",
    "m.add_layer(topo_layer)\n",
    "swiss_layer = ipyleaflet.GeoData(geo_dataframe=swiss,\n",
    "                                      style={\n",
    "                                          'color': 'black',\n",
    "                                          'opacity': 1,\n",
    "                                          'fillOpacity': 0.5,\n",
    "                                          'weight': 1,\n",
    "                                          'fillColor': '#01796F'\n",
    "                                      })\n",
    "m.add_layer(swiss_layer)\n",
    "m"
   ]
  },
  {
   "cell_type": "markdown",
   "metadata": {},
   "source": [
    "The above 2 cells initialize and plot our shapefile. `ipyleaflet` requires that maps have a **center** and a **zoom** level. I recommend setting the center to the **centroid** of your `GeoDataFrame`. The zoom level can be experimented with and set according to your preferences.\n",
    "\n",
    "The $adm_{0}$ files will plot the geographical boundaries of the country. Since, the geographical boundaries form a closed shape, we have one feature, a `MultiPolygon` displayed on the above map, certain countries will have multiple features because of multiple disconnected parts forming one geopolitical entity. Let's look into the $adm_{1}$ shapefile."
   ]
  },
  {
   "cell_type": "code",
   "execution_count": 6,
   "metadata": {
    "ExecuteTime": {
     "end_time": "2020-07-07T18:00:44.056451Z",
     "start_time": "2020-07-07T18:00:43.902450Z"
    }
   },
   "outputs": [
    {
     "name": "stdout",
     "output_type": "stream",
     "text": [
      "(26, 13)\n"
     ]
    },
    {
     "data": {
      "text/html": [
       "<div>\n",
       "<style scoped>\n",
       "    .dataframe tbody tr th:only-of-type {\n",
       "        vertical-align: middle;\n",
       "    }\n",
       "\n",
       "    .dataframe tbody tr th {\n",
       "        vertical-align: top;\n",
       "    }\n",
       "\n",
       "    .dataframe thead th {\n",
       "        text-align: right;\n",
       "    }\n",
       "</style>\n",
       "<table border=\"1\" class=\"dataframe\">\n",
       "  <thead>\n",
       "    <tr style=\"text-align: right;\">\n",
       "      <th></th>\n",
       "      <th>ID_0</th>\n",
       "      <th>ISO</th>\n",
       "      <th>NAME_0</th>\n",
       "      <th>ID_1</th>\n",
       "      <th>NAME_1</th>\n",
       "      <th>HASC_1</th>\n",
       "      <th>CCN_1</th>\n",
       "      <th>CCA_1</th>\n",
       "      <th>TYPE_1</th>\n",
       "      <th>ENGTYPE_1</th>\n",
       "      <th>NL_NAME_1</th>\n",
       "      <th>VARNAME_1</th>\n",
       "      <th>geometry</th>\n",
       "    </tr>\n",
       "  </thead>\n",
       "  <tbody>\n",
       "    <tr>\n",
       "      <th>0</th>\n",
       "      <td>223</td>\n",
       "      <td>CHE</td>\n",
       "      <td>Switzerland</td>\n",
       "      <td>1</td>\n",
       "      <td>Aargau</td>\n",
       "      <td>CH.AG</td>\n",
       "      <td>0</td>\n",
       "      <td>None</td>\n",
       "      <td>Canton|Kanton|Chantun</td>\n",
       "      <td>Canton</td>\n",
       "      <td>None</td>\n",
       "      <td>Argovia|ArgÂ¢via|Argovie</td>\n",
       "      <td>POLYGON ((8.22654 47.60509, 8.22665 47.60507, ...</td>\n",
       "    </tr>\n",
       "    <tr>\n",
       "      <th>1</th>\n",
       "      <td>223</td>\n",
       "      <td>CHE</td>\n",
       "      <td>Switzerland</td>\n",
       "      <td>2</td>\n",
       "      <td>Appenzell Ausserrhoden</td>\n",
       "      <td>CH.AR</td>\n",
       "      <td>0</td>\n",
       "      <td>None</td>\n",
       "      <td>Canton|Kanton|Chantun</td>\n",
       "      <td>Canton</td>\n",
       "      <td>None</td>\n",
       "      <td>Appenzell Ausser-Rhoden|Appenzell Outer Rhodes...</td>\n",
       "      <td>POLYGON ((9.54239 47.47059, 9.54387 47.47031, ...</td>\n",
       "    </tr>\n",
       "    <tr>\n",
       "      <th>2</th>\n",
       "      <td>223</td>\n",
       "      <td>CHE</td>\n",
       "      <td>Switzerland</td>\n",
       "      <td>3</td>\n",
       "      <td>Appenzell Innerrhoden</td>\n",
       "      <td>CH.AI</td>\n",
       "      <td>0</td>\n",
       "      <td>None</td>\n",
       "      <td>Canton|Kanton|Chantun</td>\n",
       "      <td>Canton</td>\n",
       "      <td>None</td>\n",
       "      <td>Appenzell Inner-Rhoden|Appenzell Inner Rhodes|...</td>\n",
       "      <td>MULTIPOLYGON (((9.37930 47.38512, 9.37944 47.3...</td>\n",
       "    </tr>\n",
       "    <tr>\n",
       "      <th>3</th>\n",
       "      <td>223</td>\n",
       "      <td>CHE</td>\n",
       "      <td>Switzerland</td>\n",
       "      <td>4</td>\n",
       "      <td>Basel-Landschaft</td>\n",
       "      <td>CH.BL</td>\n",
       "      <td>0</td>\n",
       "      <td>None</td>\n",
       "      <td>Canton|Kanton|Chantun</td>\n",
       "      <td>Canton</td>\n",
       "      <td>None</td>\n",
       "      <td>BÃ¢le-Campagne|Basel-Country|Baselland|Basel-L...</td>\n",
       "      <td>MULTIPOLYGON (((7.38339 47.41924, 7.38057 47.4...</td>\n",
       "    </tr>\n",
       "    <tr>\n",
       "      <th>4</th>\n",
       "      <td>223</td>\n",
       "      <td>CHE</td>\n",
       "      <td>Switzerland</td>\n",
       "      <td>5</td>\n",
       "      <td>Basel-Stadt</td>\n",
       "      <td>CH.BS</td>\n",
       "      <td>0</td>\n",
       "      <td>None</td>\n",
       "      <td>Canton|Kanton|Chantun</td>\n",
       "      <td>Canton</td>\n",
       "      <td>None</td>\n",
       "      <td>BÃ¢le-Ville|Basel-City|Basel-Town|Basilea-Cita...</td>\n",
       "      <td>POLYGON ((7.69256 47.59924, 7.69163 47.59853, ...</td>\n",
       "    </tr>\n",
       "  </tbody>\n",
       "</table>\n",
       "</div>"
      ],
      "text/plain": [
       "   ID_0  ISO       NAME_0  ID_1                  NAME_1 HASC_1  CCN_1 CCA_1  \\\n",
       "0   223  CHE  Switzerland     1                  Aargau  CH.AG      0  None   \n",
       "1   223  CHE  Switzerland     2  Appenzell Ausserrhoden  CH.AR      0  None   \n",
       "2   223  CHE  Switzerland     3   Appenzell Innerrhoden  CH.AI      0  None   \n",
       "3   223  CHE  Switzerland     4        Basel-Landschaft  CH.BL      0  None   \n",
       "4   223  CHE  Switzerland     5             Basel-Stadt  CH.BS      0  None   \n",
       "\n",
       "                  TYPE_1 ENGTYPE_1 NL_NAME_1  \\\n",
       "0  Canton|Kanton|Chantun    Canton      None   \n",
       "1  Canton|Kanton|Chantun    Canton      None   \n",
       "2  Canton|Kanton|Chantun    Canton      None   \n",
       "3  Canton|Kanton|Chantun    Canton      None   \n",
       "4  Canton|Kanton|Chantun    Canton      None   \n",
       "\n",
       "                                           VARNAME_1  \\\n",
       "0                           Argovia|ArgÂ¢via|Argovie   \n",
       "1  Appenzell Ausser-Rhoden|Appenzell Outer Rhodes...   \n",
       "2  Appenzell Inner-Rhoden|Appenzell Inner Rhodes|...   \n",
       "3  BÃ¢le-Campagne|Basel-Country|Baselland|Basel-L...   \n",
       "4  BÃ¢le-Ville|Basel-City|Basel-Town|Basilea-Cita...   \n",
       "\n",
       "                                            geometry  \n",
       "0  POLYGON ((8.22654 47.60509, 8.22665 47.60507, ...  \n",
       "1  POLYGON ((9.54239 47.47059, 9.54387 47.47031, ...  \n",
       "2  MULTIPOLYGON (((9.37930 47.38512, 9.37944 47.3...  \n",
       "3  MULTIPOLYGON (((7.38339 47.41924, 7.38057 47.4...  \n",
       "4  POLYGON ((7.69256 47.59924, 7.69163 47.59853, ...  "
      ]
     },
     "execution_count": 6,
     "metadata": {},
     "output_type": "execute_result"
    }
   ],
   "source": [
    "canton_file = 'CHE_adm1.shp'\n",
    "swiss_cantons = gpd.read_file(os.getcwd() + DATA_PATH + canton_file)\n",
    "print(swiss_cantons.shape)\n",
    "swiss_cantons.head()"
   ]
  },
  {
   "cell_type": "markdown",
   "metadata": {},
   "source": [
    "The provincial level regions in Switzerland are called **[Cantons](https://en.wikipedia.org/wiki/Cantons_of_Switzerland)**. There are 26 cantons in Switzerland and 26 rows in our `GeoDataFrame`, each row is a Feature containing the `geometry` and attributes of the cantons as visualized below"
   ]
  },
  {
   "cell_type": "code",
   "execution_count": 7,
   "metadata": {
    "ExecuteTime": {
     "end_time": "2020-07-07T18:00:45.962452Z",
     "start_time": "2020-07-07T18:00:44.059467Z"
    }
   },
   "outputs": [
    {
     "data": {
      "application/vnd.jupyter.widget-view+json": {
       "model_id": "96df7ebca9bb4065a7dbeef36e3559bb",
       "version_major": 2,
       "version_minor": 0
      },
      "text/plain": [
       "Map(center=[46.801067046877755, 8.230251523818328], controls=(ZoomControl(options=['position', 'zoom_in_text',…"
      ]
     },
     "metadata": {},
     "output_type": "display_data"
    }
   ],
   "source": [
    "m = ipyleaflet.Map(center=[map_center.y, map_center.x], zoom=7)\n",
    "topo_layer = ipyleaflet.basemap_to_tiles(ipyleaflet.basemaps.Esri.WorldTopoMap)\n",
    "m.add_layer(topo_layer)\n",
    "swiss_layer = ipyleaflet.GeoData(geo_dataframe=swiss_cantons,\n",
    "                                      style={\n",
    "                                          'color': 'black',\n",
    "                                          'opacity': 1,\n",
    "                                          'fillOpacity': 0.4,\n",
    "                                          'weight': 1,\n",
    "                                          'fillColor': '#01796F'\n",
    "                                      },\n",
    "                                hover_style={\n",
    "                                    'fillOpacity' : 0.8\n",
    "                                })\n",
    "m.add_layer(swiss_layer)\n",
    "m"
   ]
  },
  {
   "cell_type": "code",
   "execution_count": 8,
   "metadata": {
    "ExecuteTime": {
     "end_time": "2020-07-07T18:00:45.968449Z",
     "start_time": "2020-07-07T18:00:45.964452Z"
    }
   },
   "outputs": [],
   "source": [
    "# cantons = []\n",
    "# for i, obj in swiss_cantons.iterrows():\n",
    "# #     print(obj['NAME_1'])\n",
    "#     cantons.append(obj['NAME_1'])\n",
    "# cantons"
   ]
  },
  {
   "cell_type": "code",
   "execution_count": 9,
   "metadata": {
    "ExecuteTime": {
     "end_time": "2020-07-07T18:00:45.979452Z",
     "start_time": "2020-07-07T18:00:45.970449Z"
    }
   },
   "outputs": [
    {
     "data": {
      "text/plain": [
       "['#c99d9b',\n",
       " '#df7797',\n",
       " '#92c2b0',\n",
       " '#4ca670',\n",
       " '#b78caf',\n",
       " '#f2139d',\n",
       " '#6da262',\n",
       " '#6bb04e',\n",
       " '#16973c',\n",
       " '#83ea90',\n",
       " '#f5b9f9',\n",
       " '#41f34e',\n",
       " '#9e61e1',\n",
       " '#fde085',\n",
       " '#59fc46',\n",
       " '#f8daed',\n",
       " '#5746a8',\n",
       " '#938547',\n",
       " '#edda09',\n",
       " '#ac2ece',\n",
       " '#653dab',\n",
       " '#9160ba',\n",
       " '#3140eb',\n",
       " '#0a8c75',\n",
       " '#5b0d20',\n",
       " '#9f6dfe']"
      ]
     },
     "execution_count": 9,
     "metadata": {},
     "output_type": "execute_result"
    }
   ],
   "source": [
    "color_list = ['#%02x%02x%02x' % tuple(np.random.choice(range(256), size=3)) for i in range(swiss_cantons.shape[0])]\n",
    "color_list"
   ]
  },
  {
   "cell_type": "code",
   "execution_count": 10,
   "metadata": {
    "ExecuteTime": {
     "end_time": "2020-07-07T18:00:45.985452Z",
     "start_time": "2020-07-07T18:00:45.981452Z"
    }
   },
   "outputs": [],
   "source": [
    "swiss_cantons['MAP_COLOR'] = color_list\n",
    "swiss_cantons"
   ]
  },
  {
   "cell_type": "code",
   "execution_count": 12,
   "metadata": {
    "ExecuteTime": {
     "end_time": "2020-07-07T18:00:46.391455Z",
     "start_time": "2020-07-07T18:00:46.387450Z"
    }
   },
   "outputs": [],
   "source": [
    "# def show_color(feature):\n",
    "#     return {\n",
    "#         'color': 'black',\n",
    "#         'fillColor': feature['MAP_COLOR'],\n",
    "#     }"
   ]
  },
  {
   "cell_type": "code",
   "execution_count": null,
   "metadata": {},
   "outputs": [],
   "source": []
  }
 ],
 "metadata": {
  "kernelspec": {
   "display_name": "Python 3",
   "language": "python",
   "name": "python3"
  },
  "language_info": {
   "codemirror_mode": {
    "name": "ipython",
    "version": 3
   },
   "file_extension": ".py",
   "mimetype": "text/x-python",
   "name": "python",
   "nbconvert_exporter": "python",
   "pygments_lexer": "ipython3",
   "version": "3.7.4"
  },
  "toc": {
   "base_numbering": 1,
   "nav_menu": {},
   "number_sections": false,
   "sideBar": true,
   "skip_h1_title": false,
   "title_cell": "Table of Contents",
   "title_sidebar": "Contents",
   "toc_cell": false,
   "toc_position": {},
   "toc_section_display": true,
   "toc_window_display": false
  },
  "varInspector": {
   "cols": {
    "lenName": 16,
    "lenType": 16,
    "lenVar": 40
   },
   "kernels_config": {
    "python": {
     "delete_cmd_postfix": "",
     "delete_cmd_prefix": "del ",
     "library": "var_list.py",
     "varRefreshCmd": "print(var_dic_list())"
    },
    "r": {
     "delete_cmd_postfix": ") ",
     "delete_cmd_prefix": "rm(",
     "library": "var_list.r",
     "varRefreshCmd": "cat(var_dic_list()) "
    }
   },
   "types_to_exclude": [
    "module",
    "function",
    "builtin_function_or_method",
    "instance",
    "_Feature"
   ],
   "window_display": false
  }
 },
 "nbformat": 4,
 "nbformat_minor": 2
}
